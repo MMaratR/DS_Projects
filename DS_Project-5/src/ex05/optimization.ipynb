{
 "cells": [
  {
   "cell_type": "markdown",
   "metadata": {},
   "source": [
    "# Упражнение 05 : Оптимизация Pandas"
   ]
  },
  {
   "cell_type": "code",
   "execution_count": 104,
   "metadata": {},
   "outputs": [],
   "source": [
    "import pandas as pd"
   ]
  },
  {
   "cell_type": "markdown",
   "metadata": {},
   "source": [
    "## прочитайте файл fines.csv, который вы сохранили в предыдущем упражнении"
   ]
  },
  {
   "cell_type": "code",
   "execution_count": 105,
   "metadata": {},
   "outputs": [],
   "source": [
    "fines = pd.read_csv('../data/fines.csv')"
   ]
  },
  {
   "cell_type": "markdown",
   "metadata": {},
   "source": [
    "## итерации: во всех следующих подзадачах вам нужно вычислить штрафы/возврат*год для каждой строки и создать новый столбец с вычисленными данными, а также измерить время с помощью магической команды %%timeit в ячейке"
   ]
  },
  {
   "cell_type": "markdown",
   "metadata": {},
   "source": [
    "* цикл: напишите функцию, которая перебирает фрейм данных с помощью for i in range(0, len(df)), iloc и append() для добавления в список. Присвойте результат работы функции новому столбцу в фрейме данных"
   ]
  },
  {
   "cell_type": "code",
   "execution_count": 106,
   "metadata": {},
   "outputs": [
    {
     "name": "stdout",
     "output_type": "stream",
     "text": [
      "14.94 ms ± 0 ns per loop (mean ± std. dev. of 1 run, 1 loop each)\n"
     ]
    }
   ],
   "source": [
    "%%timeit -n1 -r1 -p4\n",
    "def func_loop():\n",
    "    fin_ref_year = []\n",
    "    for i in range(0, len(fines)):\n",
    "        fin_ref_year.append(fines['Fines'].iloc[i] / fines['Refund'].iloc[i] * fines['Year'].iloc[i])\n",
    "    return fin_ref_year\n",
    "\n",
    "fines['fin_ref_year'] = func_loop()"
   ]
  },
  {
   "cell_type": "markdown",
   "metadata": {},
   "source": [
    "* сделайте это с помощью iterrows()"
   ]
  },
  {
   "cell_type": "code",
   "execution_count": 107,
   "metadata": {},
   "outputs": [
    {
     "name": "stdout",
     "output_type": "stream",
     "text": [
      "42.67 ms ± 0 ns per loop (mean ± std. dev. of 1 run, 1 loop each)\n"
     ]
    }
   ],
   "source": [
    "%%timeit -n1 -r1 -p4\n",
    "def func_iter(fines):\n",
    "    fin_ref_year = []\n",
    "    for i, row in fines.iterrows():\n",
    "        fin_ref_year.append(row['Fines'] / row['Refund'] * row['Year'])\n",
    "    return fin_ref_year\n",
    "\n",
    "fines['fin_ref_year'] = func_iter(fines)"
   ]
  },
  {
   "cell_type": "markdown",
   "metadata": {},
   "source": [
    "* сделайте это с помощью apply() и лямбда-функции"
   ]
  },
  {
   "cell_type": "code",
   "execution_count": 108,
   "metadata": {},
   "outputs": [
    {
     "name": "stdout",
     "output_type": "stream",
     "text": [
      "7.217 ms ± 0 ns per loop (mean ± std. dev. of 1 run, 1 loop each)\n"
     ]
    }
   ],
   "source": [
    "%%timeit -n1 -r1 -p4\n",
    "fines['fin_ref_year'] = fines.apply(lambda row: row['Fines'] / row['Refund'] * row['Year'], axis=1)"
   ]
  },
  {
   "cell_type": "markdown",
   "metadata": {},
   "source": [
    "* сделайте это, используя объекты серии из фрейма данных"
   ]
  },
  {
   "cell_type": "code",
   "execution_count": 109,
   "metadata": {},
   "outputs": [
    {
     "name": "stdout",
     "output_type": "stream",
     "text": [
      "412.8 μs ± 0 ns per loop (mean ± std. dev. of 1 run, 1 loop each)\n"
     ]
    }
   ],
   "source": [
    "%%timeit -n1 -r1 -p4\n",
    "def func_series(fines):\n",
    "    fines['fin_ref_year'] = fines['Fines'] / fines['Refund'] * fines['Year']\n",
    "\n",
    "func_series(fines)"
   ]
  },
  {
   "cell_type": "markdown",
   "metadata": {},
   "source": [
    "* сделайте это, как в предыдущей подзадаче , но с помощью метода .values"
   ]
  },
  {
   "cell_type": "code",
   "execution_count": 110,
   "metadata": {},
   "outputs": [
    {
     "name": "stdout",
     "output_type": "stream",
     "text": [
      "272.9 μs ± 0 ns per loop (mean ± std. dev. of 1 run, 1 loop each)\n"
     ]
    }
   ],
   "source": [
    "%%timeit -n1 -r1 -p4\n",
    "def func_values(fines):\n",
    "    fines['fin_ref_year'] = fines['Fines'].values / fines['Refund'].values * fines['Year'].values\n",
    "\n",
    "func_values(fines)"
   ]
  },
  {
   "cell_type": "markdown",
   "metadata": {},
   "source": [
    "## индексирование: измерьте время с помощью волшебной команды %%timeit в ячейке"
   ]
  },
  {
   "cell_type": "markdown",
   "metadata": {},
   "source": [
    "* получить строку для конкретного номера автомобиля, например, «O136HO197RUS»"
   ]
  },
  {
   "cell_type": "code",
   "execution_count": 111,
   "metadata": {},
   "outputs": [
    {
     "name": "stdout",
     "output_type": "stream",
     "text": [
      "597.9 μs ± 0 ns per loop (mean ± std. dev. of 1 run, 1 loop each)\n"
     ]
    }
   ],
   "source": [
    "%%timeit -n1 -r1 -p4\n",
    "fines.loc[fines['CarNumber'] == 'O136HO197RUS']"
   ]
  },
  {
   "cell_type": "markdown",
   "metadata": {},
   "source": [
    "* установите индекс в вашем фрейме данных с помощью CarNumber\n",
    "* опять же, получите строку с тем же номером"
   ]
  },
  {
   "cell_type": "code",
   "execution_count": 112,
   "metadata": {},
   "outputs": [],
   "source": [
    "fines.set_index('CarNumber', inplace=True)"
   ]
  },
  {
   "cell_type": "code",
   "execution_count": 113,
   "metadata": {},
   "outputs": [
    {
     "name": "stdout",
     "output_type": "stream",
     "text": [
      "425.2 μs ± 0 ns per loop (mean ± std. dev. of 1 run, 1 loop each)\n"
     ]
    }
   ],
   "source": [
    "%%timeit -n1 -r1 -p4\n",
    "fines.loc[fines.index == 'O136HO197RUS']"
   ]
  },
  {
   "cell_type": "markdown",
   "metadata": {},
   "source": [
    "## понижающий коэффициент:"
   ]
  },
  {
   "cell_type": "markdown",
   "metadata": {},
   "source": [
    "* запустите df.info(memory_usage=’deep’), обратите внимание на тип данных и использование памяти"
   ]
  },
  {
   "cell_type": "code",
   "execution_count": 114,
   "metadata": {},
   "outputs": [
    {
     "name": "stdout",
     "output_type": "stream",
     "text": [
      "<class 'pandas.core.frame.DataFrame'>\n",
      "Index: 930 entries, Y163O8161RUS to Р978ЕА10RUS\n",
      "Data columns (total 6 columns):\n",
      " #   Column        Non-Null Count  Dtype  \n",
      "---  ------        --------------  -----  \n",
      " 0   Refund        930 non-null    int64  \n",
      " 1   Fines         930 non-null    float64\n",
      " 2   Make          930 non-null    object \n",
      " 3   Model         919 non-null    object \n",
      " 4   Year          930 non-null    int64  \n",
      " 5   fin_ref_year  930 non-null    float64\n",
      "dtypes: float64(2), int64(2), object(2)\n",
      "memory usage: 182.1 KB\n"
     ]
    }
   ],
   "source": [
    "fines.info(memory_usage='deep')"
   ]
  },
  {
   "cell_type": "code",
   "execution_count": 115,
   "metadata": {},
   "outputs": [
    {
     "data": {
      "text/html": [
       "<div>\n",
       "<style scoped>\n",
       "    .dataframe tbody tr th:only-of-type {\n",
       "        vertical-align: middle;\n",
       "    }\n",
       "\n",
       "    .dataframe tbody tr th {\n",
       "        vertical-align: top;\n",
       "    }\n",
       "\n",
       "    .dataframe thead th {\n",
       "        text-align: right;\n",
       "    }\n",
       "</style>\n",
       "<table border=\"1\" class=\"dataframe\">\n",
       "  <thead>\n",
       "    <tr style=\"text-align: right;\">\n",
       "      <th></th>\n",
       "      <th>Refund</th>\n",
       "      <th>Fines</th>\n",
       "      <th>Make</th>\n",
       "      <th>Model</th>\n",
       "      <th>Year</th>\n",
       "      <th>fin_ref_year</th>\n",
       "    </tr>\n",
       "    <tr>\n",
       "      <th>CarNumber</th>\n",
       "      <th></th>\n",
       "      <th></th>\n",
       "      <th></th>\n",
       "      <th></th>\n",
       "      <th></th>\n",
       "      <th></th>\n",
       "    </tr>\n",
       "  </thead>\n",
       "  <tbody>\n",
       "    <tr>\n",
       "      <th>Y163O8161RUS</th>\n",
       "      <td>2</td>\n",
       "      <td>3200.0</td>\n",
       "      <td>Ford</td>\n",
       "      <td>Focus</td>\n",
       "      <td>1989</td>\n",
       "      <td>3182400.0</td>\n",
       "    </tr>\n",
       "    <tr>\n",
       "      <th>E432XX77RUS</th>\n",
       "      <td>1</td>\n",
       "      <td>6500.0</td>\n",
       "      <td>Toyota</td>\n",
       "      <td>Camry</td>\n",
       "      <td>1995</td>\n",
       "      <td>12967500.0</td>\n",
       "    </tr>\n",
       "    <tr>\n",
       "      <th>7184TT36RUS</th>\n",
       "      <td>1</td>\n",
       "      <td>2100.0</td>\n",
       "      <td>Ford</td>\n",
       "      <td>Focus</td>\n",
       "      <td>1984</td>\n",
       "      <td>4166400.0</td>\n",
       "    </tr>\n",
       "    <tr>\n",
       "      <th>X582HE161RUS</th>\n",
       "      <td>2</td>\n",
       "      <td>2000.0</td>\n",
       "      <td>Ford</td>\n",
       "      <td>Focus</td>\n",
       "      <td>2015</td>\n",
       "      <td>2015000.0</td>\n",
       "    </tr>\n",
       "    <tr>\n",
       "      <th>92918M178RUS</th>\n",
       "      <td>1</td>\n",
       "      <td>5700.0</td>\n",
       "      <td>Ford</td>\n",
       "      <td>Focus</td>\n",
       "      <td>2014</td>\n",
       "      <td>11479800.0</td>\n",
       "    </tr>\n",
       "    <tr>\n",
       "      <th>...</th>\n",
       "      <td>...</td>\n",
       "      <td>...</td>\n",
       "      <td>...</td>\n",
       "      <td>...</td>\n",
       "      <td>...</td>\n",
       "      <td>...</td>\n",
       "    </tr>\n",
       "    <tr>\n",
       "      <th>С735АК10RUS</th>\n",
       "      <td>1</td>\n",
       "      <td>1000.0</td>\n",
       "      <td>Volkswagen</td>\n",
       "      <td>Jetta</td>\n",
       "      <td>2000</td>\n",
       "      <td>2000000.0</td>\n",
       "    </tr>\n",
       "    <tr>\n",
       "      <th>О504НК89RUS</th>\n",
       "      <td>2</td>\n",
       "      <td>2000.0</td>\n",
       "      <td>Volkswagen</td>\n",
       "      <td>Touareg</td>\n",
       "      <td>2004</td>\n",
       "      <td>2004000.0</td>\n",
       "    </tr>\n",
       "    <tr>\n",
       "      <th>Е157ВХ05RUS</th>\n",
       "      <td>1</td>\n",
       "      <td>1000.0</td>\n",
       "      <td>Ford</td>\n",
       "      <td>Mondeo</td>\n",
       "      <td>2006</td>\n",
       "      <td>2006000.0</td>\n",
       "    </tr>\n",
       "    <tr>\n",
       "      <th>Е209СУ39RUS</th>\n",
       "      <td>2</td>\n",
       "      <td>2000.0</td>\n",
       "      <td>Volkswagen</td>\n",
       "      <td>Touareg</td>\n",
       "      <td>2002</td>\n",
       "      <td>2002000.0</td>\n",
       "    </tr>\n",
       "    <tr>\n",
       "      <th>Р978ЕА10RUS</th>\n",
       "      <td>1</td>\n",
       "      <td>1000.0</td>\n",
       "      <td>Ford</td>\n",
       "      <td>Mondeo</td>\n",
       "      <td>2008</td>\n",
       "      <td>2008000.0</td>\n",
       "    </tr>\n",
       "  </tbody>\n",
       "</table>\n",
       "<p>930 rows × 6 columns</p>\n",
       "</div>"
      ],
      "text/plain": [
       "              Refund   Fines        Make    Model  Year  fin_ref_year\n",
       "CarNumber                                                            \n",
       "Y163O8161RUS       2  3200.0        Ford    Focus  1989     3182400.0\n",
       "E432XX77RUS        1  6500.0      Toyota    Camry  1995    12967500.0\n",
       "7184TT36RUS        1  2100.0        Ford    Focus  1984     4166400.0\n",
       "X582HE161RUS       2  2000.0        Ford    Focus  2015     2015000.0\n",
       "92918M178RUS       1  5700.0        Ford    Focus  2014    11479800.0\n",
       "...              ...     ...         ...      ...   ...           ...\n",
       "С735АК10RUS        1  1000.0  Volkswagen    Jetta  2000     2000000.0\n",
       "О504НК89RUS        2  2000.0  Volkswagen  Touareg  2004     2004000.0\n",
       "Е157ВХ05RUS        1  1000.0        Ford   Mondeo  2006     2006000.0\n",
       "Е209СУ39RUS        2  2000.0  Volkswagen  Touareg  2002     2002000.0\n",
       "Р978ЕА10RUS        1  1000.0        Ford   Mondeo  2008     2008000.0\n",
       "\n",
       "[930 rows x 6 columns]"
      ]
     },
     "execution_count": 115,
     "metadata": {},
     "output_type": "execute_result"
    }
   ],
   "source": [
    "fines"
   ]
  },
  {
   "cell_type": "markdown",
   "metadata": {},
   "source": [
    "* сделайте копию () вашего исходного фрейма данных в другой оптимизированный фрейм данных"
   ]
  },
  {
   "cell_type": "code",
   "execution_count": 116,
   "metadata": {},
   "outputs": [
    {
     "name": "stdout",
     "output_type": "stream",
     "text": [
      "<class 'pandas.core.frame.DataFrame'>\n",
      "Index: 930 entries, Y163O8161RUS to Р978ЕА10RUS\n",
      "Data columns (total 6 columns):\n",
      " #   Column        Non-Null Count  Dtype   \n",
      "---  ------        --------------  -----   \n",
      " 0   Refund        930 non-null    int8    \n",
      " 1   Fines         930 non-null    float32 \n",
      " 2   Make          930 non-null    category\n",
      " 3   Model         919 non-null    category\n",
      " 4   Year          930 non-null    int16   \n",
      " 5   fin_ref_year  930 non-null    float64 \n",
      "dtypes: category(2), float32(1), float64(1), int16(1), int8(1)\n",
      "memory usage: 72.3 KB\n"
     ]
    }
   ],
   "source": [
    "fines_copy = fines.copy()\n",
    "\n",
    "fines_copy['Refund'] = pd.to_numeric(fines_copy['Refund'], downcast='integer')\n",
    "fines_copy['Year'] = pd.to_numeric(fines_copy['Year'], downcast='integer')\n",
    "fines_copy['Fines'] = pd.to_numeric(fines_copy['Fines'], downcast='float')\n",
    "fines_copy['fin_ref_year'] = pd.to_numeric(fines_copy['fin_ref_year'], downcast='float')\n",
    "\n",
    "fines_copy['Make'] = fines_copy['Make'].astype('category')\n",
    "fines_copy['Model'] = fines_copy['Model'].astype('category')\n",
    "fines_copy.info(memory_usage='deep')"
   ]
  }
 ],
 "metadata": {
  "kernelspec": {
   "display_name": "data",
   "language": "python",
   "name": "python3"
  },
  "language_info": {
   "codemirror_mode": {
    "name": "ipython",
    "version": 3
   },
   "file_extension": ".py",
   "mimetype": "text/x-python",
   "name": "python",
   "nbconvert_exporter": "python",
   "pygments_lexer": "ipython3",
   "version": "3.13.0"
  }
 },
 "nbformat": 4,
 "nbformat_minor": 2
}
