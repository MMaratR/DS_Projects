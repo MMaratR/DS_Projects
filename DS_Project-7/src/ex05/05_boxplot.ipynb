{
 "cells": [
  {
   "cell_type": "markdown",
   "metadata": {},
   "source": [
    "# Упражнение 05 : Картонная схема"
   ]
  },
  {
   "cell_type": "code",
   "execution_count": 112,
   "metadata": {},
   "outputs": [],
   "source": [
    "import matplotlib.pyplot as plt\n",
    "import pandas as pd\n",
    "import sqlite3"
   ]
  },
  {
   "cell_type": "markdown",
   "metadata": {},
   "source": [
    "* используйте данные из файла, считайте их в фрейм данных и внесите любые изменения, которые могут пригодиться для решения задачи\n",
    "* размер шрифта остался прежним, вы можете выбрать любой размер шрифта, который вам нравится\n",
    "* цветовая палитра должна быть такой же, как в примере\n",
    "* размер шрифта заголовка равен 15\n",
    "* ширина линий интервалов равна 3, ширина медианных линий равна 2"
   ]
  },
  {
   "cell_type": "code",
   "execution_count": 113,
   "metadata": {},
   "outputs": [
    {
     "data": {
      "text/html": [
       "<div>\n",
       "<style scoped>\n",
       "    .dataframe tbody tr th:only-of-type {\n",
       "        vertical-align: middle;\n",
       "    }\n",
       "\n",
       "    .dataframe tbody tr th {\n",
       "        vertical-align: top;\n",
       "    }\n",
       "\n",
       "    .dataframe thead th {\n",
       "        text-align: right;\n",
       "    }\n",
       "</style>\n",
       "<table border=\"1\" class=\"dataframe\">\n",
       "  <thead>\n",
       "    <tr style=\"text-align: right;\">\n",
       "      <th></th>\n",
       "      <th>uid</th>\n",
       "      <th>diff</th>\n",
       "      <th>time</th>\n",
       "      <th>group</th>\n",
       "    </tr>\n",
       "  </thead>\n",
       "  <tbody>\n",
       "    <tr>\n",
       "      <th>0</th>\n",
       "      <td>user_1</td>\n",
       "      <td>-103.333333</td>\n",
       "      <td>after</td>\n",
       "      <td>test</td>\n",
       "    </tr>\n",
       "    <tr>\n",
       "      <th>1</th>\n",
       "      <td>user_1</td>\n",
       "      <td>-6.000000</td>\n",
       "      <td>before</td>\n",
       "      <td>test</td>\n",
       "    </tr>\n",
       "    <tr>\n",
       "      <th>2</th>\n",
       "      <td>user_18</td>\n",
       "      <td>-10.000000</td>\n",
       "      <td>after</td>\n",
       "      <td>test</td>\n",
       "    </tr>\n",
       "    <tr>\n",
       "      <th>3</th>\n",
       "      <td>user_18</td>\n",
       "      <td>-3.500000</td>\n",
       "      <td>before</td>\n",
       "      <td>test</td>\n",
       "    </tr>\n",
       "    <tr>\n",
       "      <th>4</th>\n",
       "      <td>user_19</td>\n",
       "      <td>-82.333333</td>\n",
       "      <td>after</td>\n",
       "      <td>test</td>\n",
       "    </tr>\n",
       "  </tbody>\n",
       "</table>\n",
       "</div>"
      ],
      "text/plain": [
       "       uid        diff    time group\n",
       "0   user_1 -103.333333   after  test\n",
       "1   user_1   -6.000000  before  test\n",
       "2  user_18  -10.000000   after  test\n",
       "3  user_18   -3.500000  before  test\n",
       "4  user_19  -82.333333   after  test"
      ]
     },
     "execution_count": 113,
     "metadata": {},
     "output_type": "execute_result"
    }
   ],
   "source": [
    "df = pd.read_csv('../data/ab-test.csv')\n",
    "df.head()"
   ]
  },
  {
   "cell_type": "code",
   "execution_count": 114,
   "metadata": {},
   "outputs": [
    {
     "data": {
      "text/html": [
       "<div>\n",
       "<style scoped>\n",
       "    .dataframe tbody tr th:only-of-type {\n",
       "        vertical-align: middle;\n",
       "    }\n",
       "\n",
       "    .dataframe tbody tr th {\n",
       "        vertical-align: top;\n",
       "    }\n",
       "\n",
       "    .dataframe thead th {\n",
       "        text-align: right;\n",
       "    }\n",
       "</style>\n",
       "<table border=\"1\" class=\"dataframe\">\n",
       "  <thead>\n",
       "    <tr style=\"text-align: right;\">\n",
       "      <th></th>\n",
       "      <th>uid</th>\n",
       "      <th>diff</th>\n",
       "      <th>time</th>\n",
       "      <th>group</th>\n",
       "    </tr>\n",
       "  </thead>\n",
       "  <tbody>\n",
       "    <tr>\n",
       "      <th>0</th>\n",
       "      <td>user_1</td>\n",
       "      <td>-103.333333</td>\n",
       "      <td>after</td>\n",
       "      <td>test</td>\n",
       "    </tr>\n",
       "    <tr>\n",
       "      <th>2</th>\n",
       "      <td>user_18</td>\n",
       "      <td>-10.000000</td>\n",
       "      <td>after</td>\n",
       "      <td>test</td>\n",
       "    </tr>\n",
       "    <tr>\n",
       "      <th>4</th>\n",
       "      <td>user_19</td>\n",
       "      <td>-82.333333</td>\n",
       "      <td>after</td>\n",
       "      <td>test</td>\n",
       "    </tr>\n",
       "    <tr>\n",
       "      <th>6</th>\n",
       "      <td>user_21</td>\n",
       "      <td>-78.500000</td>\n",
       "      <td>after</td>\n",
       "      <td>test</td>\n",
       "    </tr>\n",
       "    <tr>\n",
       "      <th>8</th>\n",
       "      <td>user_25</td>\n",
       "      <td>-127.500000</td>\n",
       "      <td>after</td>\n",
       "      <td>test</td>\n",
       "    </tr>\n",
       "  </tbody>\n",
       "</table>\n",
       "</div>"
      ],
      "text/plain": [
       "       uid        diff   time group\n",
       "0   user_1 -103.333333  after  test\n",
       "2  user_18  -10.000000  after  test\n",
       "4  user_19  -82.333333  after  test\n",
       "6  user_21  -78.500000  after  test\n",
       "8  user_25 -127.500000  after  test"
      ]
     },
     "execution_count": 114,
     "metadata": {},
     "output_type": "execute_result"
    }
   ],
   "source": [
    "df_after = df[df['time'] == 'after']\n",
    "df_after.head()"
   ]
  },
  {
   "cell_type": "code",
   "execution_count": 115,
   "metadata": {},
   "outputs": [
    {
     "data": {
      "text/html": [
       "<div>\n",
       "<style scoped>\n",
       "    .dataframe tbody tr th:only-of-type {\n",
       "        vertical-align: middle;\n",
       "    }\n",
       "\n",
       "    .dataframe tbody tr th {\n",
       "        vertical-align: top;\n",
       "    }\n",
       "\n",
       "    .dataframe thead th {\n",
       "        text-align: right;\n",
       "    }\n",
       "</style>\n",
       "<table border=\"1\" class=\"dataframe\">\n",
       "  <thead>\n",
       "    <tr style=\"text-align: right;\">\n",
       "      <th></th>\n",
       "      <th>uid</th>\n",
       "      <th>diff</th>\n",
       "      <th>time</th>\n",
       "      <th>group</th>\n",
       "    </tr>\n",
       "  </thead>\n",
       "  <tbody>\n",
       "    <tr>\n",
       "      <th>1</th>\n",
       "      <td>user_1</td>\n",
       "      <td>-6.000000</td>\n",
       "      <td>before</td>\n",
       "      <td>test</td>\n",
       "    </tr>\n",
       "    <tr>\n",
       "      <th>3</th>\n",
       "      <td>user_18</td>\n",
       "      <td>-3.500000</td>\n",
       "      <td>before</td>\n",
       "      <td>test</td>\n",
       "    </tr>\n",
       "    <tr>\n",
       "      <th>5</th>\n",
       "      <td>user_19</td>\n",
       "      <td>-148.000000</td>\n",
       "      <td>before</td>\n",
       "      <td>test</td>\n",
       "    </tr>\n",
       "    <tr>\n",
       "      <th>7</th>\n",
       "      <td>user_21</td>\n",
       "      <td>-112.500000</td>\n",
       "      <td>before</td>\n",
       "      <td>test</td>\n",
       "    </tr>\n",
       "    <tr>\n",
       "      <th>9</th>\n",
       "      <td>user_25</td>\n",
       "      <td>-69.333333</td>\n",
       "      <td>before</td>\n",
       "      <td>test</td>\n",
       "    </tr>\n",
       "  </tbody>\n",
       "</table>\n",
       "</div>"
      ],
      "text/plain": [
       "       uid        diff    time group\n",
       "1   user_1   -6.000000  before  test\n",
       "3  user_18   -3.500000  before  test\n",
       "5  user_19 -148.000000  before  test\n",
       "7  user_21 -112.500000  before  test\n",
       "9  user_25  -69.333333  before  test"
      ]
     },
     "execution_count": 115,
     "metadata": {},
     "output_type": "execute_result"
    }
   ],
   "source": [
    "df_before = df[df['time'] == 'before']\n",
    "df_before.head()"
   ]
  },
  {
   "cell_type": "code",
   "execution_count": 116,
   "metadata": {},
   "outputs": [
    {
     "data": {
      "image/png": "[encoded data removed]",
      "text/plain": [
       "<Figure size 1500x800 with 2 Axes>"
      ]
     },
     "metadata": {},
     "output_type": "display_data"
    }
   ],
   "source": [
    "fig, axs = plt.subplots(1, 2, figsize=(15, 8))\n",
    "df_after.boxplot(column='diff', by='group', ax=axs[0],\n",
    "                 color=dict(whiskers='red', medians='red', caps='red'),\n",
    "                 boxprops=dict(color = 'green', linewidth=3),\n",
    "                 medianprops=dict(linewidth=2))\n",
    "df_before.boxplot(column='diff', by='group', ax=axs[1],\n",
    "                  color=dict(whiskers='red', medians='red', caps='red'),\n",
    "                  boxprops=dict(color='green', linewidth=3),\n",
    "                  medianprops=dict(linewidth=2))\n",
    "axs[0].set_title('after')\n",
    "axs[0].set_yticks([i for i in range(-340, 40, 20)])\n",
    "axs[1].set_title('before')\n",
    "axs[1].set_yticks([i for i in range(-260, 20, 20)])\n",
    "fig.suptitle('Lag before labs deadlines. After and before the Newsfeed', fontsize=15)\n",
    "plt.show()"
   ]
  },
  {
   "cell_type": "markdown",
   "metadata": {},
   "source": [
    "* В конце вашего блокнота Jupyter создайте ячейку с разметкой и вставьте вопрос: «Каков был IQR контрольной группы до запуска ленты новостей?» В своём ответе укажите приблизительное значение, которое вы можете получить, просто взглянув на график, округлив его до ближайших 10"
   ]
  },
  {
   "cell_type": "markdown",
   "metadata": {},
   "source": [
    "До запуска ленты новостей IQR контрольной группы был примерно 150 после добавления IQR стал примерно 70 что говорит об уменьшении разброса значений."
   ]
  }
 ],
 "metadata": {
  "kernelspec": {
   "display_name": "data",
   "language": "python",
   "name": "python3"
  },
  "language_info": {
   "codemirror_mode": {
    "name": "ipython",
    "version": 3
   },
   "file_extension": ".py",
   "mimetype": "text/x-python",
   "name": "python",
   "nbconvert_exporter": "python",
   "pygments_lexer": "ipython3",
   "version": "3.13.0"
  }
 },
 "nbformat": 4,
 "nbformat_minor": 2
}
