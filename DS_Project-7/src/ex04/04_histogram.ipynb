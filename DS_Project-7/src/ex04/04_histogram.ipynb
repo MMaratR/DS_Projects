{
 "cells": [
  {
   "cell_type": "markdown",
   "metadata": {},
   "source": [
    "# Упражнение 04 : Гистограмма"
   ]
  },
  {
   "cell_type": "code",
   "execution_count": 8,
   "metadata": {},
   "outputs": [],
   "source": [
    "import matplotlib.pyplot as plt\n",
    "import pandas as pd\n",
    "import sqlite3\n",
    "con = sqlite3.connect('../data/checking-logs.sqlite')"
   ]
  },
  {
   "cell_type": "markdown",
   "metadata": {},
   "source": [
    "* анализируйте только пользователей, а не администраторов\n",
    "* создайте два списка значений (для рабочих дней и для выходных) для ввода в гистограмму\n",
    "* размер рисунка остаётся прежним, вы можете выбрать размер шрифта, а также цветовую палитру\n",
    "* используйте уровень прозрачности для гистограммы спереди, равный 0,7"
   ]
  },
  {
   "cell_type": "code",
   "execution_count": 9,
   "metadata": {},
   "outputs": [
    {
     "data": {
      "text/html": [
       "<div>\n",
       "<style scoped>\n",
       "    .dataframe tbody tr th:only-of-type {\n",
       "        vertical-align: middle;\n",
       "    }\n",
       "\n",
       "    .dataframe tbody tr th {\n",
       "        vertical-align: top;\n",
       "    }\n",
       "\n",
       "    .dataframe thead th {\n",
       "        text-align: right;\n",
       "    }\n",
       "</style>\n",
       "<table border=\"1\" class=\"dataframe\">\n",
       "  <thead>\n",
       "    <tr style=\"text-align: right;\">\n",
       "      <th></th>\n",
       "      <th>uid</th>\n",
       "      <th>hour</th>\n",
       "      <th>day_of_week</th>\n",
       "    </tr>\n",
       "  </thead>\n",
       "  <tbody>\n",
       "    <tr>\n",
       "      <th>0</th>\n",
       "      <td>user_4</td>\n",
       "      <td>5</td>\n",
       "      <td>working_day</td>\n",
       "    </tr>\n",
       "    <tr>\n",
       "      <th>1</th>\n",
       "      <td>user_4</td>\n",
       "      <td>5</td>\n",
       "      <td>working_day</td>\n",
       "    </tr>\n",
       "    <tr>\n",
       "      <th>2</th>\n",
       "      <td>user_4</td>\n",
       "      <td>5</td>\n",
       "      <td>working_day</td>\n",
       "    </tr>\n",
       "    <tr>\n",
       "      <th>3</th>\n",
       "      <td>user_4</td>\n",
       "      <td>5</td>\n",
       "      <td>working_day</td>\n",
       "    </tr>\n",
       "    <tr>\n",
       "      <th>4</th>\n",
       "      <td>user_4</td>\n",
       "      <td>5</td>\n",
       "      <td>working_day</td>\n",
       "    </tr>\n",
       "    <tr>\n",
       "      <th>...</th>\n",
       "      <td>...</td>\n",
       "      <td>...</td>\n",
       "      <td>...</td>\n",
       "    </tr>\n",
       "    <tr>\n",
       "      <th>3202</th>\n",
       "      <td>user_1</td>\n",
       "      <td>20</td>\n",
       "      <td>working_day</td>\n",
       "    </tr>\n",
       "    <tr>\n",
       "      <th>3203</th>\n",
       "      <td>user_1</td>\n",
       "      <td>20</td>\n",
       "      <td>working_day</td>\n",
       "    </tr>\n",
       "    <tr>\n",
       "      <th>3204</th>\n",
       "      <td>user_1</td>\n",
       "      <td>20</td>\n",
       "      <td>working_day</td>\n",
       "    </tr>\n",
       "    <tr>\n",
       "      <th>3205</th>\n",
       "      <td>user_1</td>\n",
       "      <td>20</td>\n",
       "      <td>working_day</td>\n",
       "    </tr>\n",
       "    <tr>\n",
       "      <th>3206</th>\n",
       "      <td>user_1</td>\n",
       "      <td>20</td>\n",
       "      <td>working_day</td>\n",
       "    </tr>\n",
       "  </tbody>\n",
       "</table>\n",
       "<p>3207 rows × 3 columns</p>\n",
       "</div>"
      ],
      "text/plain": [
       "         uid  hour  day_of_week\n",
       "0     user_4     5  working_day\n",
       "1     user_4     5  working_day\n",
       "2     user_4     5  working_day\n",
       "3     user_4     5  working_day\n",
       "4     user_4     5  working_day\n",
       "...      ...   ...          ...\n",
       "3202  user_1    20  working_day\n",
       "3203  user_1    20  working_day\n",
       "3204  user_1    20  working_day\n",
       "3205  user_1    20  working_day\n",
       "3206  user_1    20  working_day\n",
       "\n",
       "[3207 rows x 3 columns]"
      ]
     },
     "execution_count": 9,
     "metadata": {},
     "output_type": "execute_result"
    }
   ],
   "source": [
    "sql = '''\n",
    "SELECT uid, timestamp FROM checker\n",
    "WHERE uid LIKE 'user_%'\n",
    "'''\n",
    "df_commit = pd.read_sql(sql, con, parse_dates=['timestamp'])\n",
    "df_commit['hour'] = df_commit['timestamp'].dt.hour\n",
    "df_commit['day_of_week'] = df_commit['timestamp'].dt.dayofweek\n",
    "df_commit['day_of_week'] = df_commit['day_of_week'].apply(lambda x: 'weekend' if x >= 5 else 'working_day')\n",
    "df_commit.drop('timestamp', axis=1, inplace=True)\n",
    "df_commit"
   ]
  },
  {
   "cell_type": "code",
   "execution_count": 10,
   "metadata": {},
   "outputs": [],
   "source": [
    "weekend = df_commit[df_commit['day_of_week'] == 'weekend']['hour'].reset_index(drop=True)\n",
    "working_day = df_commit[df_commit['day_of_week'] == 'working_day']['hour'].reset_index(drop=True)"
   ]
  },
  {
   "cell_type": "code",
   "execution_count": 11,
   "metadata": {},
   "outputs": [
    {
     "data": {
      "text/plain": [
       "0        7\n",
       "1       13\n",
       "2       13\n",
       "3       13\n",
       "4       13\n",
       "        ..\n",
       "1165    22\n",
       "1166    22\n",
       "1167    22\n",
       "1168    22\n",
       "1169    22\n",
       "Name: hour, Length: 1170, dtype: int32"
      ]
     },
     "execution_count": 11,
     "metadata": {},
     "output_type": "execute_result"
    }
   ],
   "source": [
    "weekend"
   ]
  },
  {
   "cell_type": "code",
   "execution_count": 12,
   "metadata": {},
   "outputs": [
    {
     "data": {
      "text/plain": [
       "0        5\n",
       "1        5\n",
       "2        5\n",
       "3        5\n",
       "4        5\n",
       "        ..\n",
       "2032    20\n",
       "2033    20\n",
       "2034    20\n",
       "2035    20\n",
       "2036    20\n",
       "Name: hour, Length: 2037, dtype: int32"
      ]
     },
     "execution_count": 12,
     "metadata": {},
     "output_type": "execute_result"
    }
   ],
   "source": [
    "working_day"
   ]
  },
  {
   "cell_type": "code",
   "execution_count": 13,
   "metadata": {},
   "outputs": [
    {
     "data": {
      "image/png": "[encoded data removed]",
      "text/plain": [
       "<Figure size 1500x800 with 1 Axes>"
      ]
     },
     "metadata": {},
     "output_type": "display_data"
    }
   ],
   "source": [
    "fig, ax = plt.subplots(figsize=(15, 8))\n",
    "ax.hist(working_day,\n",
    "        bins=24,\n",
    "        label='working_days',\n",
    "        color='b',)\n",
    "ax.hist(weekend,\n",
    "        bins=24,\n",
    "        label='weekend',\n",
    "        color='r',\n",
    "        alpha=0.7)\n",
    "ax.set_xlim(0, 23)\n",
    "ax.legend(loc='upper left')\n",
    "plt.xticks([i for i in range(0, 24)])\n",
    "plt.yticks([i for i in range(0, 325, 25)])\n",
    "plt.show()"
   ]
  },
  {
   "cell_type": "markdown",
   "metadata": {},
   "source": [
    "* В конце блокнота Jupyter создайте ячейку с кодом и вставьте вопрос: «Бывают ли часы, когда общее количество коммитов в выходные дни выше, чем в рабочие?» В своём ответе приведите 4 примера."
   ]
  },
  {
   "cell_type": "code",
   "execution_count": 14,
   "metadata": {},
   "outputs": [
    {
     "data": {
      "text/html": [
       "<div>\n",
       "<style scoped>\n",
       "    .dataframe tbody tr th:only-of-type {\n",
       "        vertical-align: middle;\n",
       "    }\n",
       "\n",
       "    .dataframe tbody tr th {\n",
       "        vertical-align: top;\n",
       "    }\n",
       "\n",
       "    .dataframe thead th {\n",
       "        text-align: right;\n",
       "    }\n",
       "</style>\n",
       "<table border=\"1\" class=\"dataframe\">\n",
       "  <thead>\n",
       "    <tr style=\"text-align: right;\">\n",
       "      <th>day_of_week</th>\n",
       "      <th>weekend</th>\n",
       "      <th>working_day</th>\n",
       "    </tr>\n",
       "    <tr>\n",
       "      <th>hour</th>\n",
       "      <th></th>\n",
       "      <th></th>\n",
       "    </tr>\n",
       "  </thead>\n",
       "  <tbody>\n",
       "    <tr>\n",
       "      <th>11</th>\n",
       "      <td>118.0</td>\n",
       "      <td>88.0</td>\n",
       "    </tr>\n",
       "    <tr>\n",
       "      <th>13</th>\n",
       "      <td>108.0</td>\n",
       "      <td>73.0</td>\n",
       "    </tr>\n",
       "    <tr>\n",
       "      <th>22</th>\n",
       "      <td>59.0</td>\n",
       "      <td>45.0</td>\n",
       "    </tr>\n",
       "    <tr>\n",
       "      <th>23</th>\n",
       "      <td>32.0</td>\n",
       "      <td>15.0</td>\n",
       "    </tr>\n",
       "  </tbody>\n",
       "</table>\n",
       "</div>"
      ],
      "text/plain": [
       "day_of_week  weekend  working_day\n",
       "hour                             \n",
       "11             118.0         88.0\n",
       "13             108.0         73.0\n",
       "22              59.0         45.0\n",
       "23              32.0         15.0"
      ]
     },
     "execution_count": 14,
     "metadata": {},
     "output_type": "execute_result"
    }
   ],
   "source": [
    "df_commit = df_commit.groupby(['day_of_week', 'hour']).count().reset_index()\n",
    "df_commit = pd.pivot_table(df_commit, values='uid', index='hour', columns='day_of_week')\n",
    "df_commit = df_commit[df_commit['weekend'] > df_commit['working_day']]\n",
    "df_commit"
   ]
  },
  {
   "cell_type": "code",
   "execution_count": 15,
   "metadata": {},
   "outputs": [],
   "source": [
    "con.close()"
   ]
  }
 ],
 "metadata": {
  "kernelspec": {
   "display_name": "data",
   "language": "python",
   "name": "python3"
  },
  "language_info": {
   "codemirror_mode": {
    "name": "ipython",
    "version": 3
   },
   "file_extension": ".py",
   "mimetype": "text/x-python",
   "name": "python",
   "nbconvert_exporter": "python",
   "pygments_lexer": "ipython3",
   "version": "3.13.0"
  }
 },
 "nbformat": 4,
 "nbformat_minor": 2
}
