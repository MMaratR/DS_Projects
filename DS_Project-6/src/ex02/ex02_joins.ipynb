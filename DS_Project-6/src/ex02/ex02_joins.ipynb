{
 "cells": [
  {
   "cell_type": "markdown",
   "metadata": {},
   "source": [
    "# Упражнение 02 : Присоединяйтесь"
   ]
  },
  {
   "cell_type": "code",
   "execution_count": 123,
   "metadata": {},
   "outputs": [],
   "source": [
    "import pandas as pd\n",
    "import sqlite3"
   ]
  },
  {
   "cell_type": "markdown",
   "metadata": {},
   "source": [
    "## создайте подключение к базе данных с помощью библиотеки sqlite3"
   ]
  },
  {
   "cell_type": "code",
   "execution_count": 124,
   "metadata": {},
   "outputs": [],
   "source": [
    "con = sqlite3.connect('../data/checking-logs.sqlite')"
   ]
  },
  {
   "cell_type": "markdown",
   "metadata": {},
   "source": [
    "## создайте новую таблицу в базе данных, объединив таблицы «Просмотр страниц» и «Проверка» с помощью всего одного запроса\n",
    "* в таблице должны быть следующие столбцы: uid, labname, first_commit_ts, first_view_ts.\n",
    "* first_commit_ts — это просто новое название столбца timestamp в таблице проверки. Он показывает первую фиксацию для конкретной лаборатории и конкретного пользователя\n",
    "* first_view_ts — это первый визит пользователя в таблицу просмотров, отметка времени, когда пользователь посетил ленту новостей\n",
    "* status = ’готов’ по-прежнему должен быть фильтром\n",
    "* numTrials = 1 по-прежнему должно быть фильтром\n",
    "* Названия лабораторий должны быть из списка: «laba04», «laba04s», «laba05», «laba06», «laba06s», «project1»\n",
    "* таблица должна содержать только пользователей (идентификаторы с user_*), а не администраторов\n",
    "* first_commit_ts и first_view_ts должны быть проанализированы как datetime64[ns]"
   ]
  },
  {
   "cell_type": "code",
   "execution_count": 125,
   "metadata": {},
   "outputs": [
    {
     "data": {
      "text/html": [
       "<div>\n",
       "<style scoped>\n",
       "    .dataframe tbody tr th:only-of-type {\n",
       "        vertical-align: middle;\n",
       "    }\n",
       "\n",
       "    .dataframe tbody tr th {\n",
       "        vertical-align: top;\n",
       "    }\n",
       "\n",
       "    .dataframe thead th {\n",
       "        text-align: right;\n",
       "    }\n",
       "</style>\n",
       "<table border=\"1\" class=\"dataframe\">\n",
       "  <thead>\n",
       "    <tr style=\"text-align: right;\">\n",
       "      <th></th>\n",
       "      <th>uid</th>\n",
       "      <th>labname</th>\n",
       "      <th>first_commit_ts</th>\n",
       "      <th>first_view_ts</th>\n",
       "    </tr>\n",
       "  </thead>\n",
       "  <tbody>\n",
       "    <tr>\n",
       "      <th>0</th>\n",
       "      <td>user_4</td>\n",
       "      <td>project1</td>\n",
       "      <td>2020-04-17 05:19:02.744528</td>\n",
       "      <td>NaT</td>\n",
       "    </tr>\n",
       "    <tr>\n",
       "      <th>1</th>\n",
       "      <td>user_4</td>\n",
       "      <td>laba04</td>\n",
       "      <td>2020-04-17 11:33:17.366400</td>\n",
       "      <td>NaT</td>\n",
       "    </tr>\n",
       "    <tr>\n",
       "      <th>2</th>\n",
       "      <td>user_4</td>\n",
       "      <td>laba04s</td>\n",
       "      <td>2020-04-17 11:48:41.992466</td>\n",
       "      <td>NaT</td>\n",
       "    </tr>\n",
       "    <tr>\n",
       "      <th>3</th>\n",
       "      <td>user_17</td>\n",
       "      <td>project1</td>\n",
       "      <td>2020-04-18 07:56:45.408648</td>\n",
       "      <td>2020-04-18 10:56:55.833899</td>\n",
       "    </tr>\n",
       "    <tr>\n",
       "      <th>4</th>\n",
       "      <td>user_30</td>\n",
       "      <td>laba04</td>\n",
       "      <td>2020-04-18 13:36:53.971502</td>\n",
       "      <td>2020-04-17 22:46:26.785035</td>\n",
       "    </tr>\n",
       "    <tr>\n",
       "      <th>...</th>\n",
       "      <td>...</td>\n",
       "      <td>...</td>\n",
       "      <td>...</td>\n",
       "      <td>...</td>\n",
       "    </tr>\n",
       "    <tr>\n",
       "      <th>135</th>\n",
       "      <td>user_23</td>\n",
       "      <td>laba06</td>\n",
       "      <td>2020-05-21 08:34:10.517205</td>\n",
       "      <td>NaT</td>\n",
       "    </tr>\n",
       "    <tr>\n",
       "      <th>136</th>\n",
       "      <td>user_19</td>\n",
       "      <td>laba06s</td>\n",
       "      <td>2020-05-21 13:27:06.705881</td>\n",
       "      <td>2020-04-21 20:30:38.034966</td>\n",
       "    </tr>\n",
       "    <tr>\n",
       "      <th>137</th>\n",
       "      <td>user_23</td>\n",
       "      <td>laba06s</td>\n",
       "      <td>2020-05-21 14:29:15.709568</td>\n",
       "      <td>NaT</td>\n",
       "    </tr>\n",
       "    <tr>\n",
       "      <th>138</th>\n",
       "      <td>user_17</td>\n",
       "      <td>laba06</td>\n",
       "      <td>2020-05-21 15:21:31.567615</td>\n",
       "      <td>2020-04-18 10:56:55.833899</td>\n",
       "    </tr>\n",
       "    <tr>\n",
       "      <th>139</th>\n",
       "      <td>user_17</td>\n",
       "      <td>laba06s</td>\n",
       "      <td>2020-05-21 17:39:17.783615</td>\n",
       "      <td>2020-04-18 10:56:55.833899</td>\n",
       "    </tr>\n",
       "  </tbody>\n",
       "</table>\n",
       "<p>140 rows × 4 columns</p>\n",
       "</div>"
      ],
      "text/plain": [
       "         uid   labname            first_commit_ts              first_view_ts\n",
       "0     user_4  project1 2020-04-17 05:19:02.744528                        NaT\n",
       "1     user_4    laba04 2020-04-17 11:33:17.366400                        NaT\n",
       "2     user_4   laba04s 2020-04-17 11:48:41.992466                        NaT\n",
       "3    user_17  project1 2020-04-18 07:56:45.408648 2020-04-18 10:56:55.833899\n",
       "4    user_30    laba04 2020-04-18 13:36:53.971502 2020-04-17 22:46:26.785035\n",
       "..       ...       ...                        ...                        ...\n",
       "135  user_23    laba06 2020-05-21 08:34:10.517205                        NaT\n",
       "136  user_19   laba06s 2020-05-21 13:27:06.705881 2020-04-21 20:30:38.034966\n",
       "137  user_23   laba06s 2020-05-21 14:29:15.709568                        NaT\n",
       "138  user_17    laba06 2020-05-21 15:21:31.567615 2020-04-18 10:56:55.833899\n",
       "139  user_17   laba06s 2020-05-21 17:39:17.783615 2020-04-18 10:56:55.833899\n",
       "\n",
       "[140 rows x 4 columns]"
      ]
     },
     "execution_count": 125,
     "metadata": {},
     "output_type": "execute_result"
    }
   ],
   "source": [
    "sql = '''\n",
    "SELECT\n",
    "    checker.uid, checker.labname,\n",
    "    checker.timestamp as first_commit_ts,\n",
    "    pageviews.datetime as first_view_ts\n",
    "FROM checker\n",
    "LEFT JOIN pageviews\n",
    "ON checker.uid = pageviews.uid\n",
    "WHERE checker.uid LIKE 'user_%'\n",
    "    AND status = 'ready'\n",
    "    AND numTrials = 1\n",
    "    AND labname IN\n",
    "    ('laba04', 'laba04s', 'laba05', 'laba06', 'laba06s', 'project1')\n",
    "    AND (pageviews.datetime = (SELECT MIN(datetime) FROM pageviews\n",
    "                            WHERE pageviews.uid = checker.uid)\n",
    "        OR pageviews.datetime IS NULL)\n",
    "'''\n",
    "df = pd.read_sql(sql, con, parse_dates=['first_commit_ts', 'first_view_ts'])\n",
    "df"
   ]
  },
  {
   "cell_type": "markdown",
   "metadata": {},
   "source": [
    "## используя методы Pandas, создайте два фрейма данных: тестовый и контрольный\n",
    "* у теста должны быть пользователи, у которых есть значения в first_view_ts\n",
    "* у элемента управления должны быть пользователи, у которых в first_view_ts отсутствуют значения\n",
    "* замените отсутствующие значения в контрольной группе средним значением first_view_ts тестовых пользователей, мы будем использовать это значение для дальнейшего анализа\n",
    "* сохраните обе таблицы в базе данных, вы будете использовать их в следующих упражнениях"
   ]
  },
  {
   "cell_type": "code",
   "execution_count": 126,
   "metadata": {},
   "outputs": [],
   "source": [
    "test = df[df['first_view_ts'].notnull()]\n",
    "control = df[df['first_view_ts'].isnull()]\n",
    "control = control.fillna(test['first_view_ts'].mean())"
   ]
  },
  {
   "cell_type": "code",
   "execution_count": 127,
   "metadata": {},
   "outputs": [
    {
     "data": {
      "text/plain": [
       "81"
      ]
     },
     "execution_count": 127,
     "metadata": {},
     "output_type": "execute_result"
    }
   ],
   "source": [
    "test.to_sql('test', con)\n",
    "control.to_sql('control', con)"
   ]
  },
  {
   "cell_type": "markdown",
   "metadata": {},
   "source": [
    "## закройте соединение"
   ]
  },
  {
   "cell_type": "code",
   "execution_count": 128,
   "metadata": {},
   "outputs": [],
   "source": [
    "con.close()"
   ]
  }
 ],
 "metadata": {
  "kernelspec": {
   "display_name": "data",
   "language": "python",
   "name": "python3"
  },
  "language_info": {
   "codemirror_mode": {
    "name": "ipython",
    "version": 3
   },
   "file_extension": ".py",
   "mimetype": "text/x-python",
   "name": "python",
   "nbconvert_exporter": "python",
   "pygments_lexer": "ipython3",
   "version": "3.13.0"
  }
 },
 "nbformat": 4,
 "nbformat_minor": 2
}
