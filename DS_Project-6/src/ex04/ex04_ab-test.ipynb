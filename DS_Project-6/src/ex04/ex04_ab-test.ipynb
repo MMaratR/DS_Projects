{
 "cells": [
  {
   "cell_type": "markdown",
   "metadata": {},
   "source": [
    "# Упражнение 04 : A / B-тестирование"
   ]
  },
  {
   "cell_type": "code",
   "execution_count": 161,
   "metadata": {},
   "outputs": [],
   "source": [
    "import pandas as pd\n",
    "import sqlite3"
   ]
  },
  {
   "cell_type": "markdown",
   "metadata": {},
   "source": [
    "## создайте подключение к базе данных с помощью библиотеки sqlite3"
   ]
  },
  {
   "cell_type": "code",
   "execution_count": 162,
   "metadata": {},
   "outputs": [],
   "source": [
    "con = sqlite3.connect('../data/checking-logs.sqlite')"
   ]
  },
  {
   "cell_type": "markdown",
   "metadata": {},
   "source": [
    "## используя только один запрос для каждой из групп, создайте два фрейма данных: test_results и control_results со столбцами time и avg_diff и только двумя строками\n",
    "* время должно иметь значения: после и до\n",
    "* avg_diff содержит среднюю дельту для всех пользователей за период до того, как каждый из них впервые посетил страницу, и после\n",
    "* учитывайте только тех пользователей, у которых есть наблюдения до и после\n",
    "## мы по-прежнему не используем лабораторию ’project1’"
   ]
  },
  {
   "cell_type": "code",
   "execution_count": 163,
   "metadata": {},
   "outputs": [
    {
     "data": {
      "text/html": [
       "<div>\n",
       "<style scoped>\n",
       "    .dataframe tbody tr th:only-of-type {\n",
       "        vertical-align: middle;\n",
       "    }\n",
       "\n",
       "    .dataframe tbody tr th {\n",
       "        vertical-align: top;\n",
       "    }\n",
       "\n",
       "    .dataframe thead th {\n",
       "        text-align: right;\n",
       "    }\n",
       "</style>\n",
       "<table border=\"1\" class=\"dataframe\">\n",
       "  <thead>\n",
       "    <tr style=\"text-align: right;\">\n",
       "      <th></th>\n",
       "      <th>time</th>\n",
       "      <th>avg_diff</th>\n",
       "    </tr>\n",
       "  </thead>\n",
       "  <tbody>\n",
       "    <tr>\n",
       "      <th>0</th>\n",
       "      <td>after</td>\n",
       "      <td>110.162500</td>\n",
       "    </tr>\n",
       "    <tr>\n",
       "      <th>1</th>\n",
       "      <td>before</td>\n",
       "      <td>78.388095</td>\n",
       "    </tr>\n",
       "  </tbody>\n",
       "</table>\n",
       "</div>"
      ],
      "text/plain": [
       "     time    avg_diff\n",
       "0   after  110.162500\n",
       "1  before   78.388095"
      ]
     },
     "execution_count": 163,
     "metadata": {},
     "output_type": "execute_result"
    }
   ],
   "source": [
    "sql = '''\n",
    "SELECT time, AVG(avg_diff) AS avg_diff FROM\n",
    "(SELECT\n",
    "    uid,\n",
    "    CASE\n",
    "        WHEN first_commit_ts < first_view_ts THEN 'before'\n",
    "        WHEN first_commit_ts > first_view_ts THEN 'after'\n",
    "    END as time,\n",
    "    AVG((deadlines.deadlines - strftime('%s', first_commit_ts)) / 3600) AS avg_diff\n",
    "FROM test\n",
    "JOIN deadlines\n",
    "ON test.labname = deadlines.labs\n",
    "WHERE\n",
    "    test.labname != 'project1'\n",
    "GROUP BY uid)\n",
    "GROUP BY time\n",
    "'''\n",
    "test_results = pd.read_sql(sql, con)\n",
    "test_results"
   ]
  },
  {
   "cell_type": "code",
   "execution_count": 164,
   "metadata": {},
   "outputs": [
    {
     "data": {
      "text/html": [
       "<div>\n",
       "<style scoped>\n",
       "    .dataframe tbody tr th:only-of-type {\n",
       "        vertical-align: middle;\n",
       "    }\n",
       "\n",
       "    .dataframe tbody tr th {\n",
       "        vertical-align: top;\n",
       "    }\n",
       "\n",
       "    .dataframe thead th {\n",
       "        text-align: right;\n",
       "    }\n",
       "</style>\n",
       "<table border=\"1\" class=\"dataframe\">\n",
       "  <thead>\n",
       "    <tr style=\"text-align: right;\">\n",
       "      <th></th>\n",
       "      <th>time</th>\n",
       "      <th>avg_diff</th>\n",
       "    </tr>\n",
       "  </thead>\n",
       "  <tbody>\n",
       "    <tr>\n",
       "      <th>0</th>\n",
       "      <td>after</td>\n",
       "      <td>67.166667</td>\n",
       "    </tr>\n",
       "    <tr>\n",
       "      <th>1</th>\n",
       "      <td>before</td>\n",
       "      <td>96.130000</td>\n",
       "    </tr>\n",
       "  </tbody>\n",
       "</table>\n",
       "</div>"
      ],
      "text/plain": [
       "     time   avg_diff\n",
       "0   after  67.166667\n",
       "1  before  96.130000"
      ]
     },
     "execution_count": 164,
     "metadata": {},
     "output_type": "execute_result"
    }
   ],
   "source": [
    "sql = '''\n",
    "SELECT time, AVG(avg_diff) AS avg_diff FROM\n",
    "(SELECT\n",
    "    uid,\n",
    "    CASE\n",
    "        WHEN first_commit_ts < first_view_ts THEN 'before'\n",
    "        WHEN first_commit_ts > first_view_ts THEN 'after'\n",
    "    END as time,\n",
    "    AVG((deadlines.deadlines - strftime('%s', first_commit_ts)) / 3600) AS avg_diff\n",
    "FROM control\n",
    "JOIN deadlines\n",
    "ON control.labname = deadlines.labs\n",
    "WHERE\n",
    "    control.labname != 'project1'\n",
    "GROUP BY uid)\n",
    "GROUP BY time\n",
    "'''\n",
    "control_results = pd.read_sql(sql, con)\n",
    "control_results"
   ]
  },
  {
   "cell_type": "markdown",
   "metadata": {},
   "source": [
    "## закройте соединение"
   ]
  },
  {
   "cell_type": "code",
   "execution_count": 167,
   "metadata": {},
   "outputs": [],
   "source": [
    "con.close()"
   ]
  },
  {
   "cell_type": "markdown",
   "metadata": {},
   "source": [
    "## У вас есть ответ: оказалась ли гипотеза верной и влияет ли страница на поведение учащихся?"
   ]
  },
  {
   "cell_type": "markdown",
   "metadata": {},
   "source": []
  }
 ],
 "metadata": {
  "kernelspec": {
   "display_name": "data",
   "language": "python",
   "name": "python3"
  },
  "language_info": {
   "codemirror_mode": {
    "name": "ipython",
    "version": 3
   },
   "file_extension": ".py",
   "mimetype": "text/x-python",
   "name": "python",
   "nbconvert_exporter": "python",
   "pygments_lexer": "ipython3",
   "version": "3.13.0"
  }
 },
 "nbformat": 4,
 "nbformat_minor": 2
}
