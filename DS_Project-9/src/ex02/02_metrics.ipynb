{
 "cells": [
  {
   "cell_type": "markdown",
   "metadata": {},
   "source": [
    "# Day 09. Exercise 02\n",
    "# Metrics"
   ]
  },
  {
   "cell_type": "markdown",
   "metadata": {},
   "source": [
    "## 0. Imports"
   ]
  },
  {
   "cell_type": "code",
   "execution_count": 58,
   "metadata": {},
   "outputs": [],
   "source": [
    "import pandas as pd\n",
    "import numpy as np\n",
    "import joblib"
   ]
  },
  {
   "cell_type": "code",
   "execution_count": 59,
   "metadata": {},
   "outputs": [],
   "source": [
    "from sklearn.model_selection import train_test_split\n",
    "from sklearn.svm import SVC\n",
    "from sklearn.tree import DecisionTreeClassifier\n",
    "from sklearn.ensemble import RandomForestClassifier\n",
    "from sklearn.metrics import accuracy_score, precision_score, recall_score, roc_auc_score, confusion_matrix"
   ]
  },
  {
   "cell_type": "markdown",
   "metadata": {},
   "source": [
    "## 1. Preprocessing"
   ]
  },
  {
   "cell_type": "markdown",
   "metadata": {},
   "source": [
    "1. Создайте тот же кадр данных, что и в предыдущем упражнении.\n",
    "2. Используя `train_test_split` с параметрами `test_size=0.2`, `random_state=21`, получите `X_train`, `y_train`, `X_test`, `y_test`. Используйте дополнительный параметр `stratify`."
   ]
  },
  {
   "cell_type": "code",
   "execution_count": 60,
   "metadata": {},
   "outputs": [],
   "source": [
    "df = pd.read_csv('../data/day-of-week-not-scaled.csv')\n",
    "df1 = pd.read_csv('../data/dayofweek.csv')\n",
    "df['dayofweek'] = df1['dayofweek']\n",
    "\n",
    "x = df.drop(['dayofweek'], axis=1)\n",
    "y = df['dayofweek']\n",
    "x_train, x_test, y_train, y_test = train_test_split(x, y, test_size=0.2, random_state=21, stratify=y)"
   ]
  },
  {
   "cell_type": "markdown",
   "metadata": {},
   "source": [
    "## 2. SVM"
   ]
  },
  {
   "cell_type": "markdown",
   "metadata": {},
   "source": [
    "1. Используйте лучшие параметры из предыдущего упражнения и обучите модель SVM.\n",
    "2. Необходимо вычислить `точность`, `точность`, `результативность`, `ROC AUC`.\n",
    "\n",
    " - `precision` и `recall` должны быть рассчитаны для каждого класса (используйте `average='weighted'`)\n",
    " - `ROC AUC` должен быть рассчитан для каждого класса относительно любого другого класса (все возможные парные комбинации), а затем для итоговой метрики должно быть применено средневзвешенное значение\n",
    " - код в ячейке должен отображать результат, как показано ниже:\n",
    "\n",
    "```\n",
    "accuracy is 0.88757\n",
    "precision is 0.89267\n",
    "recall is 0.88757\n",
    "roc_auc is 0.97878\n",
    "```"
   ]
  },
  {
   "cell_type": "code",
   "execution_count": 61,
   "metadata": {},
   "outputs": [],
   "source": [
    "best_params = {'C': 10, 'class_weight': None, 'gamma': 'auto', 'kernel': 'rbf'}\n",
    "model = SVC(random_state=21, probability=True, **best_params)\n",
    "model.fit(x_train, y_train)\n",
    "y_pred = model.predict(x_test)"
   ]
  },
  {
   "cell_type": "code",
   "execution_count": 62,
   "metadata": {},
   "outputs": [
    {
     "name": "stdout",
     "output_type": "stream",
     "text": [
      "accuracy is 0.88757\n",
      "precision is 0.89267\n",
      "recall is 0.88757\n",
      "roc_auc is 0.97878\n"
     ]
    }
   ],
   "source": [
    "print(f\"accuracy is {accuracy_score(y_test, y_pred):.5f}\")\n",
    "print(f\"precision is {precision_score(y_test, y_pred, average='weighted'):.5f}\")\n",
    "print(f\"recall is {recall_score(y_test, y_pred, average='weighted'):.5f}\")\n",
    "print(f\"roc_auc is {roc_auc_score(y_test, model.predict_proba(x_test), average='weighted', multi_class='ovo'):.5f}\")"
   ]
  },
  {
   "cell_type": "markdown",
   "metadata": {},
   "source": [
    "## 3. Decision tree"
   ]
  },
  {
   "cell_type": "markdown",
   "metadata": {},
   "source": [
    "1. Аналогичная задача для дерева решений"
   ]
  },
  {
   "cell_type": "code",
   "execution_count": 63,
   "metadata": {},
   "outputs": [],
   "source": [
    "best_params  = {'class_weight': 'balanced', 'criterion': 'gini', 'max_depth': np.int64(22)}\n",
    "model = DecisionTreeClassifier(random_state=21, **best_params)\n",
    "model.fit(x_train, y_train)\n",
    "y_pred = model.predict(x_test)"
   ]
  },
  {
   "cell_type": "code",
   "execution_count": 64,
   "metadata": {},
   "outputs": [
    {
     "name": "stdout",
     "output_type": "stream",
     "text": [
      "accuracy is 0.89053\n",
      "precision is 0.89262\n",
      "recall is 0.89053\n",
      "roc_auc is 0.93664\n"
     ]
    }
   ],
   "source": [
    "print(f\"accuracy is {accuracy_score(y_test, y_pred):.5f}\")\n",
    "print(f\"precision is {precision_score(y_test, y_pred, average='weighted'):.5f}\")\n",
    "print(f\"recall is {recall_score(y_test, y_pred, average='weighted'):.5f}\")\n",
    "print(f\"roc_auc is {roc_auc_score(y_test, model.predict_proba(x_test), average='weighted', multi_class='ovo'):.5f}\")"
   ]
  },
  {
   "cell_type": "markdown",
   "metadata": {},
   "source": [
    "## 4. Random forest"
   ]
  },
  {
   "cell_type": "markdown",
   "metadata": {},
   "source": [
    "1. Аналогичная задача для случайного леса."
   ]
  },
  {
   "cell_type": "code",
   "execution_count": 65,
   "metadata": {},
   "outputs": [],
   "source": [
    "best_params = {'class_weight': None, 'criterion': 'gini', 'max_depth': np.int64(28), 'n_estimators': 50}\n",
    "model = RandomForestClassifier(random_state=21, **best_params)\n",
    "model.fit(x_train, y_train)\n",
    "y_pred = model.predict(x_test)"
   ]
  },
  {
   "cell_type": "code",
   "execution_count": 66,
   "metadata": {},
   "outputs": [
    {
     "name": "stdout",
     "output_type": "stream",
     "text": [
      "accuracy is 0.92899\n",
      "precision is 0.93009\n",
      "recall is 0.92899\n",
      "roc_auc is 0.99033\n"
     ]
    }
   ],
   "source": [
    "print(f\"accuracy is {accuracy_score(y_test, y_pred):.5f}\")\n",
    "print(f\"precision is {precision_score(y_test, y_pred, average='weighted'):.5f}\")\n",
    "print(f\"recall is {recall_score(y_test, y_pred, average='weighted'):.5f}\")\n",
    "print(f\"roc_auc is {roc_auc_score(y_test, model.predict_proba(x_test), average='weighted', multi_class='ovo'):.5f}\")"
   ]
  },
  {
   "cell_type": "markdown",
   "metadata": {},
   "source": [
    "## 5. Predictions"
   ]
  },
  {
   "cell_type": "markdown",
   "metadata": {},
   "source": [
    "1. Выберите лучшую модель.\n",
    "2. Проанализируйте: для какого `weekday` ваша модель делает больше всего ошибок (в % от общего числа образцов этого класса в вашем полном наборе данных), для какого `labname` и для каких `users`.\n",
    "3. Сохраните модель."
   ]
  },
  {
   "cell_type": "code",
   "execution_count": 67,
   "metadata": {},
   "outputs": [],
   "source": [
    "def error_rate(cm, day_i):\n",
    "    cm_df = confusion_matrix(y_test, y_pred, labels=np.unique(y_test))\n",
    "    cm_df = pd.DataFrame(cm_df, index=np.unique(y_test), columns=np.unique(y_test))\n",
    "\n",
    "    if cm:\n",
    "        print(f'Confusion Matrix:\\n{cm_df}')\n",
    "\n",
    "    print(f'Error rates:')\n",
    "    if len(day_i) == 0:\n",
    "        day_i = cm_df.index\n",
    "\n",
    "    for i in day_i:\n",
    "        day = (cm_df.loc[i].sum() - cm_df.loc[i, i]) / cm_df.loc[i].sum() * 100\n",
    "        print(f'day_{i}: Error Rate: {day:.5f} %')\n",
    "\n",
    "def day_error(day_i):\n",
    "    print(f'Day errors:')\n",
    "    y_t_p = pd.DataFrame({'index': y_test.index,'y_test': y_test, 'y_pred': y_pred})\n",
    "\n",
    "    if len(day_i) == 0:\n",
    "        day_i = np.unique(y_test)\n",
    "\n",
    "    for i in day_i:\n",
    "        yy = y_t_p[y_t_p['y_test'] == i]\n",
    "        yy = yy[yy['y_test'] != yy['y_pred']]\n",
    "\n",
    "        for j in range(len(yy)):\n",
    "            s = df.loc[yy.iloc[j, 0]]\n",
    "            s = s[s != 0]\n",
    "            print(f'True dayofweek: {i} | Pred dayofweek: {yy.iloc[j, 2]} | User UID: {s.index[2]} | Project Name: {s.index[3]}')"
   ]
  },
  {
   "cell_type": "code",
   "execution_count": 68,
   "metadata": {},
   "outputs": [
    {
     "name": "stdout",
     "output_type": "stream",
     "text": [
      "Confusion Matrix:\n",
      "    0   1   2   3   4   5   6\n",
      "0  20   0   0   1   1   1   4\n",
      "1   2  49   1   1   0   1   1\n",
      "2   0   0  28   2   0   0   0\n",
      "3   1   0   1  78   0   0   0\n",
      "4   0   0   0   0  18   3   0\n",
      "5   0   0   0   2   0  51   1\n",
      "6   0   0   0   0   0   1  70\n",
      "Error rates:\n",
      "day_5: Error Rate: 5.55556 %\n",
      "day_6: Error Rate: 1.40845 %\n",
      "Day errors:\n",
      "True dayofweek: 5 | Pred dayofweek: 6 | User UID: uid_user_3 | Project Name: labname_project1\n",
      "True dayofweek: 5 | Pred dayofweek: 3 | User UID: uid_user_19 | Project Name: labname_laba04\n",
      "True dayofweek: 5 | Pred dayofweek: 3 | User UID: uid_user_31 | Project Name: labname_project1\n",
      "True dayofweek: 6 | Pred dayofweek: 5 | User UID: uid_user_27 | Project Name: labname_laba04\n"
     ]
    }
   ],
   "source": [
    "error_rate(True, [5, 6])\n",
    "day_error([5, 6])"
   ]
  },
  {
   "cell_type": "code",
   "execution_count": 69,
   "metadata": {},
   "outputs": [
    {
     "data": {
      "text/plain": [
       "['model.pkl']"
      ]
     },
     "execution_count": 69,
     "metadata": {},
     "output_type": "execute_result"
    }
   ],
   "source": [
    "joblib.dump(model, 'model.pkl')"
   ]
  },
  {
   "cell_type": "markdown",
   "metadata": {},
   "source": [
    "## 6. Function"
   ]
  },
  {
   "cell_type": "markdown",
   "metadata": {},
   "source": [
    "1. Напишите функцию, которая принимает список различных моделей и соответствующий список параметров (dicts) и возвращает dict, содержащий все 4 метрики для каждой модели."
   ]
  },
  {
   "cell_type": "code",
   "execution_count": 70,
   "metadata": {},
   "outputs": [],
   "source": [
    "def metrics_calculation(class_models, best_params):\n",
    "    result = dict()\n",
    "    for i in range(len(class_models)):\n",
    "        row = dict()\n",
    "        model = class_models[i](**best_params[i])\n",
    "        model.fit(x_train, y_train)\n",
    "        y_pred = model.predict(x_test)\n",
    "\n",
    "        row['accuracy'] = accuracy_score(y_test, y_pred)\n",
    "        row['precision'] = precision_score(y_test, y_pred, average='weighted')\n",
    "        row['recall'] = recall_score(y_test, y_pred, average='weighted')\n",
    "        row['roc_auc'] = float(roc_auc_score(y_test, model.predict_proba(x_test), average='weighted', multi_class='ovo'))\n",
    "\n",
    "        result[class_models[i].__name__] = row\n",
    "\n",
    "    return result"
   ]
  },
  {
   "cell_type": "code",
   "execution_count": 71,
   "metadata": {},
   "outputs": [
    {
     "data": {
      "text/plain": [
       "{'SVC': {'accuracy': 0.8875739644970414,\n",
       "  'precision': 0.8926729169690374,\n",
       "  'recall': 0.8875739644970414,\n",
       "  'roc_auc': 0.9787793228216216},\n",
       " 'DecisionTreeClassifier': {'accuracy': 0.8905325443786982,\n",
       "  'precision': 0.8926192681313897,\n",
       "  'recall': 0.8905325443786982,\n",
       "  'roc_auc': 0.9366351447213223},\n",
       " 'RandomForestClassifier': {'accuracy': 0.9289940828402367,\n",
       "  'precision': 0.9300865038851309,\n",
       "  'recall': 0.9289940828402367,\n",
       "  'roc_auc': 0.9903274757720744}}"
      ]
     },
     "execution_count": 71,
     "metadata": {},
     "output_type": "execute_result"
    }
   ],
   "source": [
    "class_models = [SVC, DecisionTreeClassifier, RandomForestClassifier]\n",
    "best_params = [{'random_state': 21, 'probability':True, 'C': 10, 'class_weight': None, 'gamma': 'auto', 'kernel': 'rbf'},\n",
    "               {'random_state': 21, 'class_weight': 'balanced', 'criterion': 'gini', 'max_depth': np.int64(22)},\n",
    "               {'random_state': 21, 'class_weight': None, 'criterion': 'gini', 'max_depth': np.int64(28), 'n_estimators': 50}]\n",
    "result = metrics_calculation(class_models, best_params)\n",
    "result"
   ]
  }
 ],
 "metadata": {
  "kernelspec": {
   "display_name": "data",
   "language": "python",
   "name": "python3"
  },
  "language_info": {
   "codemirror_mode": {
    "name": "ipython",
    "version": 3
   },
   "file_extension": ".py",
   "mimetype": "text/x-python",
   "name": "python",
   "nbconvert_exporter": "python",
   "pygments_lexer": "ipython3",
   "version": "3.13.0"
  }
 },
 "nbformat": 4,
 "nbformat_minor": 4
}
