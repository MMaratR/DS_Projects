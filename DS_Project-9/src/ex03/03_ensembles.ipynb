{
 "cells": [
  {
   "cell_type": "markdown",
   "metadata": {},
   "source": [
    "# Day 09. Exercise 03\n",
    "# Ensembles"
   ]
  },
  {
   "cell_type": "markdown",
   "metadata": {},
   "source": [
    "## 0. Imports"
   ]
  },
  {
   "cell_type": "code",
   "execution_count": 113,
   "metadata": {},
   "outputs": [],
   "source": [
    "import pandas as pd\n",
    "import numpy as np\n",
    "import joblib"
   ]
  },
  {
   "cell_type": "code",
   "execution_count": 114,
   "metadata": {},
   "outputs": [],
   "source": [
    "from sklearn.model_selection import train_test_split, StratifiedKFold, GridSearchCV, KFold\n",
    "from sklearn.svm import SVC\n",
    "from sklearn.tree import DecisionTreeClassifier\n",
    "from sklearn.ensemble import RandomForestClassifier, VotingClassifier, BaggingClassifier, StackingClassifier\n",
    "from sklearn.linear_model import LogisticRegression\n",
    "from sklearn.metrics import accuracy_score, precision_score, recall_score, confusion_matrix"
   ]
  },
  {
   "cell_type": "markdown",
   "metadata": {},
   "source": [
    "## 1. Preprocessing"
   ]
  },
  {
   "cell_type": "markdown",
   "metadata": {},
   "source": [
    "1. Создайте тот же кадр данных, что и в предыдущем упражнении.\n",
    "2. Используя `train_test_split` с параметрами `test_size=0.2`, `random_state=21` получите `X_train`, `y_train`, `X_test`, `y_test`, а затем получите `x_train`, `y_train`, `X_valid`, `y_valid` из предыдущих `x_train`, `y_train`. Используйте дополнительный параметр `stratify`."
   ]
  },
  {
   "cell_type": "code",
   "execution_count": 115,
   "metadata": {},
   "outputs": [],
   "source": [
    "df = pd.read_csv('../data/day-of-week-not-scaled.csv')\n",
    "df1 = pd.read_csv('../data/dayofweek.csv')\n",
    "df['dayofweek'] = df1['dayofweek']\n",
    "\n",
    "x = df.drop(['dayofweek'], axis=1)\n",
    "y = df['dayofweek']\n",
    "x_train, x_test, y_train, y_test = train_test_split(x, y, test_size=0.2, random_state=21, stratify=y)"
   ]
  },
  {
   "cell_type": "markdown",
   "metadata": {},
   "source": [
    "## 2. Individual classifiers"
   ]
  },
  {
   "cell_type": "markdown",
   "metadata": {},
   "source": [
    "1. Снова обучите SVM, дерево решений и случайный лес с наилучшими параметрами, которые вы получили в упражнении 01, с `random_state=21` для всех них.\n",
    "2. Оцените `точность`, `точность` и `вызов` для них на проверочном множестве.\n",
    "3. Результат в каждой ячейке раздела должен выглядеть следующим образом:\n",
    "\n",
    "```\n",
    "accuracy is 0.87778\n",
    "precision is 0.88162\n",
    "recall is 0.87778\n",
    "```"
   ]
  },
  {
   "cell_type": "code",
   "execution_count": 116,
   "metadata": {},
   "outputs": [
    {
     "name": "stdout",
     "output_type": "stream",
     "text": [
      "accuracy is 0.88757\n",
      "precision is 0.89267\n",
      "recall is 0.88757\n"
     ]
    }
   ],
   "source": [
    "best_params = {'random_state': 21,'probability': True, 'C': 10, 'class_weight': None, 'gamma': 'auto', 'kernel': 'rbf'}\n",
    "svc = SVC(**best_params)\n",
    "svc.fit(x_train, y_train)\n",
    "y_pred = svc.predict(x_test)\n",
    "\n",
    "print(f\"accuracy is {accuracy_score(y_test, y_pred):.5f}\")\n",
    "print(f\"precision is {precision_score(y_test, y_pred, average='weighted'):.5f}\")\n",
    "print(f\"recall is {recall_score(y_test, y_pred, average='weighted'):.5f}\")"
   ]
  },
  {
   "cell_type": "code",
   "execution_count": 117,
   "metadata": {},
   "outputs": [
    {
     "name": "stdout",
     "output_type": "stream",
     "text": [
      "accuracy is 0.89053\n",
      "precision is 0.89262\n",
      "recall is 0.89053\n"
     ]
    }
   ],
   "source": [
    "best_params  = {'random_state': 21, 'class_weight': 'balanced', 'criterion': 'gini', 'max_depth': np.int64(22)}\n",
    "dtc = DecisionTreeClassifier(**best_params)\n",
    "dtc.fit(x_train, y_train)\n",
    "y_pred = dtc.predict(x_test)\n",
    "\n",
    "print(f\"accuracy is {accuracy_score(y_test, y_pred):.5f}\")\n",
    "print(f\"precision is {precision_score(y_test, y_pred, average='weighted'):.5f}\")\n",
    "print(f\"recall is {recall_score(y_test, y_pred, average='weighted'):.5f}\")"
   ]
  },
  {
   "cell_type": "code",
   "execution_count": 118,
   "metadata": {},
   "outputs": [
    {
     "name": "stdout",
     "output_type": "stream",
     "text": [
      "accuracy is 0.92899\n",
      "precision is 0.93009\n",
      "recall is 0.92899\n"
     ]
    }
   ],
   "source": [
    "best_params = {'random_state': 21, 'class_weight': None, 'criterion': 'gini', 'max_depth': np.int64(28), 'n_estimators': 50}\n",
    "rfc = RandomForestClassifier(**best_params)\n",
    "rfc.fit(x_train, y_train)\n",
    "y_pred = rfc.predict(x_test)\n",
    "\n",
    "print(f\"accuracy is {accuracy_score(y_test, y_pred):.5f}\")\n",
    "print(f\"precision is {precision_score(y_test, y_pred, average='weighted'):.5f}\")\n",
    "print(f\"recall is {recall_score(y_test, y_pred, average='weighted'):.5f}\")"
   ]
  },
  {
   "cell_type": "markdown",
   "metadata": {},
   "source": [
    "## 3. Voting classifiers"
   ]
  },
  {
   "cell_type": "markdown",
   "metadata": {},
   "source": [
    "1. Используя `VotingClassifier` и три модели, которые вы только что обучили, рассчитайте `точность`, `точность` и `вызов` на проверочном множестве.\n",
    "2. Поиграйте с другими параметрами.\n",
    "3. Рассчитайте `точность`, `точность` и `вызов` на тестовом наборе для модели с наилучшими весами с точки зрения точности (если их несколько с одинаковыми значениями, выберите ту, у которой выше точность)."
   ]
  },
  {
   "cell_type": "code",
   "execution_count": 119,
   "metadata": {},
   "outputs": [
    {
     "name": "stdout",
     "output_type": "stream",
     "text": [
      "Best params: {'voting': 'hard', 'weights': [1, 2, 3]}\n",
      "Accuracy: 0.92604\n",
      "accuracy is 0.92604\n",
      "precision is 0.92740\n",
      "recall is 0.92604\n"
     ]
    }
   ],
   "source": [
    "model = VotingClassifier(estimators=[('svc', svc), ('dtc', dtc), ('rfc', rfc)])\n",
    "param_grid = {'voting': ['soft', 'hard'],\n",
    "              'weights': [[1, 2, 3], [3, 2, 1], [1, 1, 1]]}\n",
    "\n",
    "skf = StratifiedKFold(n_splits=10, shuffle=True, random_state=21)\n",
    "grid_search = GridSearchCV(estimator=model, param_grid=param_grid, cv=skf, scoring='accuracy', n_jobs=-1)\n",
    "grid_search.fit(x_train, y_train)\n",
    "\n",
    "print(f'Best params: {grid_search.best_params_}')\n",
    "best_model = grid_search.best_estimator_\n",
    "y_pred = best_model.predict(x_test)\n",
    "print(f'Accuracy: {accuracy_score(y_test, y_pred):.5f}')\n",
    "\n",
    "print(f\"accuracy is {accuracy_score(y_test, y_pred):.5f}\")\n",
    "print(f\"precision is {precision_score(y_test, y_pred, average='weighted'):.5f}\")\n",
    "print(f\"recall is {recall_score(y_test, y_pred, average='weighted'):.5f}\")"
   ]
  },
  {
   "cell_type": "markdown",
   "metadata": {},
   "source": [
    "## 4. Bagging classifiers"
   ]
  },
  {
   "cell_type": "markdown",
   "metadata": {},
   "source": [
    "1. Используя `BaggingClassifier` и `SVM` с наилучшими параметрами, создайте ансамбль, попробуйте разные значения `n_estimators`, используйте `random_state=21`.\n",
    "2. Поиграйте с другими параметрами.\n",
    "3. Рассчитайте `точность`, `точность` и `вызов` для модели с лучшими параметрами (по точности) на тестовом наборе (если их несколько с одинаковыми значениями, выберите ту, у которой выше точность)."
   ]
  },
  {
   "cell_type": "code",
   "execution_count": 120,
   "metadata": {},
   "outputs": [
    {
     "name": "stdout",
     "output_type": "stream",
     "text": [
      "Best params: {'bootstrap': True, 'bootstrap_features': False, 'n_estimators': 20}\n",
      "Accuracy: 0.89941\n",
      "accuracy is 0.89941\n",
      "precision is 0.90369\n",
      "recall is 0.89941\n"
     ]
    }
   ],
   "source": [
    "best_params = {'random_state': 21,'probability': True, 'C': 10, 'class_weight': None, 'gamma': 'auto', 'kernel': 'rbf'}\n",
    "svc = SVC(**best_params)\n",
    "model = BaggingClassifier(estimator=svc, random_state=21)\n",
    "\n",
    "param_grid = {'n_estimators': [10, 20],\n",
    "              'bootstrap': [True, False],\n",
    "              'bootstrap_features': [True, False]  }\n",
    "\n",
    "skf = StratifiedKFold(n_splits=10, shuffle=True, random_state=21)\n",
    "grid_search = GridSearchCV(estimator=model, param_grid=param_grid, cv=skf, scoring='accuracy', n_jobs=-1)\n",
    "grid_search.fit(x_train, y_train)\n",
    "\n",
    "print(f'Best params: {grid_search.best_params_}')\n",
    "best_model = grid_search.best_estimator_\n",
    "y_pred = best_model.predict(x_test)\n",
    "print(f'Accuracy: {accuracy_score(y_test, y_pred):.5f}')\n",
    "\n",
    "print(f\"accuracy is {accuracy_score(y_test, y_pred):.5f}\")\n",
    "print(f\"precision is {precision_score(y_test, y_pred, average='weighted'):.5f}\")\n",
    "print(f\"recall is {recall_score(y_test, y_pred, average='weighted'):.5f}\")"
   ]
  },
  {
   "cell_type": "markdown",
   "metadata": {},
   "source": [
    "## 5. Stacking classifiers"
   ]
  },
  {
   "cell_type": "markdown",
   "metadata": {},
   "source": [
    "1. Для достижения воспроизводимости в этом случае вам придется создать объект генератора кросс-валидации: `StratifiedKFold(n_splits=n, shuffle=True, random_state=21)`, где `n` вы попытаетесь оптимизировать (подробности ниже).\n",
    "2. Используя `StackingClassifier` и три модели, которые вы недавно обучили, рассчитайте `точность`, `точность` и `результативность` на валидационном множестве, попробуйте разные значения `n_splits` `[2, 3, 4, 5, 6, 7]` в генераторе кросс-валидации и параметра `passthrough` в самом классификаторе,\n",
    "3. Вычислите `точность`, `точность` и `вызов` для модели с наилучшими параметрами (по точности) на тестовом множестве (если их несколько с одинаковыми значениями, выберите ту, у которой выше точность). Используйте `final_estimator=LogisticRegression(solver='liblinear')`."
   ]
  },
  {
   "cell_type": "code",
   "execution_count": 121,
   "metadata": {},
   "outputs": [
    {
     "name": "stdout",
     "output_type": "stream",
     "text": [
      "Best params: {'cv': StratifiedKFold(n_splits=4, random_state=21, shuffle=True), 'passthrough': True, 'stack_method': 'auto'}\n",
      "Accuracy: 0.92604\n",
      "Precision: 0.92709\n",
      "Recall: 0.92604\n"
     ]
    }
   ],
   "source": [
    "model = StackingClassifier(estimators=[('svc', svc), ('dtc', dtc), ('rfc', rfc)],\n",
    "                           final_estimator=LogisticRegression(solver='liblinear', random_state=21))\n",
    "\n",
    "param_grid = {'cv': [StratifiedKFold(n_splits=n, shuffle=True, random_state=21) for n in range(2, 12, 2)],\n",
    "              'stack_method': ['auto', 'predict_proba', 'predict'],\n",
    "              'passthrough': [True, False]}\n",
    "\n",
    "gscv = GridSearchCV(estimator=model, param_grid=param_grid, scoring='accuracy', n_jobs=-1)\n",
    "\n",
    "gscv.fit(x_train, y_train)\n",
    "print(f'Best params: {gscv.best_params_}')\n",
    "best_model = gscv.best_estimator_\n",
    "y_pred = best_model.predict(x_test)\n",
    "\n",
    "print(f\"Accuracy: {accuracy_score(y_test, y_pred):.5f}\")\n",
    "print(f\"Precision: {precision_score(y_test, y_pred, average='weighted'):.5f}\")\n",
    "print(f\"Recall: {recall_score(y_test, y_pred, average='weighted'):.5f}\")"
   ]
  },
  {
   "cell_type": "markdown",
   "metadata": {},
   "source": [
    "## 6. Predictions"
   ]
  },
  {
   "cell_type": "markdown",
   "metadata": {},
   "source": [
    "1. Выберите лучшую модель по точности (если их несколько с одинаковыми значениями, выберите ту, у которой точность выше).\n",
    "2. Проанализируйте: для какого дня недели ваша модель делает больше всего ошибок (в % от общего числа образцов этого класса в вашем полном наборе данных), для какого имени лаборатории и для каких пользователей.\n",
    "3. Сохраните модель."
   ]
  },
  {
   "cell_type": "code",
   "execution_count": 122,
   "metadata": {},
   "outputs": [],
   "source": [
    "def error_rate(cm, day_i):\n",
    "    cm_df = confusion_matrix(y_test, y_pred, labels=np.unique(y_test))\n",
    "    cm_df = pd.DataFrame(cm_df, index=np.unique(y_test), columns=np.unique(y_test))\n",
    "\n",
    "    if cm:\n",
    "        print(f'Confusion Matrix:\\n{cm_df}')\n",
    "\n",
    "    print(f'Error rates:')\n",
    "    if len(day_i) == 0:\n",
    "        day_i = cm_df.index\n",
    "\n",
    "    for i in day_i:\n",
    "        day = (cm_df.loc[i].sum() - cm_df.loc[i, i]) / cm_df.loc[i].sum() * 100\n",
    "        print(f'day_{i}: Error Rate: {day:.5f} %')\n",
    "\n",
    "def day_error(day_i):\n",
    "    print(f'Day errors:')\n",
    "    y_t_p = pd.DataFrame({'index': y_test.index,'y_test': y_test, 'y_pred': y_pred})\n",
    "\n",
    "    if len(day_i) == 0:\n",
    "        day_i = np.unique(y_test)\n",
    "\n",
    "    for i in day_i:\n",
    "        yy = y_t_p[y_t_p['y_test'] == i]\n",
    "        yy = yy[yy['y_test'] != yy['y_pred']]\n",
    "\n",
    "        for j in range(len(yy)):\n",
    "            s = df.loc[yy.iloc[j, 0]]\n",
    "            s = s[s != 0]\n",
    "            print(f'True dayofweek: {i} | Pred dayofweek: {yy.iloc[j, 2]} | User UID: {s.index[2]} | Project Name: {s.index[3]}')"
   ]
  },
  {
   "cell_type": "code",
   "execution_count": 123,
   "metadata": {},
   "outputs": [
    {
     "name": "stdout",
     "output_type": "stream",
     "text": [
      "Confusion Matrix:\n",
      "    0   1   2   3   4   5   6\n",
      "0  22   0   1   0   1   1   2\n",
      "1   1  49   1   3   0   1   0\n",
      "2   0   0  28   2   0   0   0\n",
      "3   1   1   0  76   0   1   1\n",
      "4   0   0   0   0  19   2   0\n",
      "5   0   0   0   2   0  49   3\n",
      "6   0   0   0   0   0   1  70\n",
      "Error rates:\n",
      "day_0: Error Rate: 18.51852 %\n",
      "day_1: Error Rate: 10.90909 %\n",
      "day_2: Error Rate: 6.66667 %\n",
      "day_3: Error Rate: 5.00000 %\n",
      "day_4: Error Rate: 9.52381 %\n",
      "day_5: Error Rate: 9.25926 %\n",
      "day_6: Error Rate: 1.40845 %\n",
      "Day errors:\n",
      "True dayofweek: 0 | Pred dayofweek: 2 | User UID: uid_user_4 | Project Name: labname_laba06s\n",
      "True dayofweek: 0 | Pred dayofweek: 4 | User UID: uid_user_4 | Project Name: labname_project1\n",
      "True dayofweek: 0 | Pred dayofweek: 5 | User UID: uid_user_31 | Project Name: labname_project1\n",
      "True dayofweek: 0 | Pred dayofweek: 6 | User UID: uid_user_6 | Project Name: labname_laba06\n",
      "True dayofweek: 0 | Pred dayofweek: 6 | User UID: uid_user_14 | Project Name: labname_code_rvw\n"
     ]
    }
   ],
   "source": [
    "error_rate(True, [])\n",
    "day_error([0])"
   ]
  }
 ],
 "metadata": {
  "kernelspec": {
   "display_name": "data",
   "language": "python",
   "name": "python3"
  },
  "language_info": {
   "codemirror_mode": {
    "name": "ipython",
    "version": 3
   },
   "file_extension": ".py",
   "mimetype": "text/x-python",
   "name": "python",
   "nbconvert_exporter": "python",
   "pygments_lexer": "ipython3",
   "version": "3.13.0"
  }
 },
 "nbformat": 4,
 "nbformat_minor": 4
}
