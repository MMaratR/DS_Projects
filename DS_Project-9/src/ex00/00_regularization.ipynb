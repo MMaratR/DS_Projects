{
 "cells": [
  {
   "cell_type": "markdown",
   "metadata": {},
   "source": [
    "# Day 09. Exercise 00\n",
    "# Regularization"
   ]
  },
  {
   "cell_type": "markdown",
   "metadata": {},
   "source": [
    "## 0. Imports"
   ]
  },
  {
   "cell_type": "code",
   "execution_count": 63,
   "metadata": {},
   "outputs": [],
   "source": [
    "import pandas as pd\n",
    "import numpy as np\n",
    "import joblib"
   ]
  },
  {
   "cell_type": "code",
   "execution_count": 64,
   "metadata": {},
   "outputs": [],
   "source": [
    "from sklearn.model_selection import train_test_split, StratifiedKFold, GridSearchCV\n",
    "from sklearn.linear_model import LogisticRegression\n",
    "from sklearn.metrics import accuracy_score, confusion_matrix\n",
    "from sklearn.svm import SVC\n",
    "from sklearn.tree import DecisionTreeClassifier\n",
    "from sklearn.ensemble import RandomForestClassifier\n"
   ]
  },
  {
   "cell_type": "markdown",
   "metadata": {},
   "source": [
    "## 1. Preprocessing"
   ]
  },
  {
   "cell_type": "markdown",
   "metadata": {},
   "source": [
    "1. Считайте файл `dayofweek.csv`, который вы использовали в предыдущий день, в кадр данных.\n",
    "2. Используя `train_test_split` с параметрами `test_size=0.2`, `random_state=21`, получите `X_train`, `y_train`, `X_test`, `y_test`. Используйте дополнительный параметр `stratify`."
   ]
  },
  {
   "cell_type": "code",
   "execution_count": 65,
   "metadata": {},
   "outputs": [],
   "source": [
    "df = pd.read_csv('../data/dayofweek.csv')\n",
    "x = df.drop('dayofweek', axis=1)\n",
    "y = df.dayofweek\n",
    "x_train, x_test, y_train, y_test = train_test_split(x, y, test_size=0.2, random_state=21, stratify=y)"
   ]
  },
  {
   "cell_type": "markdown",
   "metadata": {},
   "source": [
    "## 2. Logreg regularization"
   ]
  },
  {
   "cell_type": "markdown",
   "metadata": {},
   "source": [
    "### a. Default regularization"
   ]
  },
  {
   "cell_type": "markdown",
   "metadata": {},
   "source": [
    "1. Обучите базовую модель с единственными параметрами `random_state=21`, `fit_intercept=False`.\n",
    "2. Используйте стратифицированную K-кратную кросс-валидацию с `10` разбиениями для оценки точности модели.\n",
    "\n",
    "\n",
    "Результат кода, в котором вы обучали и оценивали базовую модель, должен быть примерно таким (используйте `%%time`, чтобы получить информацию о том, сколько времени занял запуск ячейки):\n",
    "\n",
    "```\n",
    "train -  0.62902   |   valid -  0.59259\n",
    "train -  0.64633   |   valid -  0.62963\n",
    "train -  0.63479   |   valid -  0.56296\n",
    "train -  0.65622   |   valid -  0.61481\n",
    "train -  0.63397   |   valid -  0.57778\n",
    "train -  0.64056   |   valid -  0.59259\n",
    "train -  0.64138   |   valid -  0.65926\n",
    "train -  0.65952   |   valid -  0.56296\n",
    "train -  0.64333   |   valid -  0.59701\n",
    "train -  0.63674   |   valid -  0.62687\n",
    "Average accuracy on crossval is 0.60165\n",
    "Std is 0.02943\n",
    "```"
   ]
  },
  {
   "cell_type": "code",
   "execution_count": 66,
   "metadata": {},
   "outputs": [
    {
     "name": "stdout",
     "output_type": "stream",
     "text": [
      "accuracy train = 0.6454005934718101\n",
      "accuracy test = 0.6331360946745562\n",
      "accuracy = 0.6405693950177936\n"
     ]
    }
   ],
   "source": [
    "model = LogisticRegression(random_state=21, fit_intercept=False)\n",
    "model.fit(x_train, y_train)\n",
    "print(f'accuracy train = {accuracy_score(y_train, model.predict(x_train))}')\n",
    "print(f'accuracy test = {accuracy_score(y_test, model.predict(x_test))}')\n",
    "model.fit(x, y)\n",
    "print(f'accuracy = {accuracy_score(y, model.predict(x))}')"
   ]
  },
  {
   "cell_type": "code",
   "execution_count": 67,
   "metadata": {},
   "outputs": [],
   "source": [
    "def crossval(x, y, model):\n",
    "    scores_train = []\n",
    "    scores_test = []\n",
    "    skf = StratifiedKFold(n_splits=10, shuffle=True, random_state=21)\n",
    "\n",
    "    for train_index, test_index in skf.split(x, y):\n",
    "        x_train, x_test = x.iloc[train_index], x.iloc[test_index]\n",
    "        y_train, y_test = y.iloc[train_index], y.iloc[test_index]\n",
    "\n",
    "        model.fit(x_train, y_train)\n",
    "        scores_train.append(accuracy_score(y_train, model.predict(x_train)))\n",
    "        scores_test.append(accuracy_score(y_test, model.predict(x_test)))\n",
    "\n",
    "    for i in range(10):\n",
    "        print(f'train - {scores_train[i]:.5f} | valid - {scores_test[i]:.5f}')\n",
    "    print(f'Average accuracy on crossval is {np.mean(scores_test):.5f}')\n",
    "    print(f'Std is {np.std(scores_test):.5f}')"
   ]
  },
  {
   "cell_type": "code",
   "execution_count": 68,
   "metadata": {},
   "outputs": [
    {
     "name": "stdout",
     "output_type": "stream",
     "text": [
      "train - 0.63546 | valid - 0.65089\n",
      "train - 0.65326 | valid - 0.60947\n",
      "train - 0.63942 | valid - 0.63314\n",
      "train - 0.63283 | valid - 0.57988\n",
      "train - 0.65590 | valid - 0.57988\n",
      "train - 0.64535 | valid - 0.62130\n",
      "train - 0.63834 | valid - 0.60714\n",
      "train - 0.63702 | valid - 0.59524\n",
      "train - 0.64295 | valid - 0.68452\n",
      "train - 0.63900 | valid - 0.56548\n",
      "Average accuracy on crossval is 0.61269\n",
      "Std is 0.03441\n",
      "CPU times: total: 15.6 ms\n",
      "Wall time: 199 ms\n"
     ]
    }
   ],
   "source": [
    "%%time\n",
    "crossval(x, y, model)"
   ]
  },
  {
   "cell_type": "markdown",
   "metadata": {},
   "source": [
    "### b. Optimizing regularization parameters"
   ]
  },
  {
   "cell_type": "markdown",
   "metadata": {},
   "source": [
    "1. В ячейках ниже попробуйте разные значения штрафа: `none`, `l1`, `l2` - вы можете менять и значения решателя."
   ]
  },
  {
   "cell_type": "code",
   "execution_count": 69,
   "metadata": {},
   "outputs": [
    {
     "name": "stdout",
     "output_type": "stream",
     "text": [
      "train - 0.62887 | valid - 0.63314\n",
      "train - 0.63349 | valid - 0.60947\n",
      "train - 0.62360 | valid - 0.64497\n",
      "train - 0.62624 | valid - 0.57988\n",
      "train - 0.63744 | valid - 0.55621\n",
      "train - 0.62558 | valid - 0.59172\n",
      "train - 0.62912 | valid - 0.60119\n",
      "train - 0.61397 | valid - 0.54762\n",
      "train - 0.61792 | valid - 0.64286\n",
      "train - 0.63241 | valid - 0.55952\n",
      "Average accuracy on crossval is 0.59666\n",
      "Std is 0.03422\n",
      "CPU times: total: 109 ms\n",
      "Wall time: 130 ms\n"
     ]
    }
   ],
   "source": [
    "%%time\n",
    "model = LogisticRegression(random_state=21, fit_intercept=False, penalty='l1', solver='liblinear')\n",
    "crossval(x, y, model)"
   ]
  },
  {
   "cell_type": "code",
   "execution_count": 70,
   "metadata": {},
   "outputs": [
    {
     "name": "stdout",
     "output_type": "stream",
     "text": [
      "train - 0.62360 | valid - 0.64497\n",
      "train - 0.62953 | valid - 0.59763\n",
      "train - 0.61833 | valid - 0.61538\n",
      "train - 0.61833 | valid - 0.58580\n",
      "train - 0.63151 | valid - 0.56213\n",
      "train - 0.61898 | valid - 0.60355\n",
      "train - 0.62121 | valid - 0.59524\n",
      "train - 0.61462 | valid - 0.55952\n",
      "train - 0.61067 | valid - 0.63095\n",
      "train - 0.61858 | valid - 0.54762\n",
      "Average accuracy on crossval is 0.59428\n",
      "Std is 0.02991\n",
      "CPU times: total: 78.1 ms\n",
      "Wall time: 83.1 ms\n"
     ]
    }
   ],
   "source": [
    "%%time\n",
    "model = LogisticRegression(random_state=21, fit_intercept=False, penalty='l2', solver='liblinear')\n",
    "crossval(x, y, model)"
   ]
  },
  {
   "cell_type": "markdown",
   "metadata": {},
   "source": [
    "## 3. SVM regularization"
   ]
  },
  {
   "cell_type": "markdown",
   "metadata": {},
   "source": [
    "### a. Default regularization"
   ]
  },
  {
   "cell_type": "markdown",
   "metadata": {},
   "source": [
    "1. Обучите базовую модель с единственными параметрами `probability=True`, `kernel='linear'`, `random_state=21`.\n",
    "2. Используйте стратифицированную K-кратную кросс-валидацию с `10` разбиениями для оценки точности модели.\n",
    "3. Формат результатов кода, в котором вы обучали и оценивали базовую модель, должен быть аналогичен тому, что вы получили для logreg."
   ]
  },
  {
   "cell_type": "code",
   "execution_count": 71,
   "metadata": {},
   "outputs": [
    {
     "name": "stdout",
     "output_type": "stream",
     "text": [
      "accuracy train = 0.6891691394658753\n",
      "accuracy test = 0.7159763313609467\n",
      "accuracy = 0.702846975088968\n"
     ]
    }
   ],
   "source": [
    "model = SVC(probability=True, kernel='linear', random_state=21)\n",
    "model.fit(x_train, y_train)\n",
    "print(f'accuracy train = {accuracy_score(y_train, model.predict(x_train))}')\n",
    "print(f'accuracy test = {accuracy_score(y_test, model.predict(x_test))}')\n",
    "model.fit(x, y)\n",
    "print(f'accuracy = {accuracy_score(y, model.predict(x))}')"
   ]
  },
  {
   "cell_type": "code",
   "execution_count": 72,
   "metadata": {},
   "outputs": [
    {
     "name": "stdout",
     "output_type": "stream",
     "text": [
      "train - 0.70138 | valid - 0.71598\n",
      "train - 0.69677 | valid - 0.68639\n",
      "train - 0.70402 | valid - 0.71006\n",
      "train - 0.69941 | valid - 0.63905\n",
      "train - 0.71127 | valid - 0.62130\n",
      "train - 0.70336 | valid - 0.69822\n",
      "train - 0.69038 | valid - 0.67857\n",
      "train - 0.70487 | valid - 0.69048\n",
      "train - 0.69895 | valid - 0.71429\n",
      "train - 0.70026 | valid - 0.61905\n",
      "Average accuracy on crossval is 0.67734\n",
      "Std is 0.03553\n",
      "CPU times: total: 2.69 s\n",
      "Wall time: 2.74 s\n"
     ]
    }
   ],
   "source": [
    "%%time\n",
    "crossval(x, y, model)"
   ]
  },
  {
   "cell_type": "markdown",
   "metadata": {},
   "source": [
    "### b. Optimizing regularization parameters"
   ]
  },
  {
   "cell_type": "markdown",
   "metadata": {},
   "source": [
    "1. В ячейках ниже попробуйте разные значения параметра `C`."
   ]
  },
  {
   "cell_type": "code",
   "execution_count": 73,
   "metadata": {},
   "outputs": [
    {
     "name": "stdout",
     "output_type": "stream",
     "text": [
      "train - 0.58075 | valid - 0.59763\n",
      "train - 0.57877 | valid - 0.54438\n",
      "train - 0.57284 | valid - 0.57396\n",
      "train - 0.58603 | valid - 0.61538\n",
      "train - 0.59328 | valid - 0.50296\n",
      "train - 0.56823 | valid - 0.57396\n",
      "train - 0.57115 | valid - 0.54762\n",
      "train - 0.57971 | valid - 0.58929\n",
      "train - 0.58696 | valid - 0.58929\n",
      "train - 0.59289 | valid - 0.54762\n",
      "Average accuracy on crossval is 0.56821\n",
      "Std is 0.03118\n",
      "CPU times: total: 2.89 s\n",
      "Wall time: 2.91 s\n"
     ]
    }
   ],
   "source": [
    "%%time\n",
    "model = SVC(probability=True, kernel='linear', random_state=21, C=0.1)\n",
    "crossval(x, y, model)"
   ]
  },
  {
   "cell_type": "code",
   "execution_count": 74,
   "metadata": {},
   "outputs": [
    {
     "name": "stdout",
     "output_type": "stream",
     "text": [
      "train - 0.40804 | valid - 0.41420\n",
      "train - 0.41859 | valid - 0.38462\n",
      "train - 0.43771 | valid - 0.41420\n",
      "train - 0.44034 | valid - 0.44970\n",
      "train - 0.39684 | valid - 0.36095\n",
      "train - 0.43705 | valid - 0.48521\n",
      "train - 0.44137 | valid - 0.43452\n",
      "train - 0.39789 | valid - 0.40476\n",
      "train - 0.44137 | valid - 0.42857\n",
      "train - 0.43412 | valid - 0.45238\n",
      "Average accuracy on crossval is 0.42291\n",
      "Std is 0.03380\n",
      "CPU times: total: 3.47 s\n",
      "Wall time: 3.46 s\n"
     ]
    }
   ],
   "source": [
    "%%time\n",
    "model = SVC(probability=True, kernel='linear', random_state=21, C=0.01)\n",
    "crossval(x, y, model)"
   ]
  },
  {
   "cell_type": "code",
   "execution_count": 75,
   "metadata": {},
   "outputs": [
    {
     "name": "stdout",
     "output_type": "stream",
     "text": [
      "train - 0.77521 | valid - 0.75740\n",
      "train - 0.77587 | valid - 0.73964\n",
      "train - 0.77983 | valid - 0.75740\n",
      "train - 0.78049 | valid - 0.75148\n",
      "train - 0.78510 | valid - 0.69822\n",
      "train - 0.76664 | valid - 0.75740\n",
      "train - 0.78195 | valid - 0.77381\n",
      "train - 0.78195 | valid - 0.75595\n",
      "train - 0.77800 | valid - 0.78571\n",
      "train - 0.76680 | valid - 0.71429\n",
      "Average accuracy on crossval is 0.74913\n",
      "Std is 0.02470\n",
      "CPU times: total: 4.06 s\n",
      "Wall time: 4.14 s\n"
     ]
    }
   ],
   "source": [
    "%%time\n",
    "model = SVC(probability=True, kernel='linear', random_state=21, C=10)\n",
    "crossval(x, y, model)"
   ]
  },
  {
   "cell_type": "markdown",
   "metadata": {},
   "source": [
    "## 4. Tree"
   ]
  },
  {
   "cell_type": "markdown",
   "metadata": {},
   "source": [
    "### a. Default regularization"
   ]
  },
  {
   "cell_type": "markdown",
   "metadata": {},
   "source": [
    "1. Обучите базовую модель с единственным параметром `max_depth=10` и `random_state=21`.\n",
    "2. Для оценки точности модели используйте стратифицированную K-кратную кросс-валидацию с разбиением `10`.\n",
    "3. Формат результатов кода, в котором вы обучали и оценивали базовую модель, должен быть аналогичен тому, что вы получили для logreg."
   ]
  },
  {
   "cell_type": "code",
   "execution_count": 76,
   "metadata": {},
   "outputs": [
    {
     "name": "stdout",
     "output_type": "stream",
     "text": [
      "accuracy train = 0.7848664688427299\n",
      "accuracy test = 0.7396449704142012\n",
      "accuracy = 0.8196915776986952\n"
     ]
    }
   ],
   "source": [
    "model = DecisionTreeClassifier(max_depth=10, random_state=21)\n",
    "model.fit(x_train, y_train)\n",
    "print(f'accuracy train = {accuracy_score(y_train, model.predict(x_train))}')\n",
    "print(f'accuracy test = {accuracy_score(y_test, model.predict(x_test))}')\n",
    "model.fit(x, y)\n",
    "print(f'accuracy = {accuracy_score(y, model.predict(x))}')"
   ]
  },
  {
   "cell_type": "code",
   "execution_count": 77,
   "metadata": {},
   "outputs": [
    {
     "name": "stdout",
     "output_type": "stream",
     "text": [
      "train - 0.82004 | valid - 0.79290\n",
      "train - 0.82663 | valid - 0.69822\n",
      "train - 0.82927 | valid - 0.76331\n",
      "train - 0.81806 | valid - 0.71598\n",
      "train - 0.82268 | valid - 0.74556\n",
      "train - 0.80554 | valid - 0.77515\n",
      "train - 0.83333 | valid - 0.75595\n",
      "train - 0.81555 | valid - 0.76786\n",
      "train - 0.81225 | valid - 0.77381\n",
      "train - 0.81752 | valid - 0.69048\n",
      "Average accuracy on crossval is 0.74792\n",
      "Std is 0.03306\n",
      "CPU times: total: 46.9 ms\n",
      "Wall time: 60.1 ms\n"
     ]
    }
   ],
   "source": [
    "%%time\n",
    "crossval(x, y, model)"
   ]
  },
  {
   "cell_type": "markdown",
   "metadata": {},
   "source": [
    "### b. Optimizing regularization parameters"
   ]
  },
  {
   "cell_type": "markdown",
   "metadata": {},
   "source": [
    "1. В ячейках ниже попробуйте разные значения параметра `max_depth`.\n",
    "2. В качестве бонуса поиграйте с другими параметрами регуляризации, пытаясь найти наилучшую комбинацию."
   ]
  },
  {
   "cell_type": "code",
   "execution_count": 78,
   "metadata": {},
   "outputs": [
    {
     "name": "stdout",
     "output_type": "stream",
     "text": [
      "train - 0.35662 | valid - 0.36686\n",
      "train - 0.35992 | valid - 0.33728\n",
      "train - 0.35860 | valid - 0.34911\n",
      "train - 0.35662 | valid - 0.36686\n",
      "train - 0.36058 | valid - 0.33136\n",
      "train - 0.35333 | valid - 0.39645\n",
      "train - 0.35837 | valid - 0.35119\n",
      "train - 0.35837 | valid - 0.35119\n",
      "train - 0.35705 | valid - 0.36310\n",
      "train - 0.35705 | valid - 0.36310\n",
      "Average accuracy on crossval is 0.35765\n",
      "Std is 0.01731\n",
      "CPU times: total: 31.2 ms\n",
      "Wall time: 42.6 ms\n"
     ]
    }
   ],
   "source": [
    "%%time\n",
    "model = DecisionTreeClassifier(max_depth=1, random_state=21)\n",
    "crossval(x, y, model)"
   ]
  },
  {
   "cell_type": "code",
   "execution_count": 79,
   "metadata": {},
   "outputs": [
    {
     "name": "stdout",
     "output_type": "stream",
     "text": [
      "train - 0.62096 | valid - 0.62130\n",
      "train - 0.61042 | valid - 0.55030\n",
      "train - 0.62426 | valid - 0.59763\n",
      "train - 0.60976 | valid - 0.59172\n",
      "train - 0.61305 | valid - 0.53846\n",
      "train - 0.60382 | valid - 0.56213\n",
      "train - 0.61199 | valid - 0.61905\n",
      "train - 0.61199 | valid - 0.59524\n",
      "train - 0.60738 | valid - 0.64286\n",
      "train - 0.62187 | valid - 0.55952\n",
      "Average accuracy on crossval is 0.58782\n",
      "Std is 0.03255\n",
      "CPU times: total: 46.9 ms\n",
      "Wall time: 53.6 ms\n"
     ]
    }
   ],
   "source": [
    "%%time\n",
    "model = DecisionTreeClassifier(max_depth=5, random_state=21)\n",
    "crossval(x, y, model)"
   ]
  },
  {
   "cell_type": "code",
   "execution_count": 80,
   "metadata": {},
   "outputs": [
    {
     "name": "stdout",
     "output_type": "stream",
     "text": [
      "train - 0.98682 | valid - 0.89349\n",
      "train - 0.98550 | valid - 0.85207\n",
      "train - 0.99473 | valid - 0.93491\n",
      "train - 0.99341 | valid - 0.89941\n",
      "train - 0.98484 | valid - 0.88757\n",
      "train - 0.98286 | valid - 0.88166\n",
      "train - 0.98617 | valid - 0.89881\n",
      "train - 0.99341 | valid - 0.90476\n",
      "train - 0.98551 | valid - 0.92262\n",
      "train - 0.98946 | valid - 0.87500\n",
      "Average accuracy on crossval is 0.89503\n",
      "Std is 0.02228\n",
      "CPU times: total: 46.9 ms\n",
      "Wall time: 65.5 ms\n"
     ]
    }
   ],
   "source": [
    "%%time\n",
    "model = DecisionTreeClassifier(max_depth=20, random_state=21)\n",
    "crossval(x, y, model)"
   ]
  },
  {
   "cell_type": "code",
   "execution_count": 81,
   "metadata": {},
   "outputs": [
    {
     "name": "stdout",
     "output_type": "stream",
     "text": [
      "Best params: {'criterion': 'entropy', 'max_depth': np.int64(20), 'splitter': 'random'}\n",
      "Best score: 0.5166944673678296\n",
      "CPU times: total: 15.6 ms\n",
      "Wall time: 156 ms\n"
     ]
    }
   ],
   "source": [
    "%%time\n",
    "model = DecisionTreeClassifier(random_state=21)\n",
    "param_grid = {'criterion': ['gini', 'entropy', 'log_loss'],\n",
    "              'splitter': ['best', 'random'],\n",
    "              'max_depth': np.arange(5, 30, 5)}\n",
    "\n",
    "gs = GridSearchCV(model, param_grid, scoring='accuracy', n_jobs=-1)\n",
    "gs.fit(x, y)\n",
    "\n",
    "print(f'Best params: {gs.best_params_}')\n",
    "print(f'Best score: {gs.best_score_}')"
   ]
  },
  {
   "cell_type": "markdown",
   "metadata": {},
   "source": [
    "## 5. Random forest"
   ]
  },
  {
   "cell_type": "markdown",
   "metadata": {},
   "source": [
    "### a. Default regularization"
   ]
  },
  {
   "cell_type": "markdown",
   "metadata": {},
   "source": [
    "1. Обучите базовую модель с единственными параметрами `n_estimators=50`, `max_depth=14`, `random_state=21`.\n",
    "2. Для оценки точности модели используйте стратифицированную K-кратную кросс-валидацию с разбиением на `10`.\n",
    "3. Формат результатов кода, в котором вы обучали и оценивали базовую модель, должен быть аналогичен тому, что вы получили для logreg."
   ]
  },
  {
   "cell_type": "code",
   "execution_count": 82,
   "metadata": {},
   "outputs": [
    {
     "name": "stdout",
     "output_type": "stream",
     "text": [
      "accuracy train = 0.9651335311572701\n",
      "accuracy test = 0.908284023668639\n",
      "accuracy = 0.966785290628707\n"
     ]
    }
   ],
   "source": [
    "model = RandomForestClassifier(n_estimators=50, max_depth=14, random_state=21)\n",
    "model.fit(x_train, y_train)\n",
    "print(f'accuracy train = {accuracy_score(y_train, model.predict(x_train))}')\n",
    "print(f'accuracy test = {accuracy_score(y_test, model.predict(x_test))}')\n",
    "model.fit(x, y)\n",
    "print(f'accuracy = {accuracy_score(y, model.predict(x))}')"
   ]
  },
  {
   "cell_type": "code",
   "execution_count": 83,
   "metadata": {},
   "outputs": [
    {
     "name": "stdout",
     "output_type": "stream",
     "text": [
      "train - 0.97034 | valid - 0.90533\n",
      "train - 0.96704 | valid - 0.87574\n",
      "train - 0.96902 | valid - 0.91124\n",
      "train - 0.97429 | valid - 0.89349\n",
      "train - 0.96243 | valid - 0.86982\n",
      "train - 0.96638 | valid - 0.94083\n",
      "train - 0.97036 | valid - 0.92262\n",
      "train - 0.97036 | valid - 0.91667\n",
      "train - 0.96838 | valid - 0.89881\n",
      "train - 0.97563 | valid - 0.88690\n",
      "Average accuracy on crossval is 0.90214\n",
      "Std is 0.02069\n",
      "CPU times: total: 703 ms\n",
      "Wall time: 786 ms\n"
     ]
    }
   ],
   "source": [
    "%%time\n",
    "crossval(x, y, model)"
   ]
  },
  {
   "cell_type": "markdown",
   "metadata": {},
   "source": [
    "### b. Optimizing regularization parameters"
   ]
  },
  {
   "cell_type": "markdown",
   "metadata": {},
   "source": [
    "1. В новых ячейках попробуйте разные значения параметров `max_depth` и `n_estimators`.\n",
    "2. В качестве бонуса поиграйте с другими параметрами регуляризации, пытаясь найти наилучшую комбинацию."
   ]
  },
  {
   "cell_type": "code",
   "execution_count": 84,
   "metadata": {},
   "outputs": [
    {
     "name": "stdout",
     "output_type": "stream",
     "text": [
      "train - 0.60382 | valid - 0.58580\n",
      "train - 0.61503 | valid - 0.59763\n",
      "train - 0.61239 | valid - 0.60947\n",
      "train - 0.58339 | valid - 0.56213\n",
      "train - 0.59591 | valid - 0.52071\n",
      "train - 0.58668 | valid - 0.55621\n",
      "train - 0.59157 | valid - 0.55952\n",
      "train - 0.56983 | valid - 0.58929\n",
      "train - 0.59618 | valid - 0.57143\n",
      "train - 0.60277 | valid - 0.57738\n",
      "Average accuracy on crossval is 0.57296\n",
      "Std is 0.02388\n",
      "CPU times: total: 594 ms\n",
      "Wall time: 624 ms\n"
     ]
    }
   ],
   "source": [
    "%%time\n",
    "model = RandomForestClassifier(n_estimators=50, max_depth=5, random_state=21)\n",
    "crossval(x, y, model)"
   ]
  },
  {
   "cell_type": "code",
   "execution_count": 85,
   "metadata": {},
   "outputs": [
    {
     "name": "stdout",
     "output_type": "stream",
     "text": [
      "train - 0.88991 | valid - 0.85799\n",
      "train - 0.86157 | valid - 0.77515\n",
      "train - 0.86882 | valid - 0.83432\n",
      "train - 0.89321 | valid - 0.82840\n",
      "train - 0.90112 | valid - 0.79290\n",
      "train - 0.87805 | valid - 0.84615\n",
      "train - 0.88538 | valid - 0.85714\n",
      "train - 0.86957 | valid - 0.85714\n",
      "train - 0.88406 | valid - 0.84524\n",
      "train - 0.89065 | valid - 0.79167\n",
      "Average accuracy on crossval is 0.82861\n",
      "Std is 0.02934\n",
      "CPU times: total: 1.34 s\n",
      "Wall time: 1.39 s\n"
     ]
    }
   ],
   "source": [
    "%%time\n",
    "model = RandomForestClassifier(n_estimators=100, max_depth=10, random_state=21)\n",
    "crossval(x, y, model)"
   ]
  },
  {
   "cell_type": "code",
   "execution_count": 86,
   "metadata": {},
   "outputs": [
    {
     "name": "stdout",
     "output_type": "stream",
     "text": [
      "train - 0.99934 | valid - 0.92308\n",
      "train - 0.99802 | valid - 0.92308\n",
      "train - 0.99934 | valid - 0.93491\n",
      "train - 0.99736 | valid - 0.93491\n",
      "train - 0.99868 | valid - 0.92308\n",
      "train - 0.99802 | valid - 0.94675\n",
      "train - 0.99736 | valid - 0.94643\n",
      "train - 0.99736 | valid - 0.91667\n",
      "train - 0.99671 | valid - 0.93452\n",
      "train - 0.99736 | valid - 0.92262\n",
      "Average accuracy on crossval is 0.93060\n",
      "Std is 0.00996\n",
      "CPU times: total: 2.95 s\n",
      "Wall time: 3.33 s\n"
     ]
    }
   ],
   "source": [
    "%%time\n",
    "model = RandomForestClassifier(n_estimators=200, max_depth=20, random_state=21)\n",
    "crossval(x, y, model)"
   ]
  },
  {
   "cell_type": "code",
   "execution_count": 87,
   "metadata": {},
   "outputs": [
    {
     "name": "stdout",
     "output_type": "stream",
     "text": [
      "train - 0.99209 | valid - 0.92899\n",
      "train - 0.99407 | valid - 0.91716\n",
      "train - 0.99341 | valid - 0.92899\n",
      "train - 0.99341 | valid - 0.92308\n",
      "train - 0.99473 | valid - 0.90533\n",
      "train - 0.99407 | valid - 0.93491\n",
      "train - 0.99473 | valid - 0.92857\n",
      "train - 0.99802 | valid - 0.91667\n",
      "train - 0.99473 | valid - 0.93452\n",
      "train - 0.98814 | valid - 0.91071\n",
      "Average accuracy on crossval is 0.92289\n",
      "Std is 0.00957\n",
      "CPU times: total: 344 ms\n",
      "Wall time: 375 ms\n"
     ]
    }
   ],
   "source": [
    "%%time\n",
    "model = RandomForestClassifier(n_estimators=20, max_depth=20, random_state=21)\n",
    "crossval(x, y, model)"
   ]
  },
  {
   "cell_type": "code",
   "execution_count": 88,
   "metadata": {},
   "outputs": [
    {
     "name": "stdout",
     "output_type": "stream",
     "text": [
      "Best params: {'criterion': 'entropy', 'max_depth': np.int64(20), 'n_estimators': np.int64(20)}\n",
      "Best score: 0.5398346004600285\n",
      "CPU times: total: 234 ms\n",
      "Wall time: 3.66 s\n"
     ]
    }
   ],
   "source": [
    "%%time\n",
    "model = RandomForestClassifier(random_state=21)\n",
    "param_grid = {'n_estimators': np.arange(20, 100, 20),\n",
    "              'criterion': ['gini', 'entropy', 'log_loss'],\n",
    "              'max_depth': np.arange(5, 30, 5)}\n",
    "\n",
    "gs = GridSearchCV(model, param_grid, scoring='accuracy', n_jobs=-1)\n",
    "gs.fit(x, y)\n",
    "\n",
    "print(f'Best params: {gs.best_params_}')\n",
    "print(f'Best score: {gs.best_score_}')"
   ]
  },
  {
   "cell_type": "markdown",
   "metadata": {},
   "source": [
    "## 6. Predictions"
   ]
  },
  {
   "cell_type": "markdown",
   "metadata": {},
   "source": [
    "1. Выберите лучшую модель и используйте ее для прогнозирования тестового набора данных.\n",
    "2. Рассчитайте итоговую точность.\n",
    "3. Проанализируйте: для какого дня недели ваша модель делает больше всего ошибок (в % от общего числа образцов этого класса в тестовом наборе данных).\n",
    "4. Сохраните модель."
   ]
  },
  {
   "cell_type": "code",
   "execution_count": 89,
   "metadata": {},
   "outputs": [
    {
     "name": "stdout",
     "output_type": "stream",
     "text": [
      "Final accuracy = 0.9112426035502958\n"
     ]
    }
   ],
   "source": [
    "model = RandomForestClassifier(n_estimators=20, max_depth=20, random_state=21)\n",
    "model.fit(x_train, y_train)\n",
    "y_pred = model.predict(x_test)\n",
    "print(f'Final accuracy = {accuracy_score(y_test, y_pred)}')"
   ]
  },
  {
   "cell_type": "code",
   "execution_count": 90,
   "metadata": {},
   "outputs": [
    {
     "name": "stdout",
     "output_type": "stream",
     "text": [
      "Confusion Matrix:\n",
      "    0   1   2   3   4   5   6\n",
      "0  20   1   0   1   0   1   4\n",
      "1   1  50   0   2   0   2   0\n",
      "2   0   0  28   2   0   0   0\n",
      "3   0   0   1  78   0   0   1\n",
      "4   0   0   0   0  18   3   0\n",
      "5   0   0   0   2   0  48   4\n",
      "6   0   0   0   1   0   4  66\n",
      "   Total Samples  Errors  Error Rate\n",
      "0             27       7   25.925926\n",
      "1             55       5    9.090909\n",
      "2             30       2    6.666667\n",
      "3             80       2    2.500000\n",
      "4             21       3   14.285714\n",
      "5             54       6   11.111111\n",
      "6             71       5    7.042254\n"
     ]
    }
   ],
   "source": [
    "cm = confusion_matrix(y_test, y_pred, labels=np.unique(y_test))\n",
    "cm_df = pd.DataFrame(cm, index=np.unique(y_test), columns=np.unique(y_test))\n",
    "\n",
    "print('Confusion Matrix:')\n",
    "print(cm_df)\n",
    "\n",
    "total_samples = y_test.value_counts().sort_index()\n",
    "\n",
    "errors = {}\n",
    "for true_label in np.unique(y_test):\n",
    "    errors[true_label] = cm_df.loc[true_label].sum() - cm_df.loc[true_label, true_label]\n",
    "\n",
    "errors_df = pd.DataFrame({'Total Samples': total_samples, 'Errors': pd.Series(errors)})\n",
    "errors_df['Error Rate'] = (errors_df['Errors'] / errors_df['Total Samples']) * 100\n",
    "print(errors_df)"
   ]
  },
  {
   "cell_type": "code",
   "execution_count": 91,
   "metadata": {},
   "outputs": [
    {
     "data": {
      "text/plain": [
       "['model.pkl']"
      ]
     },
     "execution_count": 91,
     "metadata": {},
     "output_type": "execute_result"
    }
   ],
   "source": [
    "joblib.dump(model, 'model.pkl')"
   ]
  }
 ],
 "metadata": {
  "kernelspec": {
   "display_name": "data",
   "language": "python",
   "name": "python3"
  },
  "language_info": {
   "codemirror_mode": {
    "name": "ipython",
    "version": 3
   },
   "file_extension": ".py",
   "mimetype": "text/x-python",
   "name": "python",
   "nbconvert_exporter": "python",
   "pygments_lexer": "ipython3",
   "version": "3.13.0"
  }
 },
 "nbformat": 4,
 "nbformat_minor": 4
}
