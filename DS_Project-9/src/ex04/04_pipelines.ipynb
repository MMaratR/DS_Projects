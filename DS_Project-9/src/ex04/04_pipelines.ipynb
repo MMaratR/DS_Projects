{
 "cells": [
  {
   "cell_type": "markdown",
   "metadata": {},
   "source": [
    "# Day 09. Exercise 04\n",
    "# Pipelines and OOP"
   ]
  },
  {
   "cell_type": "markdown",
   "metadata": {},
   "source": [
    "## 0. Imports"
   ]
  },
  {
   "cell_type": "code",
   "execution_count": 7,
   "metadata": {},
   "outputs": [],
   "source": [
    "import pandas as pd\n",
    "import numpy as np\n",
    "import joblib\n",
    "from tqdm.notebook import tqdm"
   ]
  },
  {
   "cell_type": "code",
   "execution_count": 8,
   "metadata": {},
   "outputs": [],
   "source": [
    "from sklearn.preprocessing import OneHotEncoder\n",
    "from sklearn.model_selection import train_test_split\n",
    "from sklearn.metrics import accuracy_score\n",
    "from sklearn.model_selection import GridSearchCV\n",
    "from sklearn.svm import SVC\n",
    "from sklearn.tree import DecisionTreeClassifier\n",
    "from sklearn.ensemble import RandomForestClassifier\n",
    "from sklearn.pipeline import Pipeline"
   ]
  },
  {
   "cell_type": "markdown",
   "metadata": {},
   "source": [
    "## 1. Preprocessing pipeline"
   ]
  },
  {
   "cell_type": "markdown",
   "metadata": {},
   "source": [
    "Создайте три пользовательских трансформатора, первые два из которых будут использоваться в [Pipeline](https://scikit-learn.org/stable/modules/generated/sklearn.pipeline.Pipeline.html).\n",
    "\n",
    "1. Класс `FeatureExtractor()`:\n",
    " - Берет датафрейм с `uid`, `labname`, `numTrials`, `timestamp` из файла [`checker_submits.csv`](https://drive.google.com/file/d/14voc4fNJZiLEFaZyd8nEG-lQt5JjatYw/view?usp=sharing).\n",
    " - Извлекает `час` из `временной метки`.\n",
    " - Извлекает `weekday` из `timestamp` (числа).\n",
    " - Опускает столбец `timestamp`.\n",
    " - Возвращает новый фрейм данных.\n",
    "\n",
    "\n",
    "2. Класс `MyOneHotEncoder()`:\n",
    " - Берет датафрейм из результата предыдущего преобразования и имя целевого столбца.\n",
    " - Определяет все категориальные признаки и преобразует их с помощью `OneHotEncoder()`. Если целевой столбец тоже категориальный, то преобразование к нему не применяется.\n",
    " - Отбрасывает исходные категориальные признаки.\n",
    " - Возвращает кадр данных с признаками и серию с целевым столбцом.\n",
    "\n",
    "\n",
    "3. Класс `TrainValidationTest()`:\n",
    " - Берет `x` и `y`.\n",
    " - Возвращает `X_train`, `X_valid`, `X_test`, `y_train`, `y_valid`, `y_test` (`test_size=0.2`, `random_state=21`, `stratified`)."
   ]
  },
  {
   "cell_type": "code",
   "execution_count": 9,
   "metadata": {},
   "outputs": [],
   "source": [
    "class FeatureExtractor():\n",
    "    def __init__(self):\n",
    "        pass\n",
    "\n",
    "    def fit(self, x=None, y=None):\n",
    "        return self\n",
    "\n",
    "    def transform(self, x, y=None):\n",
    "        x['hour'] = x['timestamp'].dt.hour\n",
    "        x['dayofweek'] = x['timestamp'].dt.weekday\n",
    "        x = x.drop(['timestamp'], axis=1)\n",
    "        return x"
   ]
  },
  {
   "cell_type": "code",
   "execution_count": 10,
   "metadata": {},
   "outputs": [],
   "source": [
    "class MyOneHotEncoder():\n",
    "    def __init__(self, target):\n",
    "        self.categorical_columns = None\n",
    "        self.target = target\n",
    "        self.encoder = OneHotEncoder(sparse_output=False, handle_unknown='ignore')\n",
    "\n",
    "    def fit(self, x, y=None):\n",
    "        self.categorical_columns = x.select_dtypes(include=['object', 'category']).columns.tolist()\n",
    "        if self.target in self.categorical_columns:\n",
    "            self.categorical_columns.remove(self.target)\n",
    "        self.encoder.fit(x[self.categorical_columns])\n",
    "\n",
    "        return self\n",
    "\n",
    "    def transform(self, x, y=None):\n",
    "        encod_trans = self.encoder.transform(x[self.categorical_columns])\n",
    "        encod_df = pd.DataFrame(encod_trans, columns=self.encoder.get_feature_names_out(self.categorical_columns))\n",
    "        x = x.drop(columns=self.categorical_columns)\n",
    "        x = pd.concat([x, encod_df], axis=1)\n",
    "        return x"
   ]
  },
  {
   "cell_type": "code",
   "execution_count": 11,
   "metadata": {},
   "outputs": [],
   "source": [
    "class TrainValidationTest():\n",
    "    def __init__(self):\n",
    "        self.test_size = 0.2\n",
    "        self.random_state = 21\n",
    "\n",
    "    def split(self, x, y):\n",
    "        x_val, x_test, y_val, y_test = train_test_split(x, y, test_size=self.test_size, random_state=self.random_state, stratify=y)\n",
    "        x_train, x_valid, y_train, y_valid = train_test_split(x_val, y_val, test_size=self.test_size, random_state=self.random_state, stratify=y_val)\n",
    "\n",
    "        return x_train, x_valid, x_test, y_train, y_valid, y_test"
   ]
  },
  {
   "cell_type": "code",
   "execution_count": 12,
   "metadata": {},
   "outputs": [],
   "source": [
    "# fe = FeatureExtractor()\n",
    "# df = fe.read_file()\n",
    "\n",
    "# mohe = MyOneHotEncoder()\n",
    "# df = mohe.fit_transform(df, 'dayofweek')\n",
    "\n",
    "# tvt = TrainValidationTest()\n",
    "# x = df.drop(['dayofweek'], axis=1)\n",
    "# y = df['dayofweek']\n",
    "# x_train, x_valid, x_test, y_train, y_valid, y_test = tvt.split(x, y)"
   ]
  },
  {
   "cell_type": "markdown",
   "metadata": {},
   "source": [
    "## 2. Model selection pipeline"
   ]
  },
  {
   "cell_type": "markdown",
   "metadata": {},
   "source": [
    "`ModelSelection()` class\n",
    "\n",
    " - Принимает список экземпляров `GridSearchCV` и dict, где ключами являются индексы из этого списка, а значениями - имена моделей, пример приведен ниже в обратном порядке (с высокого уровня к низкому):\n",
    "\n",
    "```\n",
    "ModelSelection(grids, grid_dict)\n",
    "\n",
    "grids = [gs_svm, gs_tree, gs_rf]\n",
    "\n",
    "gs_svm = GridSearchCV(estimator=svm, param_grid=svm_params, scoring='accuracy', cv=2, n_jobs=jobs), where jobs you can specify by yourself\n",
    "\n",
    "svm_params = [{'kernel':('linear', 'rbf', 'sigmoid'), 'C':[0.01, 0.1, 1, 1.5, 5, 10], 'gamma': ['scale', 'auto'], 'class_weight':('balanced', None), 'random_state':[21], 'probability':[True]}]\n",
    "```\n",
    "\n",
    " - Метод `choose()` берет `X_train`, `y_train`, `X_valid`, `y_valid` и возвращает имя лучшего классификатора среди всех моделей на валидном множестве\n",
    " - Метод `best_results()` возвращает фрейм данных со столбцами `model`, `params`, `valid_score`, где строки - это лучшие модели в каждом классе моделей.\n",
    "\n",
    "```\n",
    "model\tparams\tvalid_score\n",
    "0\tSVM\t{'C': 10, 'class_weight': None, 'gamma': 'auto...\t0.772727\n",
    "1\tDecision Tree\t{'class_weight': 'balanced', 'criterion': 'gin...\t0.801484\n",
    "2\tRandom Forest\t{'class_weight': None, 'criterion': 'entropy',...\t0.855288\n",
    "```\n",
    "\n",
    " - Когда вы перебираете параметры класса модели, выводите имя этого класса и показываете прогресс с помощью `tqdm.notebook`, в конце цикла выведите лучшую модель этого класса.\n",
    "\n",
    "```\n",
    "Estimator: SVM\n",
    "100%\n",
    "125/125 [01:32<00:00, 1.36it/s]\n",
    "Best params: {'C': 10, 'class_weight': None, 'gamma': 'auto', 'kernel': 'rbf', 'probability': True, 'random_state': 21}\n",
    "Best training accuracy: 0.773\n",
    "Validation set accuracy score for best params: 0.878 \n",
    "\n",
    "Estimator: Decision Tree\n",
    "100%\n",
    "57/57 [01:07<00:00, 1.22it/s]\n",
    "Best params: {'class_weight': 'balanced', 'criterion': 'gini', 'max_depth': 21, 'random_state': 21}\n",
    "Best training accuracy: 0.801\n",
    "Validation set accuracy score for best params: 0.867 \n",
    "\n",
    "Estimator: Random Forest\n",
    "100%\n",
    "284/284 [06:47<00:00, 1.13s/it]\n",
    "Best params: {'class_weight': None, 'criterion': 'entropy', 'max_depth': 22, 'n_estimators': 50, 'random_state': 21}\n",
    "Best training accuracy: 0.855\n",
    "Validation set accuracy score for best params: 0.907 \n",
    "\n",
    "Classifier with best validation set accuracy: Random Forest\n",
    "```"
   ]
  },
  {
   "cell_type": "code",
   "execution_count": 13,
   "metadata": {},
   "outputs": [],
   "source": [
    "svm_params = [{'kernel': ['linear', 'rbf', 'sigmoid'],\n",
    "              'C': [0.01, 0.1, 1, 1.5, 5, 10],\n",
    "              'gamma': ['scale', 'auto'],\n",
    "              'class_weight': ['balanced', None],\n",
    "              'random_state': [21],\n",
    "              'probability': [True]}]\n",
    "\n",
    "dtc_params = [{'max_depth': np.arange(1, 30, 1),\n",
    "               'class_weight': ['balanced', None],\n",
    "               'criterion': ['entropy', 'gini'],\n",
    "               'random_state': [21]}]\n",
    "\n",
    "rfc_params = [{'n_estimators': [5, 10, 50, 100],\n",
    "              'max_depth': np.arange(1, 49, 1),\n",
    "              'class_weight': ['balanced', None],\n",
    "              'criterion': ['entropy', 'gini'],\n",
    "              'random_state': [21]}]\n",
    "\n",
    "gs_svm = GridSearchCV(estimator=SVC(), param_grid=svm_params, scoring='accuracy', cv=2, n_jobs=-1)\n",
    "gs_tree = GridSearchCV(estimator=DecisionTreeClassifier(), param_grid=dtc_params, scoring='accuracy', cv=2, n_jobs=-1)\n",
    "gs_rf = GridSearchCV(estimator=RandomForestClassifier(), param_grid=rfc_params, scoring='accuracy', cv=2, n_jobs=-1)\n",
    "\n",
    "grids = [gs_svm, gs_tree, gs_rf]\n",
    "grid_dict = {0: 'SVM', 1: 'Decision Tree', 2: 'Random Forest'}"
   ]
  },
  {
   "cell_type": "code",
   "execution_count": 14,
   "metadata": {},
   "outputs": [],
   "source": [
    "class ModelSelection:\n",
    "    def __init__(self, grids, grid_dict):\n",
    "        self.grids = grids\n",
    "        self.grid_dict = grid_dict\n",
    "        self.results = []\n",
    "\n",
    "    def choose(self, X_train, y_train, X_valid, y_valid):\n",
    "        best_model_name = None\n",
    "        best_valid_score = 0\n",
    "\n",
    "        for i, grid in enumerate(self.grids):\n",
    "            model_name = self.grid_dict[i]\n",
    "            print(f'Estimator: {model_name}')\n",
    "\n",
    "            grid.fit(X_train, y_train)\n",
    "            y_valid_pred = grid.predict(X_valid)\n",
    "            valid_score = accuracy_score(y_valid, y_valid_pred)\n",
    "\n",
    "            self.results.append({\n",
    "                'model': model_name,\n",
    "                'params': grid.best_params_,\n",
    "                'valid_score': valid_score\n",
    "            })\n",
    "\n",
    "            print(f'Best params: {grid.best_params_}')\n",
    "            print(f'Best training accuracy: {grid.best_score_:.3f}')\n",
    "            print(f'Validation set accuracy score for best params: {valid_score:.3f}\\n')\n",
    "            if valid_score > best_valid_score:\n",
    "                best_valid_score = valid_score\n",
    "                best_model_name = model_name\n",
    "        print(f'Classifier with best validation set accuracy: {best_model_name}')\n",
    "        return best_model_name\n",
    "\n",
    "    def best_results(self):\n",
    "        return pd.DataFrame(self.results)"
   ]
  },
  {
   "cell_type": "code",
   "execution_count": 15,
   "metadata": {},
   "outputs": [],
   "source": [
    "# model_selector = ModelSelection(grids, grid_dict)\n",
    "# best_model_name = model_selector.choose(x_train, y_train, x_valid, y_valid)\n",
    "# result = model_selector.best_results()\n",
    "# result"
   ]
  },
  {
   "cell_type": "markdown",
   "metadata": {},
   "source": [
    "## 3. Finalization"
   ]
  },
  {
   "cell_type": "markdown",
   "metadata": {},
   "source": [
    "`Finalize()` class\n",
    " - Принимает оценщик.\n",
    " - Метод `final_score()` принимает `X_train`, `y_train`, `X_test`, `y_test` и возвращает точность модели, как в примере ниже:\n",
    "```\n",
    "final.final_score(X_train, y_train, X_test, y_test)\n",
    "Accuracy of the final model is 0.908284023668639\n",
    "```\n",
    " - Метод `save_model()` принимает путь, сохраняет модель по этому пути и печатает, что модель была успешно сохранена."
   ]
  },
  {
   "cell_type": "code",
   "execution_count": 16,
   "metadata": {},
   "outputs": [],
   "source": [
    "class Finalize:\n",
    "    def __init__(self, estimator):\n",
    "        self.estimator = estimator\n",
    "\n",
    "    def final_score(self, x_train, y_train, X_test, y_test):\n",
    "        self.estimator.fit(x_train, y_train)\n",
    "        y_test_pred = self.estimator.predict(X_test)\n",
    "\n",
    "        test_accuracy = accuracy_score(y_test, y_test_pred)\n",
    "        print(f'Accuracy of the final model is {test_accuracy:.6f}')\n",
    "        return test_accuracy\n",
    "\n",
    "    def save_model(self, path):\n",
    "        joblib.dump(self.estimator, path)\n",
    "        print(f'Model successfully saved to {path}')"
   ]
  },
  {
   "cell_type": "code",
   "execution_count": 17,
   "metadata": {},
   "outputs": [],
   "source": [
    "# model = RandomForestClassifier(random_state=21)\n",
    "# final = Finalize(model)\n",
    "# final.final_score(x_train, y_train, x_test, y_test)\n",
    "# final.save_model('./final_model.pkl')"
   ]
  },
  {
   "cell_type": "markdown",
   "metadata": {},
   "source": [
    "## 4. Main program"
   ]
  },
  {
   "cell_type": "markdown",
   "metadata": {},
   "source": [
    "1. Загрузите данные из файла (**** имя файла****).\n",
    "2. Создайте конвейер предварительной обработки, состоящий из двух пользовательских трансформаторов: `FeatureExtractor()` и `MyOneHotEncoder()`:\n",
    "```\n",
    "preprocessing = Pipeline([('feature_extractor', FeatureExtractor()), ('onehot_encoder', MyOneHotEncoder('dayofweek'))])\n",
    "```\n",
    "3. Используйте этот конвейер и его метод `fit_transform()` на исходном наборе данных.\n",
    "```\n",
    "data = preprocessing.fit_transform(df)\n",
    "```\n",
    "4. Получите `X_train`, `X_valid`, `X_test`, `y_train`, `y_valid`, `y_test` с помощью `TrainValidationTest()` и результат конвейера.\n",
    "5. Создайте экземпляр `ModelSelection()`, используйте метод `choose()`, применяя его к нужным вам моделям и параметрам, получите датафрейм лучших результатов.\n",
    "6. создайте экземпляр `Finalize()` с вашей лучшей моделью, используйте метод `final_score()` и сохраните модель в формате: `имя_модели_{точность на тестовом наборе данных}.sav`.\n",
    "\n",
    "Вот и все, поздравляем!"
   ]
  },
  {
   "cell_type": "code",
   "execution_count": 18,
   "metadata": {},
   "outputs": [
    {
     "name": "stdout",
     "output_type": "stream",
     "text": [
      "Estimator: SVM\n",
      "Best params: {'C': 10, 'class_weight': None, 'gamma': 'auto', 'kernel': 'rbf', 'probability': True, 'random_state': 21}\n",
      "Best training accuracy: 0.773\n",
      "Validation set accuracy score for best params: 0.878\n",
      "\n",
      "Estimator: Decision Tree\n",
      "Best params: {'class_weight': 'balanced', 'criterion': 'gini', 'max_depth': np.int64(22), 'random_state': 21}\n",
      "Best training accuracy: 0.809\n",
      "Validation set accuracy score for best params: 0.867\n",
      "\n",
      "Estimator: Random Forest\n",
      "Best params: {'class_weight': None, 'criterion': 'entropy', 'max_depth': np.int64(22), 'n_estimators': 50, 'random_state': 21}\n",
      "Best training accuracy: 0.855\n",
      "Validation set accuracy score for best params: 0.907\n",
      "\n",
      "Classifier with best validation set accuracy: Random Forest\n",
      "           model                                             params  \\\n",
      "0            SVM  {'C': 10, 'class_weight': None, 'gamma': 'auto...   \n",
      "1  Decision Tree  {'class_weight': 'balanced', 'criterion': 'gin...   \n",
      "2  Random Forest  {'class_weight': None, 'criterion': 'entropy',...   \n",
      "\n",
      "   valid_score  \n",
      "0     0.877778  \n",
      "1     0.866667  \n",
      "2     0.907407  \n",
      "Accuracy of the final model is 0.905325\n",
      "Model successfully saved to Random Forest_0.90533.sav\n"
     ]
    }
   ],
   "source": [
    "df = pd.read_csv('../data/checker_submits.csv', parse_dates=['timestamp'])\n",
    "\n",
    "preprocessing = Pipeline([('feature_extractor', FeatureExtractor()),\n",
    "                          ('onehot_encoder', MyOneHotEncoder('dayofweek'))])\n",
    "data = preprocessing.fit_transform(df)\n",
    "\n",
    "x = data.drop(['dayofweek'], axis=1)\n",
    "y = data['dayofweek']\n",
    "\n",
    "tvt = TrainValidationTest()\n",
    "x_train, x_valid, x_test, y_train, y_valid, y_test = tvt.split(x, y)\n",
    "\n",
    "model_selector = ModelSelection(grids, grid_dict)\n",
    "best_model_name = model_selector.choose(x_train, y_train, x_valid, y_valid)\n",
    "result = model_selector.best_results()\n",
    "print(result)\n",
    "\n",
    "best_model = None\n",
    "for i, grid in enumerate(grids):\n",
    "    if grid_dict[i] == best_model_name:\n",
    "        best_model = grid.best_estimator_\n",
    "        break\n",
    "\n",
    "final = Finalize(best_model)\n",
    "test_accuracy = final.final_score(x_train, y_train, x_test, y_test)\n",
    "\n",
    "model_file_name = f\"{best_model_name}_{test_accuracy:.5f}.sav\"\n",
    "final.save_model(model_file_name)"
   ]
  }
 ],
 "metadata": {
  "kernelspec": {
   "display_name": "data",
   "language": "python",
   "name": "python3"
  },
  "language_info": {
   "codemirror_mode": {
    "name": "ipython",
    "version": 3
   },
   "file_extension": ".py",
   "mimetype": "text/x-python",
   "name": "python",
   "nbconvert_exporter": "python",
   "pygments_lexer": "ipython3",
   "version": "3.13.0"
  }
 },
 "nbformat": 4,
 "nbformat_minor": 4
}
