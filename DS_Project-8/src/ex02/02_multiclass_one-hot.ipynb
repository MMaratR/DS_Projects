{
 "cells": [
  {
   "cell_type": "markdown",
   "metadata": {},
   "source": [
    "# Day 08. Exercise 02\n",
    "# Multiclass classification. One-hot encoding. Random forest"
   ]
  },
  {
   "cell_type": "markdown",
   "metadata": {},
   "source": [
    "## 0. Imports"
   ]
  },
  {
   "cell_type": "code",
   "execution_count": 27,
   "metadata": {},
   "outputs": [],
   "source": [
    "import pandas as pd\n",
    "import numpy as np"
   ]
  },
  {
   "cell_type": "code",
   "execution_count": 28,
   "metadata": {},
   "outputs": [
    {
     "data": {
      "text/html": [
       "    <style>\n",
       "        .bk-notebook-logo {\n",
       "            display: block;\n",
       "            width: 20px;\n",
       "            height: 20px;\n",
       "            background-image: url(data:image/png;base64,iVBORw0KGgoAAAANSUhEUgAAABQAAAAUCAYAAACNiR0NAAAABHNCSVQICAgIfAhkiAAAAAlwSFlzAAALEgAACxIB0t1+/AAAABx0RVh0U29mdHdhcmUAQWRvYmUgRmlyZXdvcmtzIENTNui8sowAAAOkSURBVDiNjZRtaJVlGMd/1/08zzln5zjP1LWcU9N0NkN8m2CYjpgQYQXqSs0I84OLIC0hkEKoPtiH3gmKoiJDU7QpLgoLjLIQCpEsNJ1vqUOdO7ppbuec5+V+rj4ctwzd8IIbbi6u+8f1539dt3A78eXC7QizUF7gyV1fD1Yqg4JWz84yffhm0qkFqBogB9rM8tZdtwVsPUhWhGcFJngGeWrPzHm5oaMmkfEg1usvLFyc8jLRqDOMru7AyC8saQr7GG7f5fvDeH7Ej8CM66nIF+8yngt6HWaKh7k49Soy9nXurCi1o3qUbS3zWfrYeQDTB/Qj6kX6Ybhw4B+bOYoLKCC9H3Nu/leUTZ1JdRWkkn2ldcCamzrcf47KKXdAJllSlxAOkRgyHsGC/zRday5Qld9DyoM4/q/rUoy/CXh3jzOu3bHUVZeU+DEn8FInkPBFlu3+nW3Nw0mk6vCDiWg8CeJaxEwuHS3+z5RgY+YBR6V1Z1nxSOfoaPa4LASWxxdNp+VWTk7+4vzaou8v8PN+xo+KY2xsw6une2frhw05CTYOmQvsEhjhWjn0bmXPjpE1+kplmmkP3suftwTubK9Vq22qKmrBhpY4jvd5afdRA3wGjFAgcnTK2s4hY0/GPNIb0nErGMCRxWOOX64Z8RAC4oCXdklmEvcL8o0BfkNK4lUg9HTl+oPlQxdNo3Mg4Nv175e/1LDGzZen30MEjRUtmXSfiTVu1kK8W4txyV6BMKlbgk3lMwYCiusNy9fVfvvwMxv8Ynl6vxoByANLTWplvuj/nF9m2+PDtt1eiHPBr1oIfhCChQMBw6Aw0UulqTKZdfVvfG7VcfIqLG9bcldL/+pdWTLxLUy8Qq38heUIjh4XlzZxzQm19lLFlr8vdQ97rjZVOLf8nclzckbcD4wxXMidpX30sFd37Fv/GtwwhzhxGVAprjbg0gCAEeIgwCZyTV2Z1REEW8O4py0wsjeloKoMr6iCY6dP92H6Vw/oTyICIthibxjm/DfN9lVz8IqtqKYLUXfoKVMVQVVJOElGjrnnUt9T9wbgp8AyYKaGlqingHZU/uG2NTZSVqwHQTWkx9hxjkpWDaCg6Ckj5qebgBVbT3V3NNXMSiWSDdGV3hrtzla7J+duwPOToIg42ChPQOQjspnSlp1V+Gjdged7+8UN5CRAV7a5EdFNwCjEaBR27b3W890TE7g24NAP/mMDXRWrGoFPQI9ls/MWO2dWFAar/xcOIImbbpA3zgAAAABJRU5ErkJggg==);\n",
       "        }\n",
       "    </style>\n",
       "    <div>\n",
       "        <a href=\"https://bokeh.org\" target=\"_blank\" class=\"bk-notebook-logo\"></a>\n",
       "        <span id=\"d0006152-0bbf-4af7-b8ae-83d27be3032d\">Loading BokehJS ...</span>\n",
       "    </div>\n"
      ]
     },
     "metadata": {},
     "output_type": "display_data"
    },
    {
     "data": {
      "application/javascript": "'use strict';\n(function(root) {\n  function now() {\n    return new Date();\n  }\n\n  const force = true;\n\n  if (typeof root._bokeh_onload_callbacks === \"undefined\" || force === true) {\n    root._bokeh_onload_callbacks = [];\n    root._bokeh_is_loading = undefined;\n  }\n\nconst JS_MIME_TYPE = 'application/javascript';\n  const HTML_MIME_TYPE = 'text/html';\n  const EXEC_MIME_TYPE = 'application/vnd.bokehjs_exec.v0+json';\n  const CLASS_NAME = 'output_bokeh rendered_html';\n\n  /**\n   * Render data to the DOM node\n   */\n  function render(props, node) {\n    const script = document.createElement(\"script\");\n    node.appendChild(script);\n  }\n\n  /**\n   * Handle when an output is cleared or removed\n   */\n  function handleClearOutput(event, handle) {\n    function drop(id) {\n      const view = Bokeh.index.get_by_id(id)\n      if (view != null) {\n        view.model.document.clear()\n        Bokeh.index.delete(view)\n      }\n    }\n\n    const cell = handle.cell;\n\n    const id = cell.output_area._bokeh_element_id;\n    const server_id = cell.output_area._bokeh_server_id;\n\n    // Clean up Bokeh references\n    if (id != null) {\n      drop(id)\n    }\n\n    if (server_id !== undefined) {\n      // Clean up Bokeh references\n      const cmd_clean = \"from bokeh.io.state import curstate; print(curstate().uuid_to_server['\" + server_id + \"'].get_sessions()[0].document.roots[0]._id)\";\n      cell.notebook.kernel.execute(cmd_clean, {\n        iopub: {\n          output: function(msg) {\n            const id = msg.content.text.trim()\n            drop(id)\n          }\n        }\n      });\n      // Destroy server and session\n      const cmd_destroy = \"import bokeh.io.notebook as ion; ion.destroy_server('\" + server_id + \"')\";\n      cell.notebook.kernel.execute(cmd_destroy);\n    }\n  }\n\n  /**\n   * Handle when a new output is added\n   */\n  function handleAddOutput(event, handle) {\n    const output_area = handle.output_area;\n    const output = handle.output;\n\n    // limit handleAddOutput to display_data with EXEC_MIME_TYPE content only\n    if ((output.output_type != \"display_data\") || (!Object.prototype.hasOwnProperty.call(output.data, EXEC_MIME_TYPE))) {\n      return\n    }\n\n    const toinsert = output_area.element.find(\".\" + CLASS_NAME.split(' ')[0]);\n\n    if (output.metadata[EXEC_MIME_TYPE][\"id\"] !== undefined) {\n      toinsert[toinsert.length - 1].firstChild.textContent = output.data[JS_MIME_TYPE];\n      // store reference to embed id on output_area\n      output_area._bokeh_element_id = output.metadata[EXEC_MIME_TYPE][\"id\"];\n    }\n    if (output.metadata[EXEC_MIME_TYPE][\"server_id\"] !== undefined) {\n      const bk_div = document.createElement(\"div\");\n      bk_div.innerHTML = output.data[HTML_MIME_TYPE];\n      const script_attrs = bk_div.children[0].attributes;\n      for (let i = 0; i < script_attrs.length; i++) {\n        toinsert[toinsert.length - 1].firstChild.setAttribute(script_attrs[i].name, script_attrs[i].value);\n        toinsert[toinsert.length - 1].firstChild.textContent = bk_div.children[0].textContent\n      }\n      // store reference to server id on output_area\n      output_area._bokeh_server_id = output.metadata[EXEC_MIME_TYPE][\"server_id\"];\n    }\n  }\n\n  function register_renderer(events, OutputArea) {\n\n    function append_mime(data, metadata, element) {\n      // create a DOM node to render to\n      const toinsert = this.create_output_subarea(\n        metadata,\n        CLASS_NAME,\n        EXEC_MIME_TYPE\n      );\n      this.keyboard_manager.register_events(toinsert);\n      // Render to node\n      const props = {data: data, metadata: metadata[EXEC_MIME_TYPE]};\n      render(props, toinsert[toinsert.length - 1]);\n      element.append(toinsert);\n      return toinsert\n    }\n\n    /* Handle when an output is cleared or removed */\n    events.on('clear_output.CodeCell', handleClearOutput);\n    events.on('delete.Cell', handleClearOutput);\n\n    /* Handle when a new output is added */\n    events.on('output_added.OutputArea', handleAddOutput);\n\n    /**\n     * Register the mime type and append_mime function with output_area\n     */\n    OutputArea.prototype.register_mime_type(EXEC_MIME_TYPE, append_mime, {\n      /* Is output safe? */\n      safe: true,\n      /* Index of renderer in `output_area.display_order` */\n      index: 0\n    });\n  }\n\n  // register the mime type if in Jupyter Notebook environment and previously unregistered\n  if (root.Jupyter !== undefined) {\n    const events = require('base/js/events');\n    const OutputArea = require('notebook/js/outputarea').OutputArea;\n\n    if (OutputArea.prototype.mime_types().indexOf(EXEC_MIME_TYPE) == -1) {\n      register_renderer(events, OutputArea);\n    }\n  }\n  if (typeof (root._bokeh_timeout) === \"undefined\" || force === true) {\n    root._bokeh_timeout = Date.now() + 5000;\n    root._bokeh_failed_load = false;\n  }\n\n  const NB_LOAD_WARNING = {'data': {'text/html':\n     \"<div style='background-color: #fdd'>\\n\"+\n     \"<p>\\n\"+\n     \"BokehJS does not appear to have successfully loaded. If loading BokehJS from CDN, this \\n\"+\n     \"may be due to a slow or bad network connection. Possible fixes:\\n\"+\n     \"</p>\\n\"+\n     \"<ul>\\n\"+\n     \"<li>re-rerun `output_notebook()` to attempt to load from CDN again, or</li>\\n\"+\n     \"<li>use INLINE resources instead, as so:</li>\\n\"+\n     \"</ul>\\n\"+\n     \"<code>\\n\"+\n     \"from bokeh.resources import INLINE\\n\"+\n     \"output_notebook(resources=INLINE)\\n\"+\n     \"</code>\\n\"+\n     \"</div>\"}};\n\n  function display_loaded(error = null) {\n    const el = document.getElementById(\"d0006152-0bbf-4af7-b8ae-83d27be3032d\");\n    if (el != null) {\n      const html = (() => {\n        if (typeof root.Bokeh === \"undefined\") {\n          if (error == null) {\n            return \"BokehJS is loading ...\";\n          } else {\n            return \"BokehJS failed to load.\";\n          }\n        } else {\n          const prefix = `BokehJS ${root.Bokeh.version}`;\n          if (error == null) {\n            return `${prefix} successfully loaded.`;\n          } else {\n            return `${prefix} <b>encountered errors</b> while loading and may not function as expected.`;\n          }\n        }\n      })();\n      el.innerHTML = html;\n\n      if (error != null) {\n        const wrapper = document.createElement(\"div\");\n        wrapper.style.overflow = \"auto\";\n        wrapper.style.height = \"5em\";\n        wrapper.style.resize = \"vertical\";\n        const content = document.createElement(\"div\");\n        content.style.fontFamily = \"monospace\";\n        content.style.whiteSpace = \"pre-wrap\";\n        content.style.backgroundColor = \"rgb(255, 221, 221)\";\n        content.textContent = error.stack ?? error.toString();\n        wrapper.append(content);\n        el.append(wrapper);\n      }\n    } else if (Date.now() < root._bokeh_timeout) {\n      setTimeout(() => display_loaded(error), 100);\n    }\n  }\n\n  function run_callbacks() {\n    try {\n      root._bokeh_onload_callbacks.forEach(function(callback) {\n        if (callback != null)\n          callback();\n      });\n    } finally {\n      delete root._bokeh_onload_callbacks\n    }\n    console.debug(\"Bokeh: all callbacks have finished\");\n  }\n\n  function load_libs(css_urls, js_urls, callback) {\n    if (css_urls == null) css_urls = [];\n    if (js_urls == null) js_urls = [];\n\n    root._bokeh_onload_callbacks.push(callback);\n    if (root._bokeh_is_loading > 0) {\n      console.debug(\"Bokeh: BokehJS is being loaded, scheduling callback at\", now());\n      return null;\n    }\n    if (js_urls == null || js_urls.length === 0) {\n      run_callbacks();\n      return null;\n    }\n    console.debug(\"Bokeh: BokehJS not loaded, scheduling load and callback at\", now());\n    root._bokeh_is_loading = css_urls.length + js_urls.length;\n\n    function on_load() {\n      root._bokeh_is_loading--;\n      if (root._bokeh_is_loading === 0) {\n        console.debug(\"Bokeh: all BokehJS libraries/stylesheets loaded\");\n        run_callbacks()\n      }\n    }\n\n    function on_error(url) {\n      console.error(\"failed to load \" + url);\n    }\n\n    for (let i = 0; i < css_urls.length; i++) {\n      const url = css_urls[i];\n      const element = document.createElement(\"link\");\n      element.onload = on_load;\n      element.onerror = on_error.bind(null, url);\n      element.rel = \"stylesheet\";\n      element.type = \"text/css\";\n      element.href = url;\n      console.debug(\"Bokeh: injecting link tag for BokehJS stylesheet: \", url);\n      document.body.appendChild(element);\n    }\n\n    for (let i = 0; i < js_urls.length; i++) {\n      const url = js_urls[i];\n      const element = document.createElement('script');\n      element.onload = on_load;\n      element.onerror = on_error.bind(null, url);\n      element.async = false;\n      element.src = url;\n      console.debug(\"Bokeh: injecting script tag for BokehJS library: \", url);\n      document.head.appendChild(element);\n    }\n  };\n\n  function inject_raw_css(css) {\n    const element = document.createElement(\"style\");\n    element.appendChild(document.createTextNode(css));\n    document.body.appendChild(element);\n  }\n\n  const js_urls = [\"https://cdn.bokeh.org/bokeh/release/bokeh-3.6.3.min.js\", \"https://cdn.bokeh.org/bokeh/release/bokeh-gl-3.6.3.min.js\", \"https://cdn.bokeh.org/bokeh/release/bokeh-widgets-3.6.3.min.js\", \"https://cdn.bokeh.org/bokeh/release/bokeh-tables-3.6.3.min.js\", \"https://cdn.bokeh.org/bokeh/release/bokeh-mathjax-3.6.3.min.js\"];\n  const css_urls = [];\n\n  const inline_js = [    function(Bokeh) {\n      Bokeh.set_log_level(\"info\");\n    },\nfunction(Bokeh) {\n    }\n  ];\n\n  function run_inline_js() {\n    if (root.Bokeh !== undefined || force === true) {\n      try {\n            for (let i = 0; i < inline_js.length; i++) {\n      inline_js[i].call(root, root.Bokeh);\n    }\n\n      } catch (error) {display_loaded(error);throw error;\n      }if (force === true) {\n        display_loaded();\n      }} else if (Date.now() < root._bokeh_timeout) {\n      setTimeout(run_inline_js, 100);\n    } else if (!root._bokeh_failed_load) {\n      console.log(\"Bokeh: BokehJS failed to load within specified timeout.\");\n      root._bokeh_failed_load = true;\n    } else if (force !== true) {\n      const cell = $(document.getElementById(\"d0006152-0bbf-4af7-b8ae-83d27be3032d\")).parents('.cell').data().cell;\n      cell.output_area.append_execute_result(NB_LOAD_WARNING)\n    }\n  }\n\n  if (root._bokeh_is_loading === 0) {\n    console.debug(\"Bokeh: BokehJS loaded, going straight to plotting\");\n    run_inline_js();\n  } else {\n    load_libs(css_urls, js_urls, function() {\n      console.debug(\"Bokeh: BokehJS plotting callback run at\", now());\n      run_inline_js();\n    });\n  }\n}(window));",
      "application/vnd.bokehjs_load.v0+json": ""
     },
     "metadata": {},
     "output_type": "display_data"
    }
   ],
   "source": [
    "from bokeh.plotting import figure, show\n",
    "from bokeh.io import output_notebook\n",
    "from bokeh.models import ColumnDataSource\n",
    "output_notebook()"
   ]
  },
  {
   "cell_type": "code",
   "execution_count": 29,
   "metadata": {},
   "outputs": [],
   "source": [
    "from sklearn.preprocessing import OneHotEncoder, StandardScaler\n",
    "from sklearn.metrics import accuracy_score\n",
    "from sklearn.linear_model import LogisticRegression\n",
    "from sklearn.svm import SVC\n",
    "from sklearn.model_selection import GridSearchCV\n",
    "from sklearn.tree import DecisionTreeClassifier\n",
    "from sklearn.ensemble import RandomForestClassifier"
   ]
  },
  {
   "cell_type": "markdown",
   "metadata": {},
   "source": [
    "## 1. Preprocessing"
   ]
  },
  {
   "cell_type": "markdown",
   "metadata": {},
   "source": [
    "1. Прочитайте файл [`checker-submits.csv`](https://drive.google.com/file/d/14voc4fNJZiLEFaZyd8nEG-lQt5JjatYw/view?usp=sharing).\n",
    "2. Создайте кадр данных `df` со столбцами: `uid`, `labname`, `numTrials`, `hour`, `dayofweek`, где `hour` извлекается из `timestamp`, а также `dayofweek` (`0` - понедельник, `6` - воскресенье). Мы попытаемся предсказать день недели, имея данные о том, какой пользователь сделал коммит для какой лаборатории в какой час и какая это была попытка.\n",
    "3. Используя `OneHotEncoder()` преобразование категориальных признаков, удалите из датафрейма исходные столбцы.\n",
    "4. Используйте `StandardScaler()` и масштабируйте непрерывные признаки.\n",
    "5. Сохраните кадр данных в формате `dayofweek.csv`.\n",
    "6. Прежде чем пробовать различные алгоритмы, выясните точность наивного алгоритма - того, который предсказывает все как наиболее популярный класс."
   ]
  },
  {
   "cell_type": "code",
   "execution_count": 30,
   "metadata": {},
   "outputs": [
    {
     "data": {
      "text/html": [
       "<div>\n",
       "<style scoped>\n",
       "    .dataframe tbody tr th:only-of-type {\n",
       "        vertical-align: middle;\n",
       "    }\n",
       "\n",
       "    .dataframe tbody tr th {\n",
       "        vertical-align: top;\n",
       "    }\n",
       "\n",
       "    .dataframe thead th {\n",
       "        text-align: right;\n",
       "    }\n",
       "</style>\n",
       "<table border=\"1\" class=\"dataframe\">\n",
       "  <thead>\n",
       "    <tr style=\"text-align: right;\">\n",
       "      <th></th>\n",
       "      <th>uid</th>\n",
       "      <th>labname</th>\n",
       "      <th>numTrials</th>\n",
       "      <th>timestamp</th>\n",
       "      <th>hour</th>\n",
       "      <th>dayofweek</th>\n",
       "    </tr>\n",
       "  </thead>\n",
       "  <tbody>\n",
       "    <tr>\n",
       "      <th>0</th>\n",
       "      <td>user_4</td>\n",
       "      <td>project1</td>\n",
       "      <td>1</td>\n",
       "      <td>2020-04-17 05:19:02.744528</td>\n",
       "      <td>5</td>\n",
       "      <td>4</td>\n",
       "    </tr>\n",
       "    <tr>\n",
       "      <th>1</th>\n",
       "      <td>user_4</td>\n",
       "      <td>project1</td>\n",
       "      <td>2</td>\n",
       "      <td>2020-04-17 05:22:45.549397</td>\n",
       "      <td>5</td>\n",
       "      <td>4</td>\n",
       "    </tr>\n",
       "    <tr>\n",
       "      <th>2</th>\n",
       "      <td>user_4</td>\n",
       "      <td>project1</td>\n",
       "      <td>3</td>\n",
       "      <td>2020-04-17 05:34:24.422370</td>\n",
       "      <td>5</td>\n",
       "      <td>4</td>\n",
       "    </tr>\n",
       "    <tr>\n",
       "      <th>3</th>\n",
       "      <td>user_4</td>\n",
       "      <td>project1</td>\n",
       "      <td>4</td>\n",
       "      <td>2020-04-17 05:43:27.773992</td>\n",
       "      <td>5</td>\n",
       "      <td>4</td>\n",
       "    </tr>\n",
       "    <tr>\n",
       "      <th>4</th>\n",
       "      <td>user_4</td>\n",
       "      <td>project1</td>\n",
       "      <td>5</td>\n",
       "      <td>2020-04-17 05:46:32.275104</td>\n",
       "      <td>5</td>\n",
       "      <td>4</td>\n",
       "    </tr>\n",
       "  </tbody>\n",
       "</table>\n",
       "</div>"
      ],
      "text/plain": [
       "      uid   labname  numTrials                  timestamp  hour  dayofweek\n",
       "0  user_4  project1          1 2020-04-17 05:19:02.744528     5          4\n",
       "1  user_4  project1          2 2020-04-17 05:22:45.549397     5          4\n",
       "2  user_4  project1          3 2020-04-17 05:34:24.422370     5          4\n",
       "3  user_4  project1          4 2020-04-17 05:43:27.773992     5          4\n",
       "4  user_4  project1          5 2020-04-17 05:46:32.275104     5          4"
      ]
     },
     "execution_count": 30,
     "metadata": {},
     "output_type": "execute_result"
    }
   ],
   "source": [
    "df = pd.read_csv('../data/checker_submits.csv', parse_dates=['timestamp'])\n",
    "df['hour'] = df['timestamp'].dt.hour\n",
    "df['dayofweek'] = df['timestamp'].dt.dayofweek\n",
    "df.head()"
   ]
  },
  {
   "cell_type": "code",
   "execution_count": 31,
   "metadata": {},
   "outputs": [
    {
     "data": {
      "text/html": [
       "<div>\n",
       "<style scoped>\n",
       "    .dataframe tbody tr th:only-of-type {\n",
       "        vertical-align: middle;\n",
       "    }\n",
       "\n",
       "    .dataframe tbody tr th {\n",
       "        vertical-align: top;\n",
       "    }\n",
       "\n",
       "    .dataframe thead th {\n",
       "        text-align: right;\n",
       "    }\n",
       "</style>\n",
       "<table border=\"1\" class=\"dataframe\">\n",
       "  <thead>\n",
       "    <tr style=\"text-align: right;\">\n",
       "      <th></th>\n",
       "      <th>user_4</th>\n",
       "      <th>user_17</th>\n",
       "      <th>user_30</th>\n",
       "      <th>user_2</th>\n",
       "      <th>user_14</th>\n",
       "      <th>user_12</th>\n",
       "      <th>user_8</th>\n",
       "      <th>user_29</th>\n",
       "      <th>user_22</th>\n",
       "      <th>user_16</th>\n",
       "      <th>...</th>\n",
       "      <th>user_15</th>\n",
       "      <th>user_13</th>\n",
       "      <th>user_20</th>\n",
       "      <th>user_6</th>\n",
       "      <th>user_1</th>\n",
       "      <th>user_27</th>\n",
       "      <th>user_18</th>\n",
       "      <th>user_11</th>\n",
       "      <th>user_7</th>\n",
       "      <th>user_23</th>\n",
       "    </tr>\n",
       "  </thead>\n",
       "  <tbody>\n",
       "    <tr>\n",
       "      <th>0</th>\n",
       "      <td>0.0</td>\n",
       "      <td>0.0</td>\n",
       "      <td>0.0</td>\n",
       "      <td>0.0</td>\n",
       "      <td>0.0</td>\n",
       "      <td>0.0</td>\n",
       "      <td>0.0</td>\n",
       "      <td>0.0</td>\n",
       "      <td>0.0</td>\n",
       "      <td>0.0</td>\n",
       "      <td>...</td>\n",
       "      <td>0.0</td>\n",
       "      <td>0.0</td>\n",
       "      <td>0.0</td>\n",
       "      <td>0.0</td>\n",
       "      <td>0.0</td>\n",
       "      <td>0.0</td>\n",
       "      <td>1.0</td>\n",
       "      <td>0.0</td>\n",
       "      <td>0.0</td>\n",
       "      <td>0.0</td>\n",
       "    </tr>\n",
       "    <tr>\n",
       "      <th>1</th>\n",
       "      <td>0.0</td>\n",
       "      <td>0.0</td>\n",
       "      <td>0.0</td>\n",
       "      <td>0.0</td>\n",
       "      <td>0.0</td>\n",
       "      <td>0.0</td>\n",
       "      <td>0.0</td>\n",
       "      <td>0.0</td>\n",
       "      <td>0.0</td>\n",
       "      <td>0.0</td>\n",
       "      <td>...</td>\n",
       "      <td>0.0</td>\n",
       "      <td>0.0</td>\n",
       "      <td>0.0</td>\n",
       "      <td>0.0</td>\n",
       "      <td>0.0</td>\n",
       "      <td>0.0</td>\n",
       "      <td>1.0</td>\n",
       "      <td>0.0</td>\n",
       "      <td>0.0</td>\n",
       "      <td>0.0</td>\n",
       "    </tr>\n",
       "    <tr>\n",
       "      <th>2</th>\n",
       "      <td>0.0</td>\n",
       "      <td>0.0</td>\n",
       "      <td>0.0</td>\n",
       "      <td>0.0</td>\n",
       "      <td>0.0</td>\n",
       "      <td>0.0</td>\n",
       "      <td>0.0</td>\n",
       "      <td>0.0</td>\n",
       "      <td>0.0</td>\n",
       "      <td>0.0</td>\n",
       "      <td>...</td>\n",
       "      <td>0.0</td>\n",
       "      <td>0.0</td>\n",
       "      <td>0.0</td>\n",
       "      <td>0.0</td>\n",
       "      <td>0.0</td>\n",
       "      <td>0.0</td>\n",
       "      <td>1.0</td>\n",
       "      <td>0.0</td>\n",
       "      <td>0.0</td>\n",
       "      <td>0.0</td>\n",
       "    </tr>\n",
       "    <tr>\n",
       "      <th>3</th>\n",
       "      <td>0.0</td>\n",
       "      <td>0.0</td>\n",
       "      <td>0.0</td>\n",
       "      <td>0.0</td>\n",
       "      <td>0.0</td>\n",
       "      <td>0.0</td>\n",
       "      <td>0.0</td>\n",
       "      <td>0.0</td>\n",
       "      <td>0.0</td>\n",
       "      <td>0.0</td>\n",
       "      <td>...</td>\n",
       "      <td>0.0</td>\n",
       "      <td>0.0</td>\n",
       "      <td>0.0</td>\n",
       "      <td>0.0</td>\n",
       "      <td>0.0</td>\n",
       "      <td>0.0</td>\n",
       "      <td>1.0</td>\n",
       "      <td>0.0</td>\n",
       "      <td>0.0</td>\n",
       "      <td>0.0</td>\n",
       "    </tr>\n",
       "    <tr>\n",
       "      <th>4</th>\n",
       "      <td>0.0</td>\n",
       "      <td>0.0</td>\n",
       "      <td>0.0</td>\n",
       "      <td>0.0</td>\n",
       "      <td>0.0</td>\n",
       "      <td>0.0</td>\n",
       "      <td>0.0</td>\n",
       "      <td>0.0</td>\n",
       "      <td>0.0</td>\n",
       "      <td>0.0</td>\n",
       "      <td>...</td>\n",
       "      <td>0.0</td>\n",
       "      <td>0.0</td>\n",
       "      <td>0.0</td>\n",
       "      <td>0.0</td>\n",
       "      <td>0.0</td>\n",
       "      <td>0.0</td>\n",
       "      <td>1.0</td>\n",
       "      <td>0.0</td>\n",
       "      <td>0.0</td>\n",
       "      <td>0.0</td>\n",
       "    </tr>\n",
       "  </tbody>\n",
       "</table>\n",
       "<p>5 rows × 30 columns</p>\n",
       "</div>"
      ],
      "text/plain": [
       "   user_4  user_17  user_30  user_2  user_14  user_12  user_8  user_29  \\\n",
       "0     0.0      0.0      0.0     0.0      0.0      0.0     0.0      0.0   \n",
       "1     0.0      0.0      0.0     0.0      0.0      0.0     0.0      0.0   \n",
       "2     0.0      0.0      0.0     0.0      0.0      0.0     0.0      0.0   \n",
       "3     0.0      0.0      0.0     0.0      0.0      0.0     0.0      0.0   \n",
       "4     0.0      0.0      0.0     0.0      0.0      0.0     0.0      0.0   \n",
       "\n",
       "   user_22  user_16  ...  user_15  user_13  user_20  user_6  user_1  user_27  \\\n",
       "0      0.0      0.0  ...      0.0      0.0      0.0     0.0     0.0      0.0   \n",
       "1      0.0      0.0  ...      0.0      0.0      0.0     0.0     0.0      0.0   \n",
       "2      0.0      0.0  ...      0.0      0.0      0.0     0.0     0.0      0.0   \n",
       "3      0.0      0.0  ...      0.0      0.0      0.0     0.0     0.0      0.0   \n",
       "4      0.0      0.0  ...      0.0      0.0      0.0     0.0     0.0      0.0   \n",
       "\n",
       "   user_18  user_11  user_7  user_23  \n",
       "0      1.0      0.0     0.0      0.0  \n",
       "1      1.0      0.0     0.0      0.0  \n",
       "2      1.0      0.0     0.0      0.0  \n",
       "3      1.0      0.0     0.0      0.0  \n",
       "4      1.0      0.0     0.0      0.0  \n",
       "\n",
       "[5 rows x 30 columns]"
      ]
     },
     "execution_count": 31,
     "metadata": {},
     "output_type": "execute_result"
    }
   ],
   "source": [
    "onehotencoder = OneHotEncoder(handle_unknown='ignore')\n",
    "uid = onehotencoder.fit_transform(df[['uid']]).toarray()\n",
    "uid = pd.DataFrame(uid, columns=df['uid'].unique())\n",
    "uid.head()"
   ]
  },
  {
   "cell_type": "code",
   "execution_count": 32,
   "metadata": {},
   "outputs": [
    {
     "data": {
      "text/html": [
       "<div>\n",
       "<style scoped>\n",
       "    .dataframe tbody tr th:only-of-type {\n",
       "        vertical-align: middle;\n",
       "    }\n",
       "\n",
       "    .dataframe tbody tr th {\n",
       "        vertical-align: top;\n",
       "    }\n",
       "\n",
       "    .dataframe thead th {\n",
       "        text-align: right;\n",
       "    }\n",
       "</style>\n",
       "<table border=\"1\" class=\"dataframe\">\n",
       "  <thead>\n",
       "    <tr style=\"text-align: right;\">\n",
       "      <th></th>\n",
       "      <th>project1</th>\n",
       "      <th>laba04</th>\n",
       "      <th>laba04s</th>\n",
       "      <th>lab03</th>\n",
       "      <th>lab03s</th>\n",
       "      <th>lab02</th>\n",
       "      <th>code_rvw</th>\n",
       "      <th>laba05</th>\n",
       "      <th>lab05s</th>\n",
       "      <th>laba06</th>\n",
       "      <th>laba06s</th>\n",
       "    </tr>\n",
       "  </thead>\n",
       "  <tbody>\n",
       "    <tr>\n",
       "      <th>0</th>\n",
       "      <td>0.0</td>\n",
       "      <td>0.0</td>\n",
       "      <td>0.0</td>\n",
       "      <td>0.0</td>\n",
       "      <td>0.0</td>\n",
       "      <td>0.0</td>\n",
       "      <td>0.0</td>\n",
       "      <td>0.0</td>\n",
       "      <td>0.0</td>\n",
       "      <td>0.0</td>\n",
       "      <td>1.0</td>\n",
       "    </tr>\n",
       "    <tr>\n",
       "      <th>1</th>\n",
       "      <td>0.0</td>\n",
       "      <td>0.0</td>\n",
       "      <td>0.0</td>\n",
       "      <td>0.0</td>\n",
       "      <td>0.0</td>\n",
       "      <td>0.0</td>\n",
       "      <td>0.0</td>\n",
       "      <td>0.0</td>\n",
       "      <td>0.0</td>\n",
       "      <td>0.0</td>\n",
       "      <td>1.0</td>\n",
       "    </tr>\n",
       "    <tr>\n",
       "      <th>2</th>\n",
       "      <td>0.0</td>\n",
       "      <td>0.0</td>\n",
       "      <td>0.0</td>\n",
       "      <td>0.0</td>\n",
       "      <td>0.0</td>\n",
       "      <td>0.0</td>\n",
       "      <td>0.0</td>\n",
       "      <td>0.0</td>\n",
       "      <td>0.0</td>\n",
       "      <td>0.0</td>\n",
       "      <td>1.0</td>\n",
       "    </tr>\n",
       "    <tr>\n",
       "      <th>3</th>\n",
       "      <td>0.0</td>\n",
       "      <td>0.0</td>\n",
       "      <td>0.0</td>\n",
       "      <td>0.0</td>\n",
       "      <td>0.0</td>\n",
       "      <td>0.0</td>\n",
       "      <td>0.0</td>\n",
       "      <td>0.0</td>\n",
       "      <td>0.0</td>\n",
       "      <td>0.0</td>\n",
       "      <td>1.0</td>\n",
       "    </tr>\n",
       "    <tr>\n",
       "      <th>4</th>\n",
       "      <td>0.0</td>\n",
       "      <td>0.0</td>\n",
       "      <td>0.0</td>\n",
       "      <td>0.0</td>\n",
       "      <td>0.0</td>\n",
       "      <td>0.0</td>\n",
       "      <td>0.0</td>\n",
       "      <td>0.0</td>\n",
       "      <td>0.0</td>\n",
       "      <td>0.0</td>\n",
       "      <td>1.0</td>\n",
       "    </tr>\n",
       "  </tbody>\n",
       "</table>\n",
       "</div>"
      ],
      "text/plain": [
       "   project1  laba04  laba04s  lab03  lab03s  lab02  code_rvw  laba05  lab05s  \\\n",
       "0       0.0     0.0      0.0    0.0     0.0    0.0       0.0     0.0     0.0   \n",
       "1       0.0     0.0      0.0    0.0     0.0    0.0       0.0     0.0     0.0   \n",
       "2       0.0     0.0      0.0    0.0     0.0    0.0       0.0     0.0     0.0   \n",
       "3       0.0     0.0      0.0    0.0     0.0    0.0       0.0     0.0     0.0   \n",
       "4       0.0     0.0      0.0    0.0     0.0    0.0       0.0     0.0     0.0   \n",
       "\n",
       "   laba06  laba06s  \n",
       "0     0.0      1.0  \n",
       "1     0.0      1.0  \n",
       "2     0.0      1.0  \n",
       "3     0.0      1.0  \n",
       "4     0.0      1.0  "
      ]
     },
     "execution_count": 32,
     "metadata": {},
     "output_type": "execute_result"
    }
   ],
   "source": [
    "labname = onehotencoder.fit_transform(df[['labname']]).toarray()\n",
    "labname = pd.DataFrame(labname, columns=df['labname'].unique())\n",
    "labname.head()"
   ]
  },
  {
   "cell_type": "code",
   "execution_count": 33,
   "metadata": {},
   "outputs": [
    {
     "data": {
      "text/html": [
       "<div>\n",
       "<style scoped>\n",
       "    .dataframe tbody tr th:only-of-type {\n",
       "        vertical-align: middle;\n",
       "    }\n",
       "\n",
       "    .dataframe tbody tr th {\n",
       "        vertical-align: top;\n",
       "    }\n",
       "\n",
       "    .dataframe thead th {\n",
       "        text-align: right;\n",
       "    }\n",
       "</style>\n",
       "<table border=\"1\" class=\"dataframe\">\n",
       "  <thead>\n",
       "    <tr style=\"text-align: right;\">\n",
       "      <th></th>\n",
       "      <th>numTrials</th>\n",
       "      <th>hour</th>\n",
       "      <th>dayofweek</th>\n",
       "      <th>user_4</th>\n",
       "      <th>user_17</th>\n",
       "      <th>user_30</th>\n",
       "      <th>user_2</th>\n",
       "      <th>user_14</th>\n",
       "      <th>user_12</th>\n",
       "      <th>user_8</th>\n",
       "      <th>...</th>\n",
       "      <th>laba04</th>\n",
       "      <th>laba04s</th>\n",
       "      <th>lab03</th>\n",
       "      <th>lab03s</th>\n",
       "      <th>lab02</th>\n",
       "      <th>code_rvw</th>\n",
       "      <th>laba05</th>\n",
       "      <th>lab05s</th>\n",
       "      <th>laba06</th>\n",
       "      <th>laba06s</th>\n",
       "    </tr>\n",
       "  </thead>\n",
       "  <tbody>\n",
       "    <tr>\n",
       "      <th>0</th>\n",
       "      <td>1</td>\n",
       "      <td>5</td>\n",
       "      <td>4</td>\n",
       "      <td>0.0</td>\n",
       "      <td>0.0</td>\n",
       "      <td>0.0</td>\n",
       "      <td>0.0</td>\n",
       "      <td>0.0</td>\n",
       "      <td>0.0</td>\n",
       "      <td>0.0</td>\n",
       "      <td>...</td>\n",
       "      <td>0.0</td>\n",
       "      <td>0.0</td>\n",
       "      <td>0.0</td>\n",
       "      <td>0.0</td>\n",
       "      <td>0.0</td>\n",
       "      <td>0.0</td>\n",
       "      <td>0.0</td>\n",
       "      <td>0.0</td>\n",
       "      <td>0.0</td>\n",
       "      <td>1.0</td>\n",
       "    </tr>\n",
       "    <tr>\n",
       "      <th>1</th>\n",
       "      <td>2</td>\n",
       "      <td>5</td>\n",
       "      <td>4</td>\n",
       "      <td>0.0</td>\n",
       "      <td>0.0</td>\n",
       "      <td>0.0</td>\n",
       "      <td>0.0</td>\n",
       "      <td>0.0</td>\n",
       "      <td>0.0</td>\n",
       "      <td>0.0</td>\n",
       "      <td>...</td>\n",
       "      <td>0.0</td>\n",
       "      <td>0.0</td>\n",
       "      <td>0.0</td>\n",
       "      <td>0.0</td>\n",
       "      <td>0.0</td>\n",
       "      <td>0.0</td>\n",
       "      <td>0.0</td>\n",
       "      <td>0.0</td>\n",
       "      <td>0.0</td>\n",
       "      <td>1.0</td>\n",
       "    </tr>\n",
       "    <tr>\n",
       "      <th>2</th>\n",
       "      <td>3</td>\n",
       "      <td>5</td>\n",
       "      <td>4</td>\n",
       "      <td>0.0</td>\n",
       "      <td>0.0</td>\n",
       "      <td>0.0</td>\n",
       "      <td>0.0</td>\n",
       "      <td>0.0</td>\n",
       "      <td>0.0</td>\n",
       "      <td>0.0</td>\n",
       "      <td>...</td>\n",
       "      <td>0.0</td>\n",
       "      <td>0.0</td>\n",
       "      <td>0.0</td>\n",
       "      <td>0.0</td>\n",
       "      <td>0.0</td>\n",
       "      <td>0.0</td>\n",
       "      <td>0.0</td>\n",
       "      <td>0.0</td>\n",
       "      <td>0.0</td>\n",
       "      <td>1.0</td>\n",
       "    </tr>\n",
       "    <tr>\n",
       "      <th>3</th>\n",
       "      <td>4</td>\n",
       "      <td>5</td>\n",
       "      <td>4</td>\n",
       "      <td>0.0</td>\n",
       "      <td>0.0</td>\n",
       "      <td>0.0</td>\n",
       "      <td>0.0</td>\n",
       "      <td>0.0</td>\n",
       "      <td>0.0</td>\n",
       "      <td>0.0</td>\n",
       "      <td>...</td>\n",
       "      <td>0.0</td>\n",
       "      <td>0.0</td>\n",
       "      <td>0.0</td>\n",
       "      <td>0.0</td>\n",
       "      <td>0.0</td>\n",
       "      <td>0.0</td>\n",
       "      <td>0.0</td>\n",
       "      <td>0.0</td>\n",
       "      <td>0.0</td>\n",
       "      <td>1.0</td>\n",
       "    </tr>\n",
       "    <tr>\n",
       "      <th>4</th>\n",
       "      <td>5</td>\n",
       "      <td>5</td>\n",
       "      <td>4</td>\n",
       "      <td>0.0</td>\n",
       "      <td>0.0</td>\n",
       "      <td>0.0</td>\n",
       "      <td>0.0</td>\n",
       "      <td>0.0</td>\n",
       "      <td>0.0</td>\n",
       "      <td>0.0</td>\n",
       "      <td>...</td>\n",
       "      <td>0.0</td>\n",
       "      <td>0.0</td>\n",
       "      <td>0.0</td>\n",
       "      <td>0.0</td>\n",
       "      <td>0.0</td>\n",
       "      <td>0.0</td>\n",
       "      <td>0.0</td>\n",
       "      <td>0.0</td>\n",
       "      <td>0.0</td>\n",
       "      <td>1.0</td>\n",
       "    </tr>\n",
       "  </tbody>\n",
       "</table>\n",
       "<p>5 rows × 44 columns</p>\n",
       "</div>"
      ],
      "text/plain": [
       "   numTrials  hour  dayofweek  user_4  user_17  user_30  user_2  user_14  \\\n",
       "0          1     5          4     0.0      0.0      0.0     0.0      0.0   \n",
       "1          2     5          4     0.0      0.0      0.0     0.0      0.0   \n",
       "2          3     5          4     0.0      0.0      0.0     0.0      0.0   \n",
       "3          4     5          4     0.0      0.0      0.0     0.0      0.0   \n",
       "4          5     5          4     0.0      0.0      0.0     0.0      0.0   \n",
       "\n",
       "   user_12  user_8  ...  laba04  laba04s  lab03  lab03s  lab02  code_rvw  \\\n",
       "0      0.0     0.0  ...     0.0      0.0    0.0     0.0    0.0       0.0   \n",
       "1      0.0     0.0  ...     0.0      0.0    0.0     0.0    0.0       0.0   \n",
       "2      0.0     0.0  ...     0.0      0.0    0.0     0.0    0.0       0.0   \n",
       "3      0.0     0.0  ...     0.0      0.0    0.0     0.0    0.0       0.0   \n",
       "4      0.0     0.0  ...     0.0      0.0    0.0     0.0    0.0       0.0   \n",
       "\n",
       "   laba05  lab05s  laba06  laba06s  \n",
       "0     0.0     0.0     0.0      1.0  \n",
       "1     0.0     0.0     0.0      1.0  \n",
       "2     0.0     0.0     0.0      1.0  \n",
       "3     0.0     0.0     0.0      1.0  \n",
       "4     0.0     0.0     0.0      1.0  \n",
       "\n",
       "[5 rows x 44 columns]"
      ]
     },
     "execution_count": 33,
     "metadata": {},
     "output_type": "execute_result"
    }
   ],
   "source": [
    "df.drop(['uid', 'labname', 'timestamp'], axis=1, inplace=True)\n",
    "df = pd.concat([df, uid, labname], axis=1)\n",
    "df.head()"
   ]
  },
  {
   "cell_type": "code",
   "execution_count": 34,
   "metadata": {},
   "outputs": [
    {
     "data": {
      "text/html": [
       "<div>\n",
       "<style scoped>\n",
       "    .dataframe tbody tr th:only-of-type {\n",
       "        vertical-align: middle;\n",
       "    }\n",
       "\n",
       "    .dataframe tbody tr th {\n",
       "        vertical-align: top;\n",
       "    }\n",
       "\n",
       "    .dataframe thead th {\n",
       "        text-align: right;\n",
       "    }\n",
       "</style>\n",
       "<table border=\"1\" class=\"dataframe\">\n",
       "  <thead>\n",
       "    <tr style=\"text-align: right;\">\n",
       "      <th></th>\n",
       "      <th>numTrials</th>\n",
       "      <th>hour</th>\n",
       "      <th>dayofweek</th>\n",
       "      <th>user_4</th>\n",
       "      <th>user_17</th>\n",
       "      <th>user_30</th>\n",
       "      <th>user_2</th>\n",
       "      <th>user_14</th>\n",
       "      <th>user_12</th>\n",
       "      <th>user_8</th>\n",
       "      <th>...</th>\n",
       "      <th>laba04</th>\n",
       "      <th>laba04s</th>\n",
       "      <th>lab03</th>\n",
       "      <th>lab03s</th>\n",
       "      <th>lab02</th>\n",
       "      <th>code_rvw</th>\n",
       "      <th>laba05</th>\n",
       "      <th>lab05s</th>\n",
       "      <th>laba06</th>\n",
       "      <th>laba06s</th>\n",
       "    </tr>\n",
       "  </thead>\n",
       "  <tbody>\n",
       "    <tr>\n",
       "      <th>0</th>\n",
       "      <td>-0.788667</td>\n",
       "      <td>-2.562352</td>\n",
       "      <td>4</td>\n",
       "      <td>0.0</td>\n",
       "      <td>0.0</td>\n",
       "      <td>0.0</td>\n",
       "      <td>0.0</td>\n",
       "      <td>0.0</td>\n",
       "      <td>0.0</td>\n",
       "      <td>0.0</td>\n",
       "      <td>...</td>\n",
       "      <td>0.0</td>\n",
       "      <td>0.0</td>\n",
       "      <td>0.0</td>\n",
       "      <td>0.0</td>\n",
       "      <td>0.0</td>\n",
       "      <td>0.0</td>\n",
       "      <td>0.0</td>\n",
       "      <td>0.0</td>\n",
       "      <td>0.0</td>\n",
       "      <td>1.0</td>\n",
       "    </tr>\n",
       "    <tr>\n",
       "      <th>1</th>\n",
       "      <td>-0.756764</td>\n",
       "      <td>-2.562352</td>\n",
       "      <td>4</td>\n",
       "      <td>0.0</td>\n",
       "      <td>0.0</td>\n",
       "      <td>0.0</td>\n",
       "      <td>0.0</td>\n",
       "      <td>0.0</td>\n",
       "      <td>0.0</td>\n",
       "      <td>0.0</td>\n",
       "      <td>...</td>\n",
       "      <td>0.0</td>\n",
       "      <td>0.0</td>\n",
       "      <td>0.0</td>\n",
       "      <td>0.0</td>\n",
       "      <td>0.0</td>\n",
       "      <td>0.0</td>\n",
       "      <td>0.0</td>\n",
       "      <td>0.0</td>\n",
       "      <td>0.0</td>\n",
       "      <td>1.0</td>\n",
       "    </tr>\n",
       "    <tr>\n",
       "      <th>2</th>\n",
       "      <td>-0.724861</td>\n",
       "      <td>-2.562352</td>\n",
       "      <td>4</td>\n",
       "      <td>0.0</td>\n",
       "      <td>0.0</td>\n",
       "      <td>0.0</td>\n",
       "      <td>0.0</td>\n",
       "      <td>0.0</td>\n",
       "      <td>0.0</td>\n",
       "      <td>0.0</td>\n",
       "      <td>...</td>\n",
       "      <td>0.0</td>\n",
       "      <td>0.0</td>\n",
       "      <td>0.0</td>\n",
       "      <td>0.0</td>\n",
       "      <td>0.0</td>\n",
       "      <td>0.0</td>\n",
       "      <td>0.0</td>\n",
       "      <td>0.0</td>\n",
       "      <td>0.0</td>\n",
       "      <td>1.0</td>\n",
       "    </tr>\n",
       "    <tr>\n",
       "      <th>3</th>\n",
       "      <td>-0.692958</td>\n",
       "      <td>-2.562352</td>\n",
       "      <td>4</td>\n",
       "      <td>0.0</td>\n",
       "      <td>0.0</td>\n",
       "      <td>0.0</td>\n",
       "      <td>0.0</td>\n",
       "      <td>0.0</td>\n",
       "      <td>0.0</td>\n",
       "      <td>0.0</td>\n",
       "      <td>...</td>\n",
       "      <td>0.0</td>\n",
       "      <td>0.0</td>\n",
       "      <td>0.0</td>\n",
       "      <td>0.0</td>\n",
       "      <td>0.0</td>\n",
       "      <td>0.0</td>\n",
       "      <td>0.0</td>\n",
       "      <td>0.0</td>\n",
       "      <td>0.0</td>\n",
       "      <td>1.0</td>\n",
       "    </tr>\n",
       "    <tr>\n",
       "      <th>4</th>\n",
       "      <td>-0.661055</td>\n",
       "      <td>-2.562352</td>\n",
       "      <td>4</td>\n",
       "      <td>0.0</td>\n",
       "      <td>0.0</td>\n",
       "      <td>0.0</td>\n",
       "      <td>0.0</td>\n",
       "      <td>0.0</td>\n",
       "      <td>0.0</td>\n",
       "      <td>0.0</td>\n",
       "      <td>...</td>\n",
       "      <td>0.0</td>\n",
       "      <td>0.0</td>\n",
       "      <td>0.0</td>\n",
       "      <td>0.0</td>\n",
       "      <td>0.0</td>\n",
       "      <td>0.0</td>\n",
       "      <td>0.0</td>\n",
       "      <td>0.0</td>\n",
       "      <td>0.0</td>\n",
       "      <td>1.0</td>\n",
       "    </tr>\n",
       "  </tbody>\n",
       "</table>\n",
       "<p>5 rows × 44 columns</p>\n",
       "</div>"
      ],
      "text/plain": [
       "   numTrials      hour  dayofweek  user_4  user_17  user_30  user_2  user_14  \\\n",
       "0  -0.788667 -2.562352          4     0.0      0.0      0.0     0.0      0.0   \n",
       "1  -0.756764 -2.562352          4     0.0      0.0      0.0     0.0      0.0   \n",
       "2  -0.724861 -2.562352          4     0.0      0.0      0.0     0.0      0.0   \n",
       "3  -0.692958 -2.562352          4     0.0      0.0      0.0     0.0      0.0   \n",
       "4  -0.661055 -2.562352          4     0.0      0.0      0.0     0.0      0.0   \n",
       "\n",
       "   user_12  user_8  ...  laba04  laba04s  lab03  lab03s  lab02  code_rvw  \\\n",
       "0      0.0     0.0  ...     0.0      0.0    0.0     0.0    0.0       0.0   \n",
       "1      0.0     0.0  ...     0.0      0.0    0.0     0.0    0.0       0.0   \n",
       "2      0.0     0.0  ...     0.0      0.0    0.0     0.0    0.0       0.0   \n",
       "3      0.0     0.0  ...     0.0      0.0    0.0     0.0    0.0       0.0   \n",
       "4      0.0     0.0  ...     0.0      0.0    0.0     0.0    0.0       0.0   \n",
       "\n",
       "   laba05  lab05s  laba06  laba06s  \n",
       "0     0.0     0.0     0.0      1.0  \n",
       "1     0.0     0.0     0.0      1.0  \n",
       "2     0.0     0.0     0.0      1.0  \n",
       "3     0.0     0.0     0.0      1.0  \n",
       "4     0.0     0.0     0.0      1.0  \n",
       "\n",
       "[5 rows x 44 columns]"
      ]
     },
     "execution_count": 34,
     "metadata": {},
     "output_type": "execute_result"
    }
   ],
   "source": [
    "standartscaler = StandardScaler()\n",
    "df['numTrials'] = standartscaler.fit_transform(df[['numTrials']])\n",
    "df['hour'] = standartscaler.fit_transform(df[['hour']])\n",
    "df.head()"
   ]
  },
  {
   "cell_type": "code",
   "execution_count": 35,
   "metadata": {},
   "outputs": [],
   "source": [
    "# df.to_csv('../data/dayofweek.csv', index=False)"
   ]
  },
  {
   "cell_type": "code",
   "execution_count": 36,
   "metadata": {},
   "outputs": [
    {
     "name": "stdout",
     "output_type": "stream",
     "text": [
      "accuracy = 0.23487544483985764\n"
     ]
    }
   ],
   "source": [
    "print(f'accuracy = {accuracy_score([df['dayofweek'].mode()] * len(df), df['dayofweek'])}')"
   ]
  },
  {
   "cell_type": "markdown",
   "metadata": {},
   "source": [
    "## 2. Algorithms"
   ]
  },
  {
   "cell_type": "markdown",
   "metadata": {},
   "source": [
    "### a. Logreg"
   ]
  },
  {
   "cell_type": "markdown",
   "metadata": {},
   "source": [
    "1. Обучите логистическую регрессию, для базовой модели используйте `random_state=21`, `fit_intercept=False`. \n",
    "2. Рассчитайте точность.\n",
    "3. Напишите функцию, которая строит график (`barh`) с коэффициентами всех обученных моделей, именами признаков и количеством `top-n` наиболее важных признаков для отображения.\n",
    "4. Постройте график (`barh`) для базовой модели с топ-10 наиболее важных признаков (абсолютное значение) для обученной модели.\n",
    "5. Помните, что это многоклассовая классификация и `coef_` возвращает матрицу, чтобы вычислить важность признака, нужно просуммировать все индивидуальные важности признаков для всех целевых значений."
   ]
  },
  {
   "cell_type": "code",
   "execution_count": 37,
   "metadata": {},
   "outputs": [],
   "source": [
    "x = df.drop(['dayofweek'], axis=1)\n",
    "y = df['dayofweek']"
   ]
  },
  {
   "cell_type": "code",
   "execution_count": 38,
   "metadata": {},
   "outputs": [
    {
     "name": "stdout",
     "output_type": "stream",
     "text": [
      "accuracy = 0.6405693950177936\n"
     ]
    }
   ],
   "source": [
    "model = LogisticRegression(random_state=21, fit_intercept=False)\n",
    "model.fit(x, y)\n",
    "predict = model.predict(x)\n",
    "print(f'accuracy = {accuracy_score(y, predict)}')"
   ]
  },
  {
   "cell_type": "code",
   "execution_count": 39,
   "metadata": {},
   "outputs": [
    {
     "data": {
      "text/html": [
       "<div>\n",
       "<style scoped>\n",
       "    .dataframe tbody tr th:only-of-type {\n",
       "        vertical-align: middle;\n",
       "    }\n",
       "\n",
       "    .dataframe tbody tr th {\n",
       "        vertical-align: top;\n",
       "    }\n",
       "\n",
       "    .dataframe thead th {\n",
       "        text-align: right;\n",
       "    }\n",
       "</style>\n",
       "<table border=\"1\" class=\"dataframe\">\n",
       "  <thead>\n",
       "    <tr style=\"text-align: right;\">\n",
       "      <th></th>\n",
       "      <th>numTrials</th>\n",
       "      <th>hour</th>\n",
       "      <th>user_4</th>\n",
       "      <th>user_17</th>\n",
       "      <th>user_30</th>\n",
       "      <th>user_2</th>\n",
       "      <th>user_14</th>\n",
       "      <th>user_12</th>\n",
       "      <th>user_8</th>\n",
       "      <th>user_29</th>\n",
       "      <th>...</th>\n",
       "      <th>laba04</th>\n",
       "      <th>laba04s</th>\n",
       "      <th>lab03</th>\n",
       "      <th>lab03s</th>\n",
       "      <th>lab02</th>\n",
       "      <th>code_rvw</th>\n",
       "      <th>laba05</th>\n",
       "      <th>lab05s</th>\n",
       "      <th>laba06</th>\n",
       "      <th>laba06s</th>\n",
       "    </tr>\n",
       "  </thead>\n",
       "  <tbody>\n",
       "    <tr>\n",
       "      <th>0</th>\n",
       "      <td>-0.029706</td>\n",
       "      <td>0.060742</td>\n",
       "      <td>0.887855</td>\n",
       "      <td>-0.722041</td>\n",
       "      <td>-1.209618</td>\n",
       "      <td>-0.135506</td>\n",
       "      <td>0.118553</td>\n",
       "      <td>-0.242924</td>\n",
       "      <td>0.993158</td>\n",
       "      <td>-0.574370</td>\n",
       "      <td>...</td>\n",
       "      <td>0.887855</td>\n",
       "      <td>0.559050</td>\n",
       "      <td>0.560158</td>\n",
       "      <td>-0.343194</td>\n",
       "      <td>0.050205</td>\n",
       "      <td>-0.523393</td>\n",
       "      <td>-1.747894</td>\n",
       "      <td>-0.422551</td>\n",
       "      <td>-0.803889</td>\n",
       "      <td>0.227731</td>\n",
       "    </tr>\n",
       "    <tr>\n",
       "      <th>1</th>\n",
       "      <td>0.520633</td>\n",
       "      <td>-0.322071</td>\n",
       "      <td>-0.092215</td>\n",
       "      <td>-0.754495</td>\n",
       "      <td>0.478224</td>\n",
       "      <td>-0.071531</td>\n",
       "      <td>0.045304</td>\n",
       "      <td>1.872677</td>\n",
       "      <td>1.070649</td>\n",
       "      <td>-0.348605</td>\n",
       "      <td>...</td>\n",
       "      <td>-0.092215</td>\n",
       "      <td>-0.067600</td>\n",
       "      <td>-0.060694</td>\n",
       "      <td>-0.008029</td>\n",
       "      <td>0.005080</td>\n",
       "      <td>-0.754884</td>\n",
       "      <td>-1.235137</td>\n",
       "      <td>1.754113</td>\n",
       "      <td>1.382146</td>\n",
       "      <td>0.492415</td>\n",
       "    </tr>\n",
       "    <tr>\n",
       "      <th>2</th>\n",
       "      <td>0.644720</td>\n",
       "      <td>0.543219</td>\n",
       "      <td>-0.102669</td>\n",
       "      <td>-0.553443</td>\n",
       "      <td>1.531979</td>\n",
       "      <td>-0.179436</td>\n",
       "      <td>-0.437954</td>\n",
       "      <td>-0.789167</td>\n",
       "      <td>-1.999897</td>\n",
       "      <td>-0.422269</td>\n",
       "      <td>...</td>\n",
       "      <td>-0.102669</td>\n",
       "      <td>-0.026437</td>\n",
       "      <td>-0.023188</td>\n",
       "      <td>-0.512791</td>\n",
       "      <td>-0.187417</td>\n",
       "      <td>0.076019</td>\n",
       "      <td>-0.765157</td>\n",
       "      <td>-0.923292</td>\n",
       "      <td>1.650270</td>\n",
       "      <td>-0.089549</td>\n",
       "    </tr>\n",
       "    <tr>\n",
       "      <th>3</th>\n",
       "      <td>0.847089</td>\n",
       "      <td>-0.148051</td>\n",
       "      <td>-0.077951</td>\n",
       "      <td>2.079764</td>\n",
       "      <td>0.978925</td>\n",
       "      <td>-0.263650</td>\n",
       "      <td>0.122552</td>\n",
       "      <td>-1.066014</td>\n",
       "      <td>-1.895669</td>\n",
       "      <td>0.836701</td>\n",
       "      <td>...</td>\n",
       "      <td>-0.077951</td>\n",
       "      <td>-0.109452</td>\n",
       "      <td>-0.093234</td>\n",
       "      <td>-0.874854</td>\n",
       "      <td>-0.628207</td>\n",
       "      <td>0.140535</td>\n",
       "      <td>0.702804</td>\n",
       "      <td>0.579607</td>\n",
       "      <td>1.395373</td>\n",
       "      <td>1.677414</td>\n",
       "    </tr>\n",
       "    <tr>\n",
       "      <th>4</th>\n",
       "      <td>-0.808451</td>\n",
       "      <td>0.040166</td>\n",
       "      <td>-0.220369</td>\n",
       "      <td>-0.587152</td>\n",
       "      <td>-0.347626</td>\n",
       "      <td>-0.525120</td>\n",
       "      <td>-1.192528</td>\n",
       "      <td>-1.019025</td>\n",
       "      <td>-0.982025</td>\n",
       "      <td>-0.450843</td>\n",
       "      <td>...</td>\n",
       "      <td>-0.220369</td>\n",
       "      <td>-0.063324</td>\n",
       "      <td>-0.071402</td>\n",
       "      <td>-0.897463</td>\n",
       "      <td>-1.231017</td>\n",
       "      <td>-0.879798</td>\n",
       "      <td>0.822831</td>\n",
       "      <td>-1.679946</td>\n",
       "      <td>-1.985332</td>\n",
       "      <td>-0.784483</td>\n",
       "    </tr>\n",
       "    <tr>\n",
       "      <th>5</th>\n",
       "      <td>-0.795752</td>\n",
       "      <td>-0.019169</td>\n",
       "      <td>-0.219953</td>\n",
       "      <td>-0.648729</td>\n",
       "      <td>0.075317</td>\n",
       "      <td>-0.936193</td>\n",
       "      <td>-0.917360</td>\n",
       "      <td>0.513349</td>\n",
       "      <td>2.461771</td>\n",
       "      <td>-0.045063</td>\n",
       "      <td>...</td>\n",
       "      <td>-0.219953</td>\n",
       "      <td>-0.038542</td>\n",
       "      <td>-0.043516</td>\n",
       "      <td>0.395595</td>\n",
       "      <td>1.182763</td>\n",
       "      <td>0.067202</td>\n",
       "      <td>1.903114</td>\n",
       "      <td>-0.879109</td>\n",
       "      <td>-1.470127</td>\n",
       "      <td>-1.268375</td>\n",
       "    </tr>\n",
       "    <tr>\n",
       "      <th>6</th>\n",
       "      <td>-0.378532</td>\n",
       "      <td>-0.154836</td>\n",
       "      <td>-0.174698</td>\n",
       "      <td>1.186094</td>\n",
       "      <td>-1.507200</td>\n",
       "      <td>2.111436</td>\n",
       "      <td>2.261434</td>\n",
       "      <td>0.731104</td>\n",
       "      <td>0.352012</td>\n",
       "      <td>1.004449</td>\n",
       "      <td>...</td>\n",
       "      <td>-0.174698</td>\n",
       "      <td>-0.253694</td>\n",
       "      <td>-0.268123</td>\n",
       "      <td>2.240736</td>\n",
       "      <td>0.808592</td>\n",
       "      <td>1.874319</td>\n",
       "      <td>0.319439</td>\n",
       "      <td>1.571178</td>\n",
       "      <td>-0.168442</td>\n",
       "      <td>-0.255154</td>\n",
       "    </tr>\n",
       "  </tbody>\n",
       "</table>\n",
       "<p>7 rows × 43 columns</p>\n",
       "</div>"
      ],
      "text/plain": [
       "   numTrials      hour    user_4   user_17   user_30    user_2   user_14  \\\n",
       "0  -0.029706  0.060742  0.887855 -0.722041 -1.209618 -0.135506  0.118553   \n",
       "1   0.520633 -0.322071 -0.092215 -0.754495  0.478224 -0.071531  0.045304   \n",
       "2   0.644720  0.543219 -0.102669 -0.553443  1.531979 -0.179436 -0.437954   \n",
       "3   0.847089 -0.148051 -0.077951  2.079764  0.978925 -0.263650  0.122552   \n",
       "4  -0.808451  0.040166 -0.220369 -0.587152 -0.347626 -0.525120 -1.192528   \n",
       "5  -0.795752 -0.019169 -0.219953 -0.648729  0.075317 -0.936193 -0.917360   \n",
       "6  -0.378532 -0.154836 -0.174698  1.186094 -1.507200  2.111436  2.261434   \n",
       "\n",
       "    user_12    user_8   user_29  ...    laba04   laba04s     lab03    lab03s  \\\n",
       "0 -0.242924  0.993158 -0.574370  ...  0.887855  0.559050  0.560158 -0.343194   \n",
       "1  1.872677  1.070649 -0.348605  ... -0.092215 -0.067600 -0.060694 -0.008029   \n",
       "2 -0.789167 -1.999897 -0.422269  ... -0.102669 -0.026437 -0.023188 -0.512791   \n",
       "3 -1.066014 -1.895669  0.836701  ... -0.077951 -0.109452 -0.093234 -0.874854   \n",
       "4 -1.019025 -0.982025 -0.450843  ... -0.220369 -0.063324 -0.071402 -0.897463   \n",
       "5  0.513349  2.461771 -0.045063  ... -0.219953 -0.038542 -0.043516  0.395595   \n",
       "6  0.731104  0.352012  1.004449  ... -0.174698 -0.253694 -0.268123  2.240736   \n",
       "\n",
       "      lab02  code_rvw    laba05    lab05s    laba06   laba06s  \n",
       "0  0.050205 -0.523393 -1.747894 -0.422551 -0.803889  0.227731  \n",
       "1  0.005080 -0.754884 -1.235137  1.754113  1.382146  0.492415  \n",
       "2 -0.187417  0.076019 -0.765157 -0.923292  1.650270 -0.089549  \n",
       "3 -0.628207  0.140535  0.702804  0.579607  1.395373  1.677414  \n",
       "4 -1.231017 -0.879798  0.822831 -1.679946 -1.985332 -0.784483  \n",
       "5  1.182763  0.067202  1.903114 -0.879109 -1.470127 -1.268375  \n",
       "6  0.808592  1.874319  0.319439  1.571178 -0.168442 -0.255154  \n",
       "\n",
       "[7 rows x 43 columns]"
      ]
     },
     "execution_count": 39,
     "metadata": {},
     "output_type": "execute_result"
    }
   ],
   "source": [
    "coef = pd.DataFrame(model.coef_, columns=x.columns)\n",
    "coef"
   ]
  },
  {
   "cell_type": "code",
   "execution_count": 40,
   "metadata": {},
   "outputs": [],
   "source": [
    "def plot_features_bokeh(coef, features, n):\n",
    "    coef = coef.mean(axis=0)\n",
    "    coef = coef / coef.sum()\n",
    "\n",
    "    indices = coef.argsort()[::-1][:n]\n",
    "    sorted_coef = coef[indices]\n",
    "    sorted_features = features[indices].tolist()\n",
    "\n",
    "    source = ColumnDataSource(data=dict(\n",
    "        features=sorted_features,\n",
    "        coef=sorted_coef\n",
    "    ))\n",
    "\n",
    "    p = figure(\n",
    "        y_range=sorted_features,\n",
    "        title=f'Top {n} Features',\n",
    "        x_axis_label='Feature Importance',\n",
    "        y_axis_label='Features',\n",
    "        toolbar_location=None,\n",
    "        width=800,\n",
    "        height=400\n",
    "    )\n",
    "\n",
    "    p.hbar(\n",
    "        y='features',\n",
    "        right='coef',\n",
    "        height=0.5,\n",
    "        source=source,\n",
    "    )\n",
    "\n",
    "    p.x_range.start = 0\n",
    "\n",
    "    show(p)"
   ]
  },
  {
   "cell_type": "code",
   "execution_count": 41,
   "metadata": {},
   "outputs": [
    {
     "data": {
      "text/html": [
       "\n",
       "  <div id=\"a092ee5b-17b3-4d6e-9e8e-3039ee02f027\" data-root-id=\"p1200\" style=\"display: contents;\"></div>\n"
      ]
     },
     "metadata": {},
     "output_type": "display_data"
    },
    {
     "data": {
      "application/javascript": "(function(root) {\n  function embed_document(root) {\n  const docs_json = {\"79b47c5c-b752-4bc7-b7ec-fecbd49799b9\":{\"version\":\"3.6.3\",\"title\":\"Bokeh Application\",\"roots\":[{\"type\":\"object\",\"name\":\"Figure\",\"id\":\"p1200\",\"attributes\":{\"width\":800,\"height\":400,\"x_range\":{\"type\":\"object\",\"name\":\"DataRange1d\",\"id\":\"p1202\",\"attributes\":{\"start\":0}},\"y_range\":{\"type\":\"object\",\"name\":\"FactorRange\",\"id\":\"p1210\",\"attributes\":{\"factors\":[\"laba06s\",\"hour\",\"user_8\",\"laba06\",\"user_14\",\"lab03s\",\"user_3\",\"lab02\",\"laba05\",\"user_17\"]}},\"x_scale\":{\"type\":\"object\",\"name\":\"LinearScale\",\"id\":\"p1211\"},\"y_scale\":{\"type\":\"object\",\"name\":\"CategoricalScale\",\"id\":\"p1212\"},\"title\":{\"type\":\"object\",\"name\":\"Title\",\"id\":\"p1203\",\"attributes\":{\"text\":\"Top 10 Features\"}},\"renderers\":[{\"type\":\"object\",\"name\":\"GlyphRenderer\",\"id\":\"p1242\",\"attributes\":{\"data_source\":{\"type\":\"object\",\"name\":\"ColumnDataSource\",\"id\":\"p1197\",\"attributes\":{\"selected\":{\"type\":\"object\",\"name\":\"Selection\",\"id\":\"p1198\",\"attributes\":{\"indices\":[],\"line_indices\":[]}},\"selection_policy\":{\"type\":\"object\",\"name\":\"UnionRenderers\",\"id\":\"p1199\"},\"data\":{\"type\":\"map\",\"entries\":[[\"features\",[\"laba06s\",\"hour\",\"user_8\",\"laba06\",\"user_14\",\"lab03s\",\"user_3\",\"lab02\",\"laba05\",\"user_17\"]],[\"coef\",{\"type\":\"ndarray\",\"array\":{\"type\":\"bytes\",\"data\":\"lWpfkgsD5T9SSyFMjWjhPxZJ+P3xuMU/EwWjsUlJwz8TIKpiQn2zPxMgqmJCfbM/EhJjeIt1sT8R3FQWmg2xPx3E4s8AbKw/EyCqYkJ9oz8=\"},\"shape\":[10],\"dtype\":\"float64\",\"order\":\"little\"}]]}}},\"view\":{\"type\":\"object\",\"name\":\"CDSView\",\"id\":\"p1243\",\"attributes\":{\"filter\":{\"type\":\"object\",\"name\":\"AllIndices\",\"id\":\"p1244\"}}},\"glyph\":{\"type\":\"object\",\"name\":\"HBar\",\"id\":\"p1239\",\"attributes\":{\"y\":{\"type\":\"field\",\"field\":\"features\"},\"height\":{\"type\":\"value\",\"value\":0.5},\"right\":{\"type\":\"field\",\"field\":\"coef\"},\"line_color\":{\"type\":\"value\",\"value\":\"#1f77b4\"},\"fill_color\":{\"type\":\"value\",\"value\":\"#1f77b4\"}}},\"nonselection_glyph\":{\"type\":\"object\",\"name\":\"HBar\",\"id\":\"p1240\",\"attributes\":{\"y\":{\"type\":\"field\",\"field\":\"features\"},\"height\":{\"type\":\"value\",\"value\":0.5},\"right\":{\"type\":\"field\",\"field\":\"coef\"},\"line_color\":{\"type\":\"value\",\"value\":\"#1f77b4\"},\"line_alpha\":{\"type\":\"value\",\"value\":0.1},\"fill_color\":{\"type\":\"value\",\"value\":\"#1f77b4\"},\"fill_alpha\":{\"type\":\"value\",\"value\":0.1},\"hatch_alpha\":{\"type\":\"value\",\"value\":0.1}}},\"muted_glyph\":{\"type\":\"object\",\"name\":\"HBar\",\"id\":\"p1241\",\"attributes\":{\"y\":{\"type\":\"field\",\"field\":\"features\"},\"height\":{\"type\":\"value\",\"value\":0.5},\"right\":{\"type\":\"field\",\"field\":\"coef\"},\"line_color\":{\"type\":\"value\",\"value\":\"#1f77b4\"},\"line_alpha\":{\"type\":\"value\",\"value\":0.2},\"fill_color\":{\"type\":\"value\",\"value\":\"#1f77b4\"},\"fill_alpha\":{\"type\":\"value\",\"value\":0.2},\"hatch_alpha\":{\"type\":\"value\",\"value\":0.2}}}}}],\"toolbar\":{\"type\":\"object\",\"name\":\"Toolbar\",\"id\":\"p1209\",\"attributes\":{\"tools\":[{\"type\":\"object\",\"name\":\"PanTool\",\"id\":\"p1223\"},{\"type\":\"object\",\"name\":\"WheelZoomTool\",\"id\":\"p1224\",\"attributes\":{\"renderers\":\"auto\"}},{\"type\":\"object\",\"name\":\"BoxZoomTool\",\"id\":\"p1225\",\"attributes\":{\"overlay\":{\"type\":\"object\",\"name\":\"BoxAnnotation\",\"id\":\"p1226\",\"attributes\":{\"syncable\":false,\"line_color\":\"black\",\"line_alpha\":1.0,\"line_width\":2,\"line_dash\":[4,4],\"fill_color\":\"lightgrey\",\"fill_alpha\":0.5,\"level\":\"overlay\",\"visible\":false,\"left\":{\"type\":\"number\",\"value\":\"nan\"},\"right\":{\"type\":\"number\",\"value\":\"nan\"},\"top\":{\"type\":\"number\",\"value\":\"nan\"},\"bottom\":{\"type\":\"number\",\"value\":\"nan\"},\"left_units\":\"canvas\",\"right_units\":\"canvas\",\"top_units\":\"canvas\",\"bottom_units\":\"canvas\",\"handles\":{\"type\":\"object\",\"name\":\"BoxInteractionHandles\",\"id\":\"p1232\",\"attributes\":{\"all\":{\"type\":\"object\",\"name\":\"AreaVisuals\",\"id\":\"p1231\",\"attributes\":{\"fill_color\":\"white\",\"hover_fill_color\":\"lightgray\"}}}}}}}},{\"type\":\"object\",\"name\":\"SaveTool\",\"id\":\"p1233\"},{\"type\":\"object\",\"name\":\"ResetTool\",\"id\":\"p1234\"},{\"type\":\"object\",\"name\":\"HelpTool\",\"id\":\"p1235\"}]}},\"toolbar_location\":null,\"left\":[{\"type\":\"object\",\"name\":\"CategoricalAxis\",\"id\":\"p1218\",\"attributes\":{\"ticker\":{\"type\":\"object\",\"name\":\"CategoricalTicker\",\"id\":\"p1219\"},\"formatter\":{\"type\":\"object\",\"name\":\"CategoricalTickFormatter\",\"id\":\"p1220\"},\"axis_label\":\"Features\",\"major_label_policy\":{\"type\":\"object\",\"name\":\"AllLabels\",\"id\":\"p1221\"}}}],\"below\":[{\"type\":\"object\",\"name\":\"LinearAxis\",\"id\":\"p1213\",\"attributes\":{\"ticker\":{\"type\":\"object\",\"name\":\"BasicTicker\",\"id\":\"p1214\",\"attributes\":{\"mantissas\":[1,2,5]}},\"formatter\":{\"type\":\"object\",\"name\":\"BasicTickFormatter\",\"id\":\"p1215\"},\"axis_label\":\"Feature Importance\",\"major_label_policy\":{\"type\":\"object\",\"name\":\"AllLabels\",\"id\":\"p1216\"}}}],\"center\":[{\"type\":\"object\",\"name\":\"Grid\",\"id\":\"p1217\",\"attributes\":{\"axis\":{\"id\":\"p1213\"}}},{\"type\":\"object\",\"name\":\"Grid\",\"id\":\"p1222\",\"attributes\":{\"dimension\":1,\"axis\":{\"id\":\"p1218\"}}}]}}]}};\n  const render_items = [{\"docid\":\"79b47c5c-b752-4bc7-b7ec-fecbd49799b9\",\"roots\":{\"p1200\":\"a092ee5b-17b3-4d6e-9e8e-3039ee02f027\"},\"root_ids\":[\"p1200\"]}];\n  void root.Bokeh.embed.embed_items_notebook(docs_json, render_items);\n  }\n  if (root.Bokeh !== undefined) {\n    embed_document(root);\n  } else {\n    let attempts = 0;\n    const timer = setInterval(function(root) {\n      if (root.Bokeh !== undefined) {\n        clearInterval(timer);\n        embed_document(root);\n      } else {\n        attempts++;\n        if (attempts > 100) {\n          clearInterval(timer);\n          console.log(\"Bokeh: ERROR: Unable to run BokehJS code because BokehJS library is missing\");\n        }\n      }\n    }, 10, root)\n  }\n})(window);",
      "application/vnd.bokehjs_exec.v0+json": ""
     },
     "metadata": {
      "application/vnd.bokehjs_exec.v0+json": {
       "id": "p1200"
      }
     },
     "output_type": "display_data"
    }
   ],
   "source": [
    "plot_features_bokeh(model.coef_, x.columns, 10)"
   ]
  },
  {
   "cell_type": "markdown",
   "metadata": {},
   "source": [
    "### b. SVC"
   ]
  },
  {
   "cell_type": "markdown",
   "metadata": {},
   "source": [
    "1. Обучите модель `SVC`, для базовой модели используйте параметры `kernel='linear'`, `probability=True`, `random_state=21`. \n",
    "2. Попробуйте разные ядра, подсчитайте точность.\n",
    "3. Постройте график (`barh`) для базовой модели с топ-10 наиболее важных признаков (абсолютное значение) для обученной модели для линейного ядра.\n",
    "\n",
    "* По умолчанию SVC использует стратегию классификации «один против одного», поэтому в `coef_` возвращается матрица. Для расчета важности признака необходимо использовать [OneVsRestClassifier](https://scikit-learn.org/stable/modules/generated/sklearn.multiclass.OneVsRestClassifier.html) над SVC и просуммировать все импорты отдельных признаков для всех целевых значений."
   ]
  },
  {
   "cell_type": "code",
   "execution_count": 42,
   "metadata": {},
   "outputs": [
    {
     "name": "stdout",
     "output_type": "stream",
     "text": [
      "accuracy = 0.702846975088968\n"
     ]
    },
    {
     "data": {
      "text/html": [
       "\n",
       "  <div id=\"db3b054d-a3f4-49fb-863b-44e0ef49ac0f\" data-root-id=\"p1249\" style=\"display: contents;\"></div>\n"
      ]
     },
     "metadata": {},
     "output_type": "display_data"
    },
    {
     "data": {
      "application/javascript": "(function(root) {\n  function embed_document(root) {\n  const docs_json = {\"5b76009d-efb4-4f8b-838f-6295bd07e92e\":{\"version\":\"3.6.3\",\"title\":\"Bokeh Application\",\"roots\":[{\"type\":\"object\",\"name\":\"Figure\",\"id\":\"p1249\",\"attributes\":{\"width\":800,\"height\":400,\"x_range\":{\"type\":\"object\",\"name\":\"DataRange1d\",\"id\":\"p1251\",\"attributes\":{\"start\":0}},\"y_range\":{\"type\":\"object\",\"name\":\"FactorRange\",\"id\":\"p1259\",\"attributes\":{\"factors\":[\"laba06\",\"user_20\",\"laba06s\",\"user_24\",\"user_25\",\"user_21\",\"numTrials\",\"user_16\",\"lab05s\",\"user_18\"]}},\"x_scale\":{\"type\":\"object\",\"name\":\"LinearScale\",\"id\":\"p1260\"},\"y_scale\":{\"type\":\"object\",\"name\":\"CategoricalScale\",\"id\":\"p1261\"},\"title\":{\"type\":\"object\",\"name\":\"Title\",\"id\":\"p1252\",\"attributes\":{\"text\":\"Top 10 Features\"}},\"renderers\":[{\"type\":\"object\",\"name\":\"GlyphRenderer\",\"id\":\"p1291\",\"attributes\":{\"data_source\":{\"type\":\"object\",\"name\":\"ColumnDataSource\",\"id\":\"p1246\",\"attributes\":{\"selected\":{\"type\":\"object\",\"name\":\"Selection\",\"id\":\"p1247\",\"attributes\":{\"indices\":[],\"line_indices\":[]}},\"selection_policy\":{\"type\":\"object\",\"name\":\"UnionRenderers\",\"id\":\"p1248\"},\"data\":{\"type\":\"map\",\"entries\":[[\"features\",[\"laba06\",\"user_20\",\"laba06s\",\"user_24\",\"user_25\",\"user_21\",\"numTrials\",\"user_16\",\"lab05s\",\"user_18\"]],[\"coef\",{\"type\":\"ndarray\",\"array\":{\"type\":\"bytes\",\"data\":\"2xIBct48AED0taZlIKX7P7ZvDiHuBvY/YJ3KKoVM8j/VH4CdwCTxP8Tzg72l6+0/MF2WY4616D9R51kb/3TmPx3A3IsGMOY/ERubnIp15T8=\"},\"shape\":[10],\"dtype\":\"float64\",\"order\":\"little\"}]]}}},\"view\":{\"type\":\"object\",\"name\":\"CDSView\",\"id\":\"p1292\",\"attributes\":{\"filter\":{\"type\":\"object\",\"name\":\"AllIndices\",\"id\":\"p1293\"}}},\"glyph\":{\"type\":\"object\",\"name\":\"HBar\",\"id\":\"p1288\",\"attributes\":{\"y\":{\"type\":\"field\",\"field\":\"features\"},\"height\":{\"type\":\"value\",\"value\":0.5},\"right\":{\"type\":\"field\",\"field\":\"coef\"},\"line_color\":{\"type\":\"value\",\"value\":\"#1f77b4\"},\"fill_color\":{\"type\":\"value\",\"value\":\"#1f77b4\"}}},\"nonselection_glyph\":{\"type\":\"object\",\"name\":\"HBar\",\"id\":\"p1289\",\"attributes\":{\"y\":{\"type\":\"field\",\"field\":\"features\"},\"height\":{\"type\":\"value\",\"value\":0.5},\"right\":{\"type\":\"field\",\"field\":\"coef\"},\"line_color\":{\"type\":\"value\",\"value\":\"#1f77b4\"},\"line_alpha\":{\"type\":\"value\",\"value\":0.1},\"fill_color\":{\"type\":\"value\",\"value\":\"#1f77b4\"},\"fill_alpha\":{\"type\":\"value\",\"value\":0.1},\"hatch_alpha\":{\"type\":\"value\",\"value\":0.1}}},\"muted_glyph\":{\"type\":\"object\",\"name\":\"HBar\",\"id\":\"p1290\",\"attributes\":{\"y\":{\"type\":\"field\",\"field\":\"features\"},\"height\":{\"type\":\"value\",\"value\":0.5},\"right\":{\"type\":\"field\",\"field\":\"coef\"},\"line_color\":{\"type\":\"value\",\"value\":\"#1f77b4\"},\"line_alpha\":{\"type\":\"value\",\"value\":0.2},\"fill_color\":{\"type\":\"value\",\"value\":\"#1f77b4\"},\"fill_alpha\":{\"type\":\"value\",\"value\":0.2},\"hatch_alpha\":{\"type\":\"value\",\"value\":0.2}}}}}],\"toolbar\":{\"type\":\"object\",\"name\":\"Toolbar\",\"id\":\"p1258\",\"attributes\":{\"tools\":[{\"type\":\"object\",\"name\":\"PanTool\",\"id\":\"p1272\"},{\"type\":\"object\",\"name\":\"WheelZoomTool\",\"id\":\"p1273\",\"attributes\":{\"renderers\":\"auto\"}},{\"type\":\"object\",\"name\":\"BoxZoomTool\",\"id\":\"p1274\",\"attributes\":{\"overlay\":{\"type\":\"object\",\"name\":\"BoxAnnotation\",\"id\":\"p1275\",\"attributes\":{\"syncable\":false,\"line_color\":\"black\",\"line_alpha\":1.0,\"line_width\":2,\"line_dash\":[4,4],\"fill_color\":\"lightgrey\",\"fill_alpha\":0.5,\"level\":\"overlay\",\"visible\":false,\"left\":{\"type\":\"number\",\"value\":\"nan\"},\"right\":{\"type\":\"number\",\"value\":\"nan\"},\"top\":{\"type\":\"number\",\"value\":\"nan\"},\"bottom\":{\"type\":\"number\",\"value\":\"nan\"},\"left_units\":\"canvas\",\"right_units\":\"canvas\",\"top_units\":\"canvas\",\"bottom_units\":\"canvas\",\"handles\":{\"type\":\"object\",\"name\":\"BoxInteractionHandles\",\"id\":\"p1281\",\"attributes\":{\"all\":{\"type\":\"object\",\"name\":\"AreaVisuals\",\"id\":\"p1280\",\"attributes\":{\"fill_color\":\"white\",\"hover_fill_color\":\"lightgray\"}}}}}}}},{\"type\":\"object\",\"name\":\"SaveTool\",\"id\":\"p1282\"},{\"type\":\"object\",\"name\":\"ResetTool\",\"id\":\"p1283\"},{\"type\":\"object\",\"name\":\"HelpTool\",\"id\":\"p1284\"}]}},\"toolbar_location\":null,\"left\":[{\"type\":\"object\",\"name\":\"CategoricalAxis\",\"id\":\"p1267\",\"attributes\":{\"ticker\":{\"type\":\"object\",\"name\":\"CategoricalTicker\",\"id\":\"p1268\"},\"formatter\":{\"type\":\"object\",\"name\":\"CategoricalTickFormatter\",\"id\":\"p1269\"},\"axis_label\":\"Features\",\"major_label_policy\":{\"type\":\"object\",\"name\":\"AllLabels\",\"id\":\"p1270\"}}}],\"below\":[{\"type\":\"object\",\"name\":\"LinearAxis\",\"id\":\"p1262\",\"attributes\":{\"ticker\":{\"type\":\"object\",\"name\":\"BasicTicker\",\"id\":\"p1263\",\"attributes\":{\"mantissas\":[1,2,5]}},\"formatter\":{\"type\":\"object\",\"name\":\"BasicTickFormatter\",\"id\":\"p1264\"},\"axis_label\":\"Feature Importance\",\"major_label_policy\":{\"type\":\"object\",\"name\":\"AllLabels\",\"id\":\"p1265\"}}}],\"center\":[{\"type\":\"object\",\"name\":\"Grid\",\"id\":\"p1266\",\"attributes\":{\"axis\":{\"id\":\"p1262\"}}},{\"type\":\"object\",\"name\":\"Grid\",\"id\":\"p1271\",\"attributes\":{\"dimension\":1,\"axis\":{\"id\":\"p1267\"}}}]}}]}};\n  const render_items = [{\"docid\":\"5b76009d-efb4-4f8b-838f-6295bd07e92e\",\"roots\":{\"p1249\":\"db3b054d-a3f4-49fb-863b-44e0ef49ac0f\"},\"root_ids\":[\"p1249\"]}];\n  void root.Bokeh.embed.embed_items_notebook(docs_json, render_items);\n  }\n  if (root.Bokeh !== undefined) {\n    embed_document(root);\n  } else {\n    let attempts = 0;\n    const timer = setInterval(function(root) {\n      if (root.Bokeh !== undefined) {\n        clearInterval(timer);\n        embed_document(root);\n      } else {\n        attempts++;\n        if (attempts > 100) {\n          clearInterval(timer);\n          console.log(\"Bokeh: ERROR: Unable to run BokehJS code because BokehJS library is missing\");\n        }\n      }\n    }, 10, root)\n  }\n})(window);",
      "application/vnd.bokehjs_exec.v0+json": ""
     },
     "metadata": {
      "application/vnd.bokehjs_exec.v0+json": {
       "id": "p1249"
      }
     },
     "output_type": "display_data"
    }
   ],
   "source": [
    "model = SVC(kernel='linear', probability=True, random_state=21)\n",
    "model.fit(x,y)\n",
    "predict = model.predict(x)\n",
    "print(f'accuracy = {accuracy_score(y, predict)}')\n",
    "plot_features_bokeh(model.coef_, x.columns, 10)"
   ]
  },
  {
   "cell_type": "code",
   "execution_count": 43,
   "metadata": {},
   "outputs": [
    {
     "data": {
      "text/plain": [
       "{'kernel': 'poly'}"
      ]
     },
     "execution_count": 43,
     "metadata": {},
     "output_type": "execute_result"
    }
   ],
   "source": [
    "model = SVC(probability=True, random_state=21)\n",
    "param_grid = {'kernel': ['linear', 'poly', 'rbf', 'sigmoid']}\n",
    "param = GridSearchCV(model, param_grid, scoring='accuracy')\n",
    "param.fit(x, y)\n",
    "param.best_params_"
   ]
  },
  {
   "cell_type": "code",
   "execution_count": 44,
   "metadata": {},
   "outputs": [
    {
     "name": "stdout",
     "output_type": "stream",
     "text": [
      "accuracy = 0.8594306049822064\n"
     ]
    }
   ],
   "source": [
    "model = SVC(kernel='poly', probability=True, random_state=21)\n",
    "model.fit(x,y)\n",
    "predict = model.predict(x)\n",
    "print(f'accuracy = {accuracy_score(y, predict)}')"
   ]
  },
  {
   "cell_type": "markdown",
   "metadata": {},
   "source": [
    "### c. Decision tree"
   ]
  },
  {
   "cell_type": "markdown",
   "metadata": {},
   "source": [
    "1. Обучите `DecisionTreeClassifier`, используя для базовой модели `max_depth=4`, `random_state=21`. \n",
    "2. Попробуйте различные значения `max_depth`, рассчитайте точность.\n",
    "3. Постройте график (`barh`) для базовой модели с топ-10 наиболее важных признаков (абсолютное значение) для обученной модели с помощью написанной функции."
   ]
  },
  {
   "cell_type": "code",
   "execution_count": 45,
   "metadata": {},
   "outputs": [
    {
     "name": "stdout",
     "output_type": "stream",
     "text": [
      "accuracy = 0.5516014234875445\n"
     ]
    }
   ],
   "source": [
    "model = DecisionTreeClassifier(max_depth=4, random_state=21)\n",
    "model.fit(x, y)\n",
    "predict = model.predict(x)\n",
    "print(f'accuracy = {accuracy_score(y, predict)}')"
   ]
  },
  {
   "cell_type": "code",
   "execution_count": 46,
   "metadata": {},
   "outputs": [
    {
     "name": "stdout",
     "output_type": "stream",
     "text": [
      "max_depth = 2 accuracy = 0.4389086595492289\n",
      "max_depth = 4 accuracy = 0.5516014234875445\n",
      "max_depth = 6 accuracy = 0.6637010676156584\n",
      "max_depth = 8 accuracy = 0.7502965599051008\n",
      "max_depth = 10 accuracy = 0.8196915776986952\n",
      "max_depth = 12 accuracy = 0.8831553973902728\n",
      "max_depth = 14 accuracy = 0.9317912218268091\n",
      "max_depth = 16 accuracy = 0.9608540925266904\n",
      "max_depth = 18 accuracy = 0.9798339264531435\n",
      "max_depth = 20 accuracy = 0.9869513641755635\n"
     ]
    }
   ],
   "source": [
    "for i in range(2, 22, 2):\n",
    "    model = DecisionTreeClassifier(max_depth=i, random_state=42)\n",
    "    model.fit(x, y)\n",
    "    print(f'max_depth = {i} accuracy = {accuracy_score(y, model.predict(x))}')"
   ]
  },
  {
   "cell_type": "code",
   "execution_count": 47,
   "metadata": {},
   "outputs": [
    {
     "name": "stdout",
     "output_type": "stream",
     "text": [
      "accuracy = 0.9869513641755635\n"
     ]
    },
    {
     "data": {
      "text/html": [
       "\n",
       "  <div id=\"fbfa7868-1668-4be4-9988-d27f744f591c\" data-root-id=\"p1298\" style=\"display: contents;\"></div>\n"
      ]
     },
     "metadata": {},
     "output_type": "display_data"
    },
    {
     "data": {
      "application/javascript": "(function(root) {\n  function embed_document(root) {\n  const docs_json = {\"3b717029-351c-4c28-9908-13cc5e638def\":{\"version\":\"3.6.3\",\"title\":\"Bokeh Application\",\"roots\":[{\"type\":\"object\",\"name\":\"Figure\",\"id\":\"p1298\",\"attributes\":{\"width\":800,\"height\":400,\"x_range\":{\"type\":\"object\",\"name\":\"DataRange1d\",\"id\":\"p1300\",\"attributes\":{\"start\":0}},\"y_range\":{\"type\":\"object\",\"name\":\"FactorRange\",\"id\":\"p1308\",\"attributes\":{\"factors\":[\"numTrials\",\"hour\",\"laba06s\",\"user_25\",\"user_14\",\"user_6\",\"user_8\",\"user_20\",\"laba05\",\"user_18\"]}},\"x_scale\":{\"type\":\"object\",\"name\":\"LinearScale\",\"id\":\"p1309\"},\"y_scale\":{\"type\":\"object\",\"name\":\"CategoricalScale\",\"id\":\"p1310\"},\"title\":{\"type\":\"object\",\"name\":\"Title\",\"id\":\"p1301\",\"attributes\":{\"text\":\"Top 10 Features\"}},\"renderers\":[{\"type\":\"object\",\"name\":\"GlyphRenderer\",\"id\":\"p1340\",\"attributes\":{\"data_source\":{\"type\":\"object\",\"name\":\"ColumnDataSource\",\"id\":\"p1295\",\"attributes\":{\"selected\":{\"type\":\"object\",\"name\":\"Selection\",\"id\":\"p1296\",\"attributes\":{\"indices\":[],\"line_indices\":[]}},\"selection_policy\":{\"type\":\"object\",\"name\":\"UnionRenderers\",\"id\":\"p1297\"},\"data\":{\"type\":\"map\",\"entries\":[[\"features\",[\"numTrials\",\"hour\",\"laba06s\",\"user_25\",\"user_14\",\"user_6\",\"user_8\",\"user_20\",\"laba05\",\"user_18\"]],[\"coef\",{\"type\":\"ndarray\",\"array\":{\"type\":\"bytes\",\"data\":\"RhhEbUEf2D/cklBbTUq2PzcaeJgwxrM/eK68TXX+nD/uXxJ0FlecP5S3qo4iKJw/OAhhMD8tmz88ANpEdGGZP6o79M/P6Jg/+2l3Y0+qlz8=\"},\"shape\":[10],\"dtype\":\"float64\",\"order\":\"little\"}]]}}},\"view\":{\"type\":\"object\",\"name\":\"CDSView\",\"id\":\"p1341\",\"attributes\":{\"filter\":{\"type\":\"object\",\"name\":\"AllIndices\",\"id\":\"p1342\"}}},\"glyph\":{\"type\":\"object\",\"name\":\"HBar\",\"id\":\"p1337\",\"attributes\":{\"y\":{\"type\":\"field\",\"field\":\"features\"},\"height\":{\"type\":\"value\",\"value\":0.5},\"right\":{\"type\":\"field\",\"field\":\"coef\"},\"line_color\":{\"type\":\"value\",\"value\":\"#1f77b4\"},\"fill_color\":{\"type\":\"value\",\"value\":\"#1f77b4\"}}},\"nonselection_glyph\":{\"type\":\"object\",\"name\":\"HBar\",\"id\":\"p1338\",\"attributes\":{\"y\":{\"type\":\"field\",\"field\":\"features\"},\"height\":{\"type\":\"value\",\"value\":0.5},\"right\":{\"type\":\"field\",\"field\":\"coef\"},\"line_color\":{\"type\":\"value\",\"value\":\"#1f77b4\"},\"line_alpha\":{\"type\":\"value\",\"value\":0.1},\"fill_color\":{\"type\":\"value\",\"value\":\"#1f77b4\"},\"fill_alpha\":{\"type\":\"value\",\"value\":0.1},\"hatch_alpha\":{\"type\":\"value\",\"value\":0.1}}},\"muted_glyph\":{\"type\":\"object\",\"name\":\"HBar\",\"id\":\"p1339\",\"attributes\":{\"y\":{\"type\":\"field\",\"field\":\"features\"},\"height\":{\"type\":\"value\",\"value\":0.5},\"right\":{\"type\":\"field\",\"field\":\"coef\"},\"line_color\":{\"type\":\"value\",\"value\":\"#1f77b4\"},\"line_alpha\":{\"type\":\"value\",\"value\":0.2},\"fill_color\":{\"type\":\"value\",\"value\":\"#1f77b4\"},\"fill_alpha\":{\"type\":\"value\",\"value\":0.2},\"hatch_alpha\":{\"type\":\"value\",\"value\":0.2}}}}}],\"toolbar\":{\"type\":\"object\",\"name\":\"Toolbar\",\"id\":\"p1307\",\"attributes\":{\"tools\":[{\"type\":\"object\",\"name\":\"PanTool\",\"id\":\"p1321\"},{\"type\":\"object\",\"name\":\"WheelZoomTool\",\"id\":\"p1322\",\"attributes\":{\"renderers\":\"auto\"}},{\"type\":\"object\",\"name\":\"BoxZoomTool\",\"id\":\"p1323\",\"attributes\":{\"overlay\":{\"type\":\"object\",\"name\":\"BoxAnnotation\",\"id\":\"p1324\",\"attributes\":{\"syncable\":false,\"line_color\":\"black\",\"line_alpha\":1.0,\"line_width\":2,\"line_dash\":[4,4],\"fill_color\":\"lightgrey\",\"fill_alpha\":0.5,\"level\":\"overlay\",\"visible\":false,\"left\":{\"type\":\"number\",\"value\":\"nan\"},\"right\":{\"type\":\"number\",\"value\":\"nan\"},\"top\":{\"type\":\"number\",\"value\":\"nan\"},\"bottom\":{\"type\":\"number\",\"value\":\"nan\"},\"left_units\":\"canvas\",\"right_units\":\"canvas\",\"top_units\":\"canvas\",\"bottom_units\":\"canvas\",\"handles\":{\"type\":\"object\",\"name\":\"BoxInteractionHandles\",\"id\":\"p1330\",\"attributes\":{\"all\":{\"type\":\"object\",\"name\":\"AreaVisuals\",\"id\":\"p1329\",\"attributes\":{\"fill_color\":\"white\",\"hover_fill_color\":\"lightgray\"}}}}}}}},{\"type\":\"object\",\"name\":\"SaveTool\",\"id\":\"p1331\"},{\"type\":\"object\",\"name\":\"ResetTool\",\"id\":\"p1332\"},{\"type\":\"object\",\"name\":\"HelpTool\",\"id\":\"p1333\"}]}},\"toolbar_location\":null,\"left\":[{\"type\":\"object\",\"name\":\"CategoricalAxis\",\"id\":\"p1316\",\"attributes\":{\"ticker\":{\"type\":\"object\",\"name\":\"CategoricalTicker\",\"id\":\"p1317\"},\"formatter\":{\"type\":\"object\",\"name\":\"CategoricalTickFormatter\",\"id\":\"p1318\"},\"axis_label\":\"Features\",\"major_label_policy\":{\"type\":\"object\",\"name\":\"AllLabels\",\"id\":\"p1319\"}}}],\"below\":[{\"type\":\"object\",\"name\":\"LinearAxis\",\"id\":\"p1311\",\"attributes\":{\"ticker\":{\"type\":\"object\",\"name\":\"BasicTicker\",\"id\":\"p1312\",\"attributes\":{\"mantissas\":[1,2,5]}},\"formatter\":{\"type\":\"object\",\"name\":\"BasicTickFormatter\",\"id\":\"p1313\"},\"axis_label\":\"Feature Importance\",\"major_label_policy\":{\"type\":\"object\",\"name\":\"AllLabels\",\"id\":\"p1314\"}}}],\"center\":[{\"type\":\"object\",\"name\":\"Grid\",\"id\":\"p1315\",\"attributes\":{\"axis\":{\"id\":\"p1311\"}}},{\"type\":\"object\",\"name\":\"Grid\",\"id\":\"p1320\",\"attributes\":{\"dimension\":1,\"axis\":{\"id\":\"p1316\"}}}]}}]}};\n  const render_items = [{\"docid\":\"3b717029-351c-4c28-9908-13cc5e638def\",\"roots\":{\"p1298\":\"fbfa7868-1668-4be4-9988-d27f744f591c\"},\"root_ids\":[\"p1298\"]}];\n  void root.Bokeh.embed.embed_items_notebook(docs_json, render_items);\n  }\n  if (root.Bokeh !== undefined) {\n    embed_document(root);\n  } else {\n    let attempts = 0;\n    const timer = setInterval(function(root) {\n      if (root.Bokeh !== undefined) {\n        clearInterval(timer);\n        embed_document(root);\n      } else {\n        attempts++;\n        if (attempts > 100) {\n          clearInterval(timer);\n          console.log(\"Bokeh: ERROR: Unable to run BokehJS code because BokehJS library is missing\");\n        }\n      }\n    }, 10, root)\n  }\n})(window);",
      "application/vnd.bokehjs_exec.v0+json": ""
     },
     "metadata": {
      "application/vnd.bokehjs_exec.v0+json": {
       "id": "p1298"
      }
     },
     "output_type": "display_data"
    }
   ],
   "source": [
    "model = DecisionTreeClassifier(max_depth=20, random_state=21)\n",
    "model.fit(x, y)\n",
    "predict = model.predict(x)\n",
    "print(f'accuracy = {accuracy_score(y, predict)}')\n",
    "coef = pd.DataFrame(model.feature_importances_).T\n",
    "plot_features_bokeh(coef, x.columns, 10)"
   ]
  },
  {
   "cell_type": "markdown",
   "metadata": {},
   "source": [
    "### d. Random forest"
   ]
  },
  {
   "cell_type": "markdown",
   "metadata": {},
   "source": [
    "В реальной жизни лес - это набор деревьев. То же самое происходит и с машинным обучением. Случайный лес - это набор отдельных деревьев решений (более подробную информацию можно найти в документации).\n",
    "\n",
    "1. Обучите `RandomForestClassifier`, используя для базовой модели параметры `n_estimators=100`, `max_depth=25`, `random_state=21`. \n",
    "2. Попробуйте различные значения `max_depth` и `n_estimators`, рассчитайте точность.\n",
    "3. Постройте график (`barh`) для базовой модели с топ-10 наиболее важных признаков (абсолютное значение) для обученной модели с помощью написанной функции."
   ]
  },
  {
   "cell_type": "code",
   "execution_count": 48,
   "metadata": {},
   "outputs": [
    {
     "name": "stdout",
     "output_type": "stream",
     "text": [
      "accuracy = 1.0\n"
     ]
    },
    {
     "data": {
      "text/html": [
       "\n",
       "  <div id=\"e6260484-921d-4883-a09f-69bf95da662f\" data-root-id=\"p1347\" style=\"display: contents;\"></div>\n"
      ]
     },
     "metadata": {},
     "output_type": "display_data"
    },
    {
     "data": {
      "application/javascript": "(function(root) {\n  function embed_document(root) {\n  const docs_json = {\"0a18caca-1cfb-4de4-a2a2-076f0a4ee8ae\":{\"version\":\"3.6.3\",\"title\":\"Bokeh Application\",\"roots\":[{\"type\":\"object\",\"name\":\"Figure\",\"id\":\"p1347\",\"attributes\":{\"width\":800,\"height\":400,\"x_range\":{\"type\":\"object\",\"name\":\"DataRange1d\",\"id\":\"p1349\",\"attributes\":{\"start\":0}},\"y_range\":{\"type\":\"object\",\"name\":\"FactorRange\",\"id\":\"p1357\",\"attributes\":{\"factors\":[\"numTrials\",\"hour\",\"laba06s\",\"laba05\",\"user_26\",\"user_25\",\"user_8\",\"user_6\",\"user_3\",\"user_20\"]}},\"x_scale\":{\"type\":\"object\",\"name\":\"LinearScale\",\"id\":\"p1358\"},\"y_scale\":{\"type\":\"object\",\"name\":\"CategoricalScale\",\"id\":\"p1359\"},\"title\":{\"type\":\"object\",\"name\":\"Title\",\"id\":\"p1350\",\"attributes\":{\"text\":\"Top 10 Features\"}},\"renderers\":[{\"type\":\"object\",\"name\":\"GlyphRenderer\",\"id\":\"p1389\",\"attributes\":{\"data_source\":{\"type\":\"object\",\"name\":\"ColumnDataSource\",\"id\":\"p1344\",\"attributes\":{\"selected\":{\"type\":\"object\",\"name\":\"Selection\",\"id\":\"p1345\",\"attributes\":{\"indices\":[],\"line_indices\":[]}},\"selection_policy\":{\"type\":\"object\",\"name\":\"UnionRenderers\",\"id\":\"p1346\"},\"data\":{\"type\":\"map\",\"entries\":[[\"features\",[\"numTrials\",\"hour\",\"laba06s\",\"laba05\",\"user_26\",\"user_25\",\"user_8\",\"user_6\",\"user_3\",\"user_20\"]],[\"coef\",{\"type\":\"ndarray\",\"array\":{\"type\":\"bytes\",\"data\":\"foJOXkc+0j+WDVL21PLGP3JhvKMVDa4/sXgIltG5nj8xSwJ1yKidP9aVIaHNq5w/HhynV2L0mz/WMGBcd0OaP+37hFCwRJY/zavBppATlj8=\"},\"shape\":[10],\"dtype\":\"float64\",\"order\":\"little\"}]]}}},\"view\":{\"type\":\"object\",\"name\":\"CDSView\",\"id\":\"p1390\",\"attributes\":{\"filter\":{\"type\":\"object\",\"name\":\"AllIndices\",\"id\":\"p1391\"}}},\"glyph\":{\"type\":\"object\",\"name\":\"HBar\",\"id\":\"p1386\",\"attributes\":{\"y\":{\"type\":\"field\",\"field\":\"features\"},\"height\":{\"type\":\"value\",\"value\":0.5},\"right\":{\"type\":\"field\",\"field\":\"coef\"},\"line_color\":{\"type\":\"value\",\"value\":\"#1f77b4\"},\"fill_color\":{\"type\":\"value\",\"value\":\"#1f77b4\"}}},\"nonselection_glyph\":{\"type\":\"object\",\"name\":\"HBar\",\"id\":\"p1387\",\"attributes\":{\"y\":{\"type\":\"field\",\"field\":\"features\"},\"height\":{\"type\":\"value\",\"value\":0.5},\"right\":{\"type\":\"field\",\"field\":\"coef\"},\"line_color\":{\"type\":\"value\",\"value\":\"#1f77b4\"},\"line_alpha\":{\"type\":\"value\",\"value\":0.1},\"fill_color\":{\"type\":\"value\",\"value\":\"#1f77b4\"},\"fill_alpha\":{\"type\":\"value\",\"value\":0.1},\"hatch_alpha\":{\"type\":\"value\",\"value\":0.1}}},\"muted_glyph\":{\"type\":\"object\",\"name\":\"HBar\",\"id\":\"p1388\",\"attributes\":{\"y\":{\"type\":\"field\",\"field\":\"features\"},\"height\":{\"type\":\"value\",\"value\":0.5},\"right\":{\"type\":\"field\",\"field\":\"coef\"},\"line_color\":{\"type\":\"value\",\"value\":\"#1f77b4\"},\"line_alpha\":{\"type\":\"value\",\"value\":0.2},\"fill_color\":{\"type\":\"value\",\"value\":\"#1f77b4\"},\"fill_alpha\":{\"type\":\"value\",\"value\":0.2},\"hatch_alpha\":{\"type\":\"value\",\"value\":0.2}}}}}],\"toolbar\":{\"type\":\"object\",\"name\":\"Toolbar\",\"id\":\"p1356\",\"attributes\":{\"tools\":[{\"type\":\"object\",\"name\":\"PanTool\",\"id\":\"p1370\"},{\"type\":\"object\",\"name\":\"WheelZoomTool\",\"id\":\"p1371\",\"attributes\":{\"renderers\":\"auto\"}},{\"type\":\"object\",\"name\":\"BoxZoomTool\",\"id\":\"p1372\",\"attributes\":{\"overlay\":{\"type\":\"object\",\"name\":\"BoxAnnotation\",\"id\":\"p1373\",\"attributes\":{\"syncable\":false,\"line_color\":\"black\",\"line_alpha\":1.0,\"line_width\":2,\"line_dash\":[4,4],\"fill_color\":\"lightgrey\",\"fill_alpha\":0.5,\"level\":\"overlay\",\"visible\":false,\"left\":{\"type\":\"number\",\"value\":\"nan\"},\"right\":{\"type\":\"number\",\"value\":\"nan\"},\"top\":{\"type\":\"number\",\"value\":\"nan\"},\"bottom\":{\"type\":\"number\",\"value\":\"nan\"},\"left_units\":\"canvas\",\"right_units\":\"canvas\",\"top_units\":\"canvas\",\"bottom_units\":\"canvas\",\"handles\":{\"type\":\"object\",\"name\":\"BoxInteractionHandles\",\"id\":\"p1379\",\"attributes\":{\"all\":{\"type\":\"object\",\"name\":\"AreaVisuals\",\"id\":\"p1378\",\"attributes\":{\"fill_color\":\"white\",\"hover_fill_color\":\"lightgray\"}}}}}}}},{\"type\":\"object\",\"name\":\"SaveTool\",\"id\":\"p1380\"},{\"type\":\"object\",\"name\":\"ResetTool\",\"id\":\"p1381\"},{\"type\":\"object\",\"name\":\"HelpTool\",\"id\":\"p1382\"}]}},\"toolbar_location\":null,\"left\":[{\"type\":\"object\",\"name\":\"CategoricalAxis\",\"id\":\"p1365\",\"attributes\":{\"ticker\":{\"type\":\"object\",\"name\":\"CategoricalTicker\",\"id\":\"p1366\"},\"formatter\":{\"type\":\"object\",\"name\":\"CategoricalTickFormatter\",\"id\":\"p1367\"},\"axis_label\":\"Features\",\"major_label_policy\":{\"type\":\"object\",\"name\":\"AllLabels\",\"id\":\"p1368\"}}}],\"below\":[{\"type\":\"object\",\"name\":\"LinearAxis\",\"id\":\"p1360\",\"attributes\":{\"ticker\":{\"type\":\"object\",\"name\":\"BasicTicker\",\"id\":\"p1361\",\"attributes\":{\"mantissas\":[1,2,5]}},\"formatter\":{\"type\":\"object\",\"name\":\"BasicTickFormatter\",\"id\":\"p1362\"},\"axis_label\":\"Feature Importance\",\"major_label_policy\":{\"type\":\"object\",\"name\":\"AllLabels\",\"id\":\"p1363\"}}}],\"center\":[{\"type\":\"object\",\"name\":\"Grid\",\"id\":\"p1364\",\"attributes\":{\"axis\":{\"id\":\"p1360\"}}},{\"type\":\"object\",\"name\":\"Grid\",\"id\":\"p1369\",\"attributes\":{\"dimension\":1,\"axis\":{\"id\":\"p1365\"}}}]}}]}};\n  const render_items = [{\"docid\":\"0a18caca-1cfb-4de4-a2a2-076f0a4ee8ae\",\"roots\":{\"p1347\":\"e6260484-921d-4883-a09f-69bf95da662f\"},\"root_ids\":[\"p1347\"]}];\n  void root.Bokeh.embed.embed_items_notebook(docs_json, render_items);\n  }\n  if (root.Bokeh !== undefined) {\n    embed_document(root);\n  } else {\n    let attempts = 0;\n    const timer = setInterval(function(root) {\n      if (root.Bokeh !== undefined) {\n        clearInterval(timer);\n        embed_document(root);\n      } else {\n        attempts++;\n        if (attempts > 100) {\n          clearInterval(timer);\n          console.log(\"Bokeh: ERROR: Unable to run BokehJS code because BokehJS library is missing\");\n        }\n      }\n    }, 10, root)\n  }\n})(window);",
      "application/vnd.bokehjs_exec.v0+json": ""
     },
     "metadata": {
      "application/vnd.bokehjs_exec.v0+json": {
       "id": "p1347"
      }
     },
     "output_type": "display_data"
    }
   ],
   "source": [
    "model = RandomForestClassifier(n_estimators=100, max_depth=25, random_state=21)\n",
    "model.fit(x, y)\n",
    "predict = model.predict(x)\n",
    "print(f'accuracy = {accuracy_score(y, predict)}')\n",
    "coef = pd.DataFrame(model.feature_importances_).T\n",
    "plot_features_bokeh(coef, x.columns, 10)"
   ]
  },
  {
   "cell_type": "code",
   "execution_count": 49,
   "metadata": {},
   "outputs": [
    {
     "name": "stdout",
     "output_type": "stream",
     "text": [
      "n_estimators = 20 max_depth = 5 accuracy = 0.5830367734282325\n",
      "n_estimators = 20 max_depth = 10 accuracy = 0.891459074733096\n",
      "n_estimators = 20 max_depth = 15 accuracy = 0.9644128113879004\n",
      "n_estimators = 20 max_depth = 20 accuracy = 0.994661921708185\n",
      "n_estimators = 20 max_depth = 25 accuracy = 0.998220640569395\n",
      "n_estimators = 40 max_depth = 5 accuracy = 0.5925266903914591\n",
      "n_estimators = 40 max_depth = 10 accuracy = 0.8807829181494662\n",
      "n_estimators = 40 max_depth = 15 accuracy = 0.9768683274021353\n",
      "n_estimators = 40 max_depth = 20 accuracy = 0.9970344009489917\n",
      "n_estimators = 40 max_depth = 25 accuracy = 1.0\n",
      "n_estimators = 60 max_depth = 5 accuracy = 0.5747330960854092\n",
      "n_estimators = 60 max_depth = 10 accuracy = 0.8766310794780545\n",
      "n_estimators = 60 max_depth = 15 accuracy = 0.9792408066429419\n",
      "n_estimators = 60 max_depth = 20 accuracy = 0.9958481613285883\n",
      "n_estimators = 60 max_depth = 25 accuracy = 1.0\n",
      "n_estimators = 80 max_depth = 5 accuracy = 0.5830367734282325\n",
      "n_estimators = 80 max_depth = 10 accuracy = 0.8778173190984578\n",
      "n_estimators = 80 max_depth = 15 accuracy = 0.9792408066429419\n",
      "n_estimators = 80 max_depth = 20 accuracy = 0.9952550415183867\n",
      "n_estimators = 80 max_depth = 25 accuracy = 1.0\n",
      "n_estimators = 100 max_depth = 5 accuracy = 0.5794780545670225\n",
      "n_estimators = 100 max_depth = 10 accuracy = 0.8855278766310795\n",
      "n_estimators = 100 max_depth = 15 accuracy = 0.9780545670225386\n",
      "n_estimators = 100 max_depth = 20 accuracy = 0.99644128113879\n",
      "n_estimators = 100 max_depth = 25 accuracy = 1.0\n"
     ]
    }
   ],
   "source": [
    "for i in range(20, 120, 20):\n",
    "    for j in range(5, 30, 5):\n",
    "        model = RandomForestClassifier(n_estimators=i, max_depth=j, random_state=21)\n",
    "        model.fit(x, y)\n",
    "        print(f'n_estimators = {i} max_depth = {j} accuracy = {accuracy_score(y, model.predict(x))}')"
   ]
  }
 ],
 "metadata": {
  "kernelspec": {
   "display_name": "data",
   "language": "python",
   "name": "python3"
  },
  "language_info": {
   "codemirror_mode": {
    "name": "ipython",
    "version": 3
   },
   "file_extension": ".py",
   "mimetype": "text/x-python",
   "name": "python",
   "nbconvert_exporter": "python",
   "pygments_lexer": "ipython3",
   "version": "3.13.0"
  }
 },
 "nbformat": 4,
 "nbformat_minor": 4
}
